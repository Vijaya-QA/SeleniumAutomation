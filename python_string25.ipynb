{
  "nbformat": 4,
  "nbformat_minor": 0,
  "metadata": {
    "colab": {
      "provenance": [],
      "authorship_tag": "ABX9TyPErX8mpWLDVRWjghtxlDaE",
      "include_colab_link": true
    },
    "kernelspec": {
      "name": "python3",
      "display_name": "Python 3"
    },
    "language_info": {
      "name": "python"
    }
  },
  "cells": [
    {
      "cell_type": "markdown",
      "metadata": {
        "id": "view-in-github",
        "colab_type": "text"
      },
      "source": [
        "<a href=\"https://colab.research.google.com/github/Vijaya-QA/SeleniumAutomation/blob/DSML/python_string25.ipynb\" target=\"_parent\"><img src=\"https://colab.research.google.com/assets/colab-badge.svg\" alt=\"Open In Colab\"/></a>"
      ]
    },
    {
      "cell_type": "markdown",
      "source": [
        "# 25 easy-level Python string questions\n",
        "# 1.Count characters in a string\n",
        "Input: \"hello\" → Output: 5"
      ],
      "metadata": {
        "id": "zvBBZqFoteLJ"
      }
    },
    {
      "cell_type": "code",
      "source": [
        "word = input(\"enter a word:\")\n",
        "count = 0\n",
        "for char in word:\n",
        "  count+= 1\n",
        "print(f\"number of characters in a word: {count}\")"
      ],
      "metadata": {
        "colab": {
          "base_uri": "https://localhost:8080/"
        },
        "id": "05LCWp7ltrwj",
        "outputId": "b90eb9cc-5938-483e-92be-c5f1a8abfac1"
      },
      "execution_count": 1,
      "outputs": [
        {
          "output_type": "stream",
          "name": "stdout",
          "text": [
            "enter a word:hello\n",
            "number of characters in a word: 5\n"
          ]
        }
      ]
    },
    {
      "cell_type": "markdown",
      "source": [
        "# 2.Print each character in a string on a new line"
      ],
      "metadata": {
        "id": "Thvy3YGbuT8T"
      }
    },
    {
      "cell_type": "code",
      "source": [
        "word = input(\"enter a word:\")\n",
        "for char in word:\n",
        "  print(char)"
      ],
      "metadata": {
        "colab": {
          "base_uri": "https://localhost:8080/"
        },
        "id": "U_3Yhb2IueSS",
        "outputId": "7e834652-589e-4ee1-8513-4b4c3c5ac8c7"
      },
      "execution_count": 2,
      "outputs": [
        {
          "output_type": "stream",
          "name": "stdout",
          "text": [
            "enter a word:hello\n",
            "h\n",
            "e\n",
            "l\n",
            "l\n",
            "o\n"
          ]
        }
      ]
    },
    {
      "cell_type": "code",
      "source": [
        "word = input(\"enter a word:\")\n",
        "print(f\"last char in word is: {word[len(word)-1]}\")\n",
        "for i in range(0, (len(word))):#for i in range(start, stop):\tLoop from start to stop-1\n",
        "  print(word[i])"
      ],
      "metadata": {
        "colab": {
          "base_uri": "https://localhost:8080/"
        },
        "id": "l08FQZd9PJqt",
        "outputId": "6bc336fa-7117-44ac-e2a5-dd19832d315c"
      },
      "execution_count": 7,
      "outputs": [
        {
          "output_type": "stream",
          "name": "stdout",
          "text": [
            "enter a word:hello\n",
            "last char in word is: o\n",
            "h\n",
            "e\n",
            "l\n",
            "l\n",
            "o\n"
          ]
        }
      ]
    },
    {
      "cell_type": "markdown",
      "source": [
        "# 3.Concatenate two strings\n",
        "Input: \"hello\", \"world\" → Output: \"helloworld\""
      ],
      "metadata": {
        "id": "PHTz15bNuwOw"
      }
    },
    {
      "cell_type": "code",
      "source": [
        "word1 = input(\"enter a word1:\")\n",
        "word2 = input(\"enter a word2:\")\n",
        "print(f\"concatenation of {word1}, {word2} is: {word1+word2}\")"
      ],
      "metadata": {
        "colab": {
          "base_uri": "https://localhost:8080/"
        },
        "id": "cB8sW_kau2TR",
        "outputId": "292a7d73-5f14-42b2-b121-0632dae63f5b"
      },
      "execution_count": 3,
      "outputs": [
        {
          "output_type": "stream",
          "name": "stdout",
          "text": [
            "enter a word1:hello\n",
            "enter a word2:world\n",
            "concatenation of hello, world is: helloworld\n"
          ]
        }
      ]
    },
    {
      "cell_type": "code",
      "source": [
        "word1 = input(\"enter a word1:\")\n",
        "word2 = input(\"enter a word2:\")\n",
        "print(f\"concatenation of {word1}, {word2} is: {word1+' '+word2}\")"
      ],
      "metadata": {
        "colab": {
          "base_uri": "https://localhost:8080/"
        },
        "id": "Iyil2Wy2vY4J",
        "outputId": "eeeb3c39-8f69-4211-b713-3c6e542bb107"
      },
      "execution_count": 6,
      "outputs": [
        {
          "output_type": "stream",
          "name": "stdout",
          "text": [
            "enter a word1:hello\n",
            "enter a word2:world\n",
            "concatenation of hello, world is: hello world\n"
          ]
        }
      ]
    },
    {
      "cell_type": "code",
      "source": [
        "word1 = input(\"enter a word1:\")\n",
        "word2 = input(\"enter a word2:\")\n",
        "print(f\"concatenation of {word1}, {word2} is: {word1} {word2}\")"
      ],
      "metadata": {
        "colab": {
          "base_uri": "https://localhost:8080/"
        },
        "id": "JJ9lCGeHvviB",
        "outputId": "f07edd04-b18f-4353-9401-49e09d1e023b"
      },
      "execution_count": 7,
      "outputs": [
        {
          "output_type": "stream",
          "name": "stdout",
          "text": [
            "enter a word1:hello\n",
            "enter a word2:world\n",
            "concatenation of hello, world is: hello world\n"
          ]
        }
      ]
    },
    {
      "cell_type": "markdown",
      "source": [
        "# 4. Convert string to uppercase\n",
        "Input: \"python\" → Output: \"PYTHON\""
      ],
      "metadata": {
        "id": "Un4cpsRGw5uY"
      }
    },
    {
      "cell_type": "code",
      "source": [
        "word = input(\"enter a word:\")\n",
        "print(word.upper())"
      ],
      "metadata": {
        "colab": {
          "base_uri": "https://localhost:8080/"
        },
        "id": "UwZS331gxBEq",
        "outputId": "b45a9ec1-fd0a-4984-ad78-b0b102f4632f"
      },
      "execution_count": 8,
      "outputs": [
        {
          "output_type": "stream",
          "name": "stdout",
          "text": [
            "enter a word:hello\n",
            "HELLO\n"
          ]
        }
      ]
    },
    {
      "cell_type": "markdown",
      "source": [
        "# 5.Convert string to lowercase\n",
        "Input: \"PYTHON\" → Output: \"python\"\n",
        "\n"
      ],
      "metadata": {
        "id": "BObrrOj0x4GR"
      }
    },
    {
      "cell_type": "code",
      "source": [
        "word = input(\"enter a word:\")\n",
        "print(word.lower())"
      ],
      "metadata": {
        "colab": {
          "base_uri": "https://localhost:8080/"
        },
        "id": "tHGkjXKkxkzZ",
        "outputId": "7ef68588-5170-4166-cb01-2f56952be0cf"
      },
      "execution_count": 10,
      "outputs": [
        {
          "output_type": "stream",
          "name": "stdout",
          "text": [
            "enter a word:HELLO\n",
            "hello\n"
          ]
        }
      ]
    },
    {
      "cell_type": "markdown",
      "source": [
        "# 6.Reverse a string\n",
        "Input: \"hello\" → Output: \"olleh\""
      ],
      "metadata": {
        "id": "SnBeSHGsxqeD"
      }
    },
    {
      "cell_type": "code",
      "source": [
        "word = input(\"enter a word:\")\n",
        "length = len(word)\n",
        "rev_word = \"\"\n",
        "for i in range((length-1), -1, -1):\n",
        "  rev_word = rev_word + word[i]\n",
        "print(rev_word)"
      ],
      "metadata": {
        "colab": {
          "base_uri": "https://localhost:8080/"
        },
        "id": "Z693CbjfyF0J",
        "outputId": "b050b5e2-4646-4a7d-f0dc-185018f61334"
      },
      "execution_count": 16,
      "outputs": [
        {
          "output_type": "stream",
          "name": "stdout",
          "text": [
            "enter a word:hello\n",
            "olleh\n"
          ]
        }
      ]
    },
    {
      "cell_type": "markdown",
      "source": [
        "# 7.Print first 3 characters\n",
        "Input: \"python\" → Output: \"pyt\""
      ],
      "metadata": {
        "id": "Vi2tqiri1QM7"
      }
    },
    {
      "cell_type": "code",
      "source": [
        "word = input(\"enter a word:\")\n",
        "print(f\"first 3 chars in {word} is: {word[:3]}\")"
      ],
      "metadata": {
        "colab": {
          "base_uri": "https://localhost:8080/"
        },
        "id": "wDyZUGnk1bCY",
        "outputId": "d0f4f28c-ff40-4ac4-e841-640d26ff0584"
      },
      "execution_count": 17,
      "outputs": [
        {
          "output_type": "stream",
          "name": "stdout",
          "text": [
            "enter a word:python\n",
            "first 3 chars in python is: pyt\n"
          ]
        }
      ]
    },
    {
      "cell_type": "markdown",
      "source": [
        "# 8.Print last 2 characters\n",
        "Input: \"python\" → Output: \"on\""
      ],
      "metadata": {
        "id": "mcG2YSqS2EHS"
      }
    },
    {
      "cell_type": "code",
      "source": [
        "word = input(\"enter a word:\")\n",
        "print(f\"last 2 chars in {word} is: {word[-2:]}\")"
      ],
      "metadata": {
        "colab": {
          "base_uri": "https://localhost:8080/"
        },
        "id": "TQHmhviL2Ifp",
        "outputId": "fd058069-8584-4680-d7b7-ac3d1c2ba1a1"
      },
      "execution_count": 19,
      "outputs": [
        {
          "output_type": "stream",
          "name": "stdout",
          "text": [
            "enter a word:python\n",
            "last 2 chars in python is: on\n"
          ]
        }
      ]
    },
    {
      "cell_type": "markdown",
      "source": [
        "# 9.Print string without the first and last character\n",
        "Input: \"hello\" → Output: \"ell\""
      ],
      "metadata": {
        "id": "aOmY6wUe2kHp"
      }
    },
    {
      "cell_type": "code",
      "source": [
        "word = input(\"enter a word:\")\n",
        "word_without_firstandlast_char = word[1:len(word)-1]\n",
        "print(word_without_firstandlast_char)"
      ],
      "metadata": {
        "colab": {
          "base_uri": "https://localhost:8080/"
        },
        "id": "KMBuKxQQ2ohy",
        "outputId": "7601f38e-9042-49e4-bca7-04ec4cbd53f0"
      },
      "execution_count": 22,
      "outputs": [
        {
          "output_type": "stream",
          "name": "stdout",
          "text": [
            "enter a word:abcdefgh\n",
            "bcdefg\n"
          ]
        }
      ]
    },
    {
      "cell_type": "markdown",
      "source": [
        "# 10.Check if first and last characters are the same\n",
        "Input: \"level\" → Output: True"
      ],
      "metadata": {
        "id": "P6UtpVsb3VqB"
      }
    },
    {
      "cell_type": "code",
      "source": [
        "word = input(\"enter a word:\")\n",
        "lastchar = word[len(word)-1]\n",
        "print(lastchar)\n",
        "if word[0] == word[len(word)-1]:\n",
        "  print(\"True\")\n",
        "else:\n",
        "  print(\"False\")"
      ],
      "metadata": {
        "colab": {
          "base_uri": "https://localhost:8080/"
        },
        "id": "lG7ifKTh3de6",
        "outputId": "40125d31-5eed-4c47-d174-5cb3bda969bf"
      },
      "execution_count": 2,
      "outputs": [
        {
          "output_type": "stream",
          "name": "stdout",
          "text": [
            "enter a word:word\n",
            "d\n",
            "False\n"
          ]
        }
      ]
    },
    {
      "cell_type": "markdown",
      "source": [
        "# 11.Check if two strings are equal\n",
        "Input: \"data\", \"data\" → Output: True"
      ],
      "metadata": {
        "id": "A1HfVnTO3_ky"
      }
    },
    {
      "cell_type": "code",
      "source": [
        "word1 = input(\"enter a word:\")\n",
        "word2 = input(\"enter a word:\")\n",
        "for i in range(0, len(word1)-1):\n",
        "  if word1[i]==word2[i]:\n",
        "     print(\"True\")\n",
        "else:\n",
        "  print(\"False\")\n"
      ],
      "metadata": {
        "colab": {
          "base_uri": "https://localhost:8080/"
        },
        "id": "ADNL7P974FIJ",
        "outputId": "fe331c55-acf9-4a60-a134-02cbdd7831f0"
      },
      "execution_count": 26,
      "outputs": [
        {
          "output_type": "stream",
          "name": "stdout",
          "text": [
            "enter a word:data\n",
            "enter a word:data\n",
            "True\n",
            "True\n",
            "True\n",
            "False\n"
          ]
        }
      ]
    },
    {
      "cell_type": "markdown",
      "source": [
        "❌ Problem 1: else block of for loop\n",
        "In Python, the else block of a for loop only runs if the loop completes normally (i.e., no break was used). But you're not using break, so the else will always run after the loop — even if a match was found.\n",
        "\n",
        "So the else: print(\"False\") is not working the way you think (like an if-else). That’s a common confusion.\n",
        "\n",
        "❌ Problem 2: Looping till len(word1) - 1\n",
        "You should loop till len(word1) to include the last character as well. Currently you're skipping it.\n",
        "\n",
        "❌ Problem 3: Comparing characters without checking lengths\n",
        "If word1 and word2 are different lengths, word2[i] may cause an IndexError.\n",
        "\n"
      ],
      "metadata": {
        "id": "1aaJWX3EOaKB"
      }
    },
    {
      "cell_type": "code",
      "source": [
        "word1 = input(\"enter a word:\")\n",
        "word2 = input(\"enter a word:\")\n",
        "if word1 == word2:\n",
        "  print(\"True\")\n",
        "else:\n",
        "  print(\"False\")"
      ],
      "metadata": {
        "colab": {
          "base_uri": "https://localhost:8080/"
        },
        "id": "rNWSLWiRRGBM",
        "outputId": "5197028b-dd7f-4603-a139-01c47b374966"
      },
      "execution_count": 9,
      "outputs": [
        {
          "output_type": "stream",
          "name": "stdout",
          "text": [
            "enter a word:data\n",
            "enter a word:data\n",
            "True\n"
          ]
        }
      ]
    },
    {
      "cell_type": "code",
      "source": [
        "word1, word2 = input(\"enter a word:\"), input(\"enter a word:\")\n",
        "print(\"True\" if word1==word2 else \"False\")\n"
      ],
      "metadata": {
        "colab": {
          "base_uri": "https://localhost:8080/"
        },
        "id": "d2nS0HdkRVvt",
        "outputId": "9b406b99-6f05-4c4e-a5fe-33a39cddfda8"
      },
      "execution_count": 12,
      "outputs": [
        {
          "output_type": "stream",
          "name": "stdout",
          "text": [
            "enter a word:data\n",
            "enter a word:data\n",
            "True\n"
          ]
        }
      ]
    },
    {
      "cell_type": "code",
      "source": [
        "word1, word2 = input(\"enter a word:\"), input(\"enter a word:\")\n",
        "if len(word1)!=len(word2):\n",
        "  print(\"False\")\n",
        "else:\n",
        "  all_match=True\n",
        "  for i in range(0, len(word1)):\n",
        "    if word1[i]!=word2[i]:\n",
        "      all_match=False\n",
        "      break\n",
        "  print(\"True\" if all_match else \"False\")"
      ],
      "metadata": {
        "colab": {
          "base_uri": "https://localhost:8080/"
        },
        "id": "2oCA7j7TSOqu",
        "outputId": "29e3207c-7c02-432b-e798-7e470c9bcde9"
      },
      "execution_count": 16,
      "outputs": [
        {
          "output_type": "stream",
          "name": "stdout",
          "text": [
            "enter a word:data\n",
            "enter a word:data\n",
            "True\n"
          ]
        }
      ]
    },
    {
      "cell_type": "markdown",
      "source": [
        "# 12.Check if a string contains a specific word\n",
        "Input: \"hello world\", \"world\" → Output: True"
      ],
      "metadata": {
        "id": "zRBJ-4mCUgrs"
      }
    },
    {
      "cell_type": "code",
      "source": [
        "sen = input(\"Enter a sen:\")\n",
        "word = \"word\"\n",
        "print(\"True\" if 'word' in sen else \"False\")"
      ],
      "metadata": {
        "colab": {
          "base_uri": "https://localhost:8080/"
        },
        "id": "_bQovvwDUjFV",
        "outputId": "d33fd3a1-e49f-4abc-bcc5-e62ae134d973"
      },
      "execution_count": 20,
      "outputs": [
        {
          "output_type": "stream",
          "name": "stdout",
          "text": [
            "Enter a sen:hllo world\n",
            "False\n"
          ]
        }
      ]
    },
    {
      "cell_type": "code",
      "source": [
        "sen = input(\"Enter a sen:\")\n",
        "word = input(\"enter a word to be check\")\n",
        "if word in sen:\n",
        "  print(\"True\")\n",
        "else:\n",
        "  print(\"False\")"
      ],
      "metadata": {
        "colab": {
          "base_uri": "https://localhost:8080/"
        },
        "id": "-y-HKlbzVrPO",
        "outputId": "0bd4843e-1739-4c77-80a7-e479f3908bdd"
      },
      "execution_count": 23,
      "outputs": [
        {
          "output_type": "stream",
          "name": "stdout",
          "text": [
            "Enter a sen:hello world\n",
            "enter a word to be checkhello\n",
            "True\n"
          ]
        }
      ]
    },
    {
      "cell_type": "code",
      "source": [
        "sen, word = input(\"Enter a sen:\"), input(\"enter a word to be check\")\n",
        "print(\"True\" if word in sen else \"False\")"
      ],
      "metadata": {
        "colab": {
          "base_uri": "https://localhost:8080/"
        },
        "id": "wXWMvCjUWP3s",
        "outputId": "64cb2071-9978-4aad-fb0c-545b6a3e4b3f"
      },
      "execution_count": 25,
      "outputs": [
        {
          "output_type": "stream",
          "name": "stdout",
          "text": [
            "Enter a sen:hello world\n",
            "enter a word to be checkbad\n",
            "False\n"
          ]
        }
      ]
    },
    {
      "cell_type": "markdown",
      "source": [
        "# 13.Find the index of a character\n",
        "Input: \"python\", 't' → Output: 2"
      ],
      "metadata": {
        "id": "W2vEe1ADWuen"
      }
    },
    {
      "cell_type": "code",
      "source": [
        "word = input(\"enter a word:\")\n",
        "char = input(\"enter a char:\")\n",
        "for i in range(len(word)):\n",
        "  if char==word[i]:\n",
        "    print(i)\n",
        "    break\n",
        "else:\n",
        "  print(\"not found\")"
      ],
      "metadata": {
        "colab": {
          "base_uri": "https://localhost:8080/"
        },
        "id": "VqcDkcgDWyo8",
        "outputId": "904c5fce-20c6-4555-aba5-938c506cf80f"
      },
      "execution_count": 33,
      "outputs": [
        {
          "output_type": "stream",
          "name": "stdout",
          "text": [
            "enter a word:python\n",
            "enter a char:m\n",
            "not found\n"
          ]
        }
      ]
    },
    {
      "cell_type": "markdown",
      "source": [
        "# 14.Count how many times a character appears\n",
        "Input: \"banana\", 'a' → Output: 3"
      ],
      "metadata": {
        "id": "u9wXk_4VcWf2"
      }
    },
    {
      "cell_type": "code",
      "source": [
        "word = input(\"enter a word:\")\n",
        "char = input(\"enter a char:\")\n",
        "if char not in word:\n",
        "  print(\"not found\")\n",
        "else:\n",
        "  count = 1\n",
        "  for i in word:\n",
        "    if i==char:\n",
        "      count+=1\n",
        "      break\n",
        "  print(count)\n",
        "\n"
      ],
      "metadata": {
        "colab": {
          "base_uri": "https://localhost:8080/"
        },
        "id": "_CE1fGBzcxn-",
        "outputId": "b6ab2eb5-f706-48bf-dce9-6f7e54cda4fc"
      },
      "execution_count": 38,
      "outputs": [
        {
          "output_type": "stream",
          "name": "stdout",
          "text": [
            "enter a word:woord\n",
            "enter a char:o\n",
            "2\n"
          ]
        }
      ]
    },
    {
      "cell_type": "markdown",
      "source": [
        "# 15.Check if a string is a palindrome\n",
        "Input: \"madam\" → Output: True"
      ],
      "metadata": {
        "id": "ty7ulMkcfBQZ"
      }
    },
    {
      "cell_type": "code",
      "source": [
        "word = input(\"enter a word:\")\n",
        "rev_word = \"\"\n",
        "for i in range((len(word)-1), -1, -1):\n",
        "  rev_word+=word[i]\n",
        "print(\"True, it is palindrome\" if word==rev_word else \"False\")\n"
      ],
      "metadata": {
        "colab": {
          "base_uri": "https://localhost:8080/"
        },
        "id": "pADyOLohfGf3",
        "outputId": "46261204-bf20-4f6e-d4f6-2a71bda5a65e"
      },
      "execution_count": 42,
      "outputs": [
        {
          "output_type": "stream",
          "name": "stdout",
          "text": [
            "enter a word:data\n",
            "False\n"
          ]
        }
      ]
    },
    {
      "cell_type": "markdown",
      "source": [
        "# 16.Replace a word in a string\n",
        "Input: \"I love Java\", replace \"Java\" with \"Python\" → Output: \"I love Python\""
      ],
      "metadata": {
        "id": "9bcXQ0Jsf2aI"
      }
    },
    {
      "cell_type": "code",
      "source": [
        "sen, sep_word, replaced_word = input(\"enter a sen:\"), input(\"enter a word to be replaced:\"), input(\"enter a new word:\")\n",
        "words = list(sen.split(\" \"))\n",
        "new_sen = \"\"\n",
        "for word in words:\n",
        "  if word!=sep_word:\n",
        "     new_sen+=word\n",
        "  else:\n",
        "    new_sen+=replaced_word\n",
        "print(new_sen)\n"
      ],
      "metadata": {
        "colab": {
          "base_uri": "https://localhost:8080/"
        },
        "id": "-VbK_OPDf7Jl",
        "outputId": "0f1bb567-f93e-4083-d956-d3e66c93ebdd"
      },
      "execution_count": 48,
      "outputs": [
        {
          "output_type": "stream",
          "name": "stdout",
          "text": [
            "enter a sen:\"i love java\"\n",
            "enter a word to be replaced:java\n",
            "enter a new word:python\n",
            "\"ilovejava\"\n"
          ]
        }
      ]
    },
    {
      "cell_type": "code",
      "source": [
        "sen = input(\"Enter a sentence: \")\n",
        "sep_word = input(\"Enter the word to be replaced: \")\n",
        "replaced_word = input(\"Enter the new word: \")\n",
        "\n",
        "words = sen.split(\" \")\n",
        "new_sen = \"\"\n",
        "\n",
        "for word in words:\n",
        "    if word != sep_word:\n",
        "        new_sen += word + \" \"\n",
        "    else:\n",
        "        new_sen += replaced_word + \" \"\n",
        "\n",
        "print(new_sen.strip())\n"
      ],
      "metadata": {
        "colab": {
          "base_uri": "https://localhost:8080/"
        },
        "id": "o3NtGpLQj-5w",
        "outputId": "2b7bbd55-ca87-4024-a2cb-7f3935ff5e20"
      },
      "execution_count": 49,
      "outputs": [
        {
          "output_type": "stream",
          "name": "stdout",
          "text": [
            "Enter a sentence: \"i love java\"\n",
            "Enter the word to be replaced: java\n",
            "Enter the new word: python\n",
            "\"i love java\"\n"
          ]
        }
      ]
    },
    {
      "cell_type": "markdown",
      "source": [
        "# 17.Remove all spaces from a string\n",
        "Input: \"a b c d\" → Output: \"abcd\""
      ],
      "metadata": {
        "id": "GrRPbkzhlRIN"
      }
    },
    {
      "cell_type": "code",
      "source": [
        "sen = input(\"enter a sen:\")\n",
        "sen_without_spaces = \"\"\n",
        "for char in sen:\n",
        "  if char!=\" \":\n",
        "    sen_without_spaces += char\n",
        "print(sen_without_spaces)"
      ],
      "metadata": {
        "colab": {
          "base_uri": "https://localhost:8080/"
        },
        "id": "68Pda0zolTP5",
        "outputId": "b1be7ae3-0d34-495b-c41c-5e9b5e81998f"
      },
      "execution_count": 50,
      "outputs": [
        {
          "output_type": "stream",
          "name": "stdout",
          "text": [
            "enter a sen:\"a b c d\"\n",
            "\"abcd\"\n"
          ]
        }
      ]
    },
    {
      "cell_type": "code",
      "source": [
        "sen = input(\"enter a sen:\")\n",
        "sen_without_spaces = \"\"\n",
        "print(sen_without_spaces for char in sen if char!=\" \")#incorrect print statement"
      ],
      "metadata": {
        "colab": {
          "base_uri": "https://localhost:8080/",
          "height": 106
        },
        "id": "8KVfc09il7fP",
        "outputId": "f39b59b7-f682-4ca6-b12a-d7b4c6b5b0e2"
      },
      "execution_count": 52,
      "outputs": [
        {
          "output_type": "error",
          "ename": "SyntaxError",
          "evalue": "invalid syntax (<ipython-input-52-827798132>, line 3)",
          "traceback": [
            "\u001b[0;36m  File \u001b[0;32m\"<ipython-input-52-827798132>\"\u001b[0;36m, line \u001b[0;32m3\u001b[0m\n\u001b[0;31m    print(sen_without_spaces for char in sen if char!=\" \" else continue)\u001b[0m\n\u001b[0m                                                          ^\u001b[0m\n\u001b[0;31mSyntaxError\u001b[0m\u001b[0;31m:\u001b[0m invalid syntax\n"
          ]
        }
      ]
    },
    {
      "cell_type": "code",
      "source": [
        "sen = input(\"enter a sen:\")\n",
        "sen_without_spaces = sen.replace(\" \", \"\")\n",
        "print(sen_without_spaces)"
      ],
      "metadata": {
        "colab": {
          "base_uri": "https://localhost:8080/"
        },
        "id": "VsyXl600m7KA",
        "outputId": "8314bdd2-1037-4600-b75a-9e6046620f4e"
      },
      "execution_count": 53,
      "outputs": [
        {
          "output_type": "stream",
          "name": "stdout",
          "text": [
            "enter a sen:\"A B C D\"\n",
            "\"ABCD\"\n"
          ]
        }
      ]
    },
    {
      "cell_type": "markdown",
      "source": [
        "# 18.Split a string into words\n",
        "Input: \"Python is fun\" → Output: ['Python', 'is', 'fun']"
      ],
      "metadata": {
        "id": "A4i7S3FznGu_"
      }
    },
    {
      "cell_type": "code",
      "source": [
        "import string\n",
        "sentence = input(\"enter a sentence:\")\n",
        "sen_without_punctuation = \"\"\n",
        "for char in sentence:\n",
        "  if char not in string.punctuation:\n",
        "    sen_without_punctuation += char\n",
        "words = list(sen_without_punctuation.strip().split(\" \"))\n",
        "print(words)"
      ],
      "metadata": {
        "colab": {
          "base_uri": "https://localhost:8080/"
        },
        "id": "w5GIhPl9na1Z",
        "outputId": "ec84fe28-7138-4cb8-fa55-5ed32f8636a9"
      },
      "execution_count": 58,
      "outputs": [
        {
          "output_type": "stream",
          "name": "stdout",
          "text": [
            "enter a sentence:\"Python is fun\" \n",
            "['Python', 'is', 'fun']\n"
          ]
        }
      ]
    },
    {
      "cell_type": "markdown",
      "source": [
        "# 19.Join a list of strings into one\n",
        "Input: ['a', 'b', 'c'] → Output: \"a-b-c\" (use '-'.join())"
      ],
      "metadata": {
        "id": "y8yBRuz6pmaX"
      }
    },
    {
      "cell_type": "code",
      "source": [
        "lstring = [\"a\", \"b\", \"c\"]\n",
        "word1 = \"\"\n",
        "for i in range(len(lstring)):\n",
        "  if i != (len(lstring)-1):\n",
        "    word1 += lstring[i]+\"-\"\n",
        "  else:\n",
        "    word1 +=lstring[i]\n",
        "print(word1)"
      ],
      "metadata": {
        "colab": {
          "base_uri": "https://localhost:8080/"
        },
        "id": "LczkT3L4pohh",
        "outputId": "e2089140-e576-40e3-e955-05f588380b42"
      },
      "execution_count": 61,
      "outputs": [
        {
          "output_type": "stream",
          "name": "stdout",
          "text": [
            "a-b-c\n"
          ]
        }
      ]
    },
    {
      "cell_type": "markdown",
      "source": [
        "# 20.Capitalize the first letter of each word\n",
        "Input: \"data analyst\" → Output: \"Data Analyst\""
      ],
      "metadata": {
        "id": "UDuAZLB_sdiI"
      }
    },
    {
      "cell_type": "code",
      "source": [
        "sen = input(\"enter a sen:\")\n",
        "words = list(sen.split(\" \"))\n",
        "new_sen = \"\"\n",
        "for word in words:\n",
        "  new_sen += word[0].upper() + word[1:] +\" \"\n",
        "print(new_sen.strip())"
      ],
      "metadata": {
        "colab": {
          "base_uri": "https://localhost:8080/"
        },
        "id": "kpu_fpHrsi1H",
        "outputId": "f1f1c85b-0e88-4d1a-b58f-b238cddcf350"
      },
      "execution_count": 67,
      "outputs": [
        {
          "output_type": "stream",
          "name": "stdout",
          "text": [
            "enter a sen:\"data analyst\"\n",
            "\"data Analyst\"\n"
          ]
        }
      ]
    },
    {
      "cell_type": "code",
      "source": [
        "sen = input(\"Enter a sentence: \")\n",
        "words = list(sen.split(\" \"))\n",
        "print(words)\n",
        "new_sen = \"\"\n",
        "\n",
        "for word in words:\n",
        "    if word:  # make sure word is not empty\n",
        "        new_sen += word[0].upper() + word[1:] + \" \"\n",
        "\n",
        "print(new_sen.strip())"
      ],
      "metadata": {
        "colab": {
          "base_uri": "https://localhost:8080/"
        },
        "id": "JmfVOtw3uomi",
        "outputId": "1537d777-b6c7-410e-b085-8bb94f0b11b4"
      },
      "execution_count": 70,
      "outputs": [
        {
          "output_type": "stream",
          "name": "stdout",
          "text": [
            "Enter a sentence: \"i like you\"\n",
            "['\"i', 'like', 'you\"']\n",
            "\"i Like You\"\n"
          ]
        }
      ]
    },
    {
      "cell_type": "markdown",
      "source": [
        "# 21.Check if all characters are digits\n",
        "Input: \"12345\" → Output: True"
      ],
      "metadata": {
        "id": "n2IMWGROw-4R"
      }
    },
    {
      "cell_type": "code",
      "source": [
        "chars = input(\"enter a string:\")\n",
        "nums = \"1234567890\"\n",
        "digits = True\n",
        "for char in chars:\n",
        "  if char not in nums:\n",
        "    digits = False\n",
        "    break\n",
        "\n",
        "if digits:\n",
        "  print(\"all chars are digits\")\n",
        "else:\n",
        "  print(\"not\")"
      ],
      "metadata": {
        "colab": {
          "base_uri": "https://localhost:8080/"
        },
        "id": "y88GajBexCzZ",
        "outputId": "7dfadc51-96b9-4ab6-e786-8e3bc6baffad"
      },
      "execution_count": 80,
      "outputs": [
        {
          "output_type": "stream",
          "name": "stdout",
          "text": [
            "enter a string:\"12345\"\n",
            "not\n"
          ]
        }
      ]
    },
    {
      "cell_type": "code",
      "source": [
        "chars = input(\"Enter a string: \")\n",
        "chars_without_punct = \"\".join([char for char in chars if char not in string.punctuation])\n",
        "nums = \"1234567890\"\n",
        "digits = True\n",
        "\n",
        "for char in chars_without_punct:\n",
        "    if char not in nums:\n",
        "        digits = False\n",
        "        break\n",
        "\n",
        "if digits:\n",
        "    print(\"All characters are digits\")\n",
        "else:\n",
        "    print(\"Not all characters are digits\")"
      ],
      "metadata": {
        "colab": {
          "base_uri": "https://localhost:8080/"
        },
        "id": "cGGlWHPz0bnY",
        "outputId": "cd9cfa49-128a-42f7-fa7f-77ca1d4019d8"
      },
      "execution_count": 84,
      "outputs": [
        {
          "output_type": "stream",
          "name": "stdout",
          "text": [
            "Enter a string: \"12345A\"\n",
            "Not all characters are digits\n"
          ]
        }
      ]
    },
    {
      "cell_type": "markdown",
      "source": [
        "# 22.Check if all characters are alphabetic\n",
        "Input: \"python\" → Output: True"
      ],
      "metadata": {
        "id": "eBuDB7vO0oPr"
      }
    },
    {
      "cell_type": "code",
      "source": [
        "chars = input(\"Enter a string: \")\n",
        "chars_without_punct = \"\".join([char for char in chars if char not in string.punctuation])\n",
        "alpha = \"abcdefghijklmnopqrstuvwxyzABCDEFGHIJKLMNOPQRSTUVWXYZ\"\n",
        "alphabetic = True\n",
        "\n",
        "for char in chars_without_punct:\n",
        "    if char not in alpha:\n",
        "        alphabetic = False\n",
        "        break\n",
        "\n",
        "if alphabetic:\n",
        "    print(\"All characters are alphabetics\")\n",
        "else:\n",
        "    print(\"Not all characters are alphabetics\")"
      ],
      "metadata": {
        "colab": {
          "base_uri": "https://localhost:8080/"
        },
        "id": "sOEW-Ru90tAg",
        "outputId": "8d79e56b-a58d-4d2c-afbb-cb55da03d894"
      },
      "execution_count": 87,
      "outputs": [
        {
          "output_type": "stream",
          "name": "stdout",
          "text": [
            "Enter a string: \"Python3.4\"\n",
            "Not all characters are alphabetics\n"
          ]
        }
      ]
    },
    {
      "cell_type": "markdown",
      "source": [
        "# 23.Count vowels in a string\n",
        "Input: \"education\" → Output: 5"
      ],
      "metadata": {
        "id": "_RUTJ2w_32ox"
      }
    },
    {
      "cell_type": "code",
      "source": [
        "word = input(\"enter a word:\")\n",
        "vowels = \"AEIOUaeiou\"\n",
        "count = 0\n",
        "for char in word:\n",
        "  if char in vowels:\n",
        "    count += 1\n",
        "print(count)"
      ],
      "metadata": {
        "colab": {
          "base_uri": "https://localhost:8080/"
        },
        "id": "T6hjmdpi35dC",
        "outputId": "65818bce-2012-4197-eb92-3125693302ff"
      },
      "execution_count": 89,
      "outputs": [
        {
          "output_type": "stream",
          "name": "stdout",
          "text": [
            "enter a word:\"education\"\n",
            "5\n"
          ]
        }
      ]
    },
    {
      "cell_type": "markdown",
      "source": [
        "# 24.Remove vowels from a string\n",
        "Input: \"hello\" → Output: \"hll\""
      ],
      "metadata": {
        "id": "7D9BugX34YFa"
      }
    },
    {
      "cell_type": "code",
      "source": [
        "word = input(\"enter a word:\")\n",
        "new_word = \"\"\n",
        "vowels = \"AEIOUaeiou\"\n",
        "for char in word:\n",
        "  if char not in vowels:\n",
        "    new_word += char\n",
        "print(new_word)"
      ],
      "metadata": {
        "colab": {
          "base_uri": "https://localhost:8080/"
        },
        "id": "wN7VbHnu4cLM",
        "outputId": "6942d6cc-f543-4474-ff0e-5898ff9fe01e"
      },
      "execution_count": 90,
      "outputs": [
        {
          "output_type": "stream",
          "name": "stdout",
          "text": [
            "enter a word:\"hello\"\n",
            "\"hll\"\n"
          ]
        }
      ]
    },
    {
      "cell_type": "markdown",
      "source": [
        "# 25.Convert string to list of characters\n",
        "Input: \"abc\" → Output: ['a', 'b', 'c']"
      ],
      "metadata": {
        "id": "rDrUvTG640BU"
      }
    },
    {
      "cell_type": "code",
      "source": [
        "word = input(\"enter a word:\")\n",
        "chars_without_punct = \"\".join([char for char in word if char not in string.punctuation])\n",
        "chars = []\n",
        "for char in chars_without_punct.strip():\n",
        "  chars.append(char)\n",
        "print(chars)"
      ],
      "metadata": {
        "colab": {
          "base_uri": "https://localhost:8080/"
        },
        "id": "mvzQBdKc437b",
        "outputId": "1acc06c8-c732-4b3a-854c-3cbc6ece2c7f"
      },
      "execution_count": 93,
      "outputs": [
        {
          "output_type": "stream",
          "name": "stdout",
          "text": [
            "enter a word:\"abc\"\n",
            "['a', 'b', 'c']\n"
          ]
        }
      ]
    }
  ]
}