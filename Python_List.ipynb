{
  "nbformat": 4,
  "nbformat_minor": 0,
  "metadata": {
    "colab": {
      "provenance": [],
      "toc_visible": true,
      "authorship_tag": "ABX9TyOIXOOfptg+VTN4FUa7Y5kc",
      "include_colab_link": true
    },
    "kernelspec": {
      "name": "python3",
      "display_name": "Python 3"
    },
    "language_info": {
      "name": "python"
    }
  },
  "cells": [
    {
      "cell_type": "markdown",
      "metadata": {
        "id": "view-in-github",
        "colab_type": "text"
      },
      "source": [
        "<a href=\"https://colab.research.google.com/github/Vijaya-QA/SeleniumAutomation/blob/DSML/Python_List.ipynb\" target=\"_parent\"><img src=\"https://colab.research.google.com/assets/colab-badge.svg\" alt=\"Open In Colab\"/></a>"
      ]
    },
    {
      "cell_type": "markdown",
      "source": [
        "# List-problems"
      ],
      "metadata": {
        "id": "izoVlxjSgNNI"
      }
    },
    {
      "cell_type": "markdown",
      "source": [
        "# 1.Print all elements of a list\n",
        "my_list = [1, 2, 3, 4]\n",
        "Output: 1 2 3 4"
      ],
      "metadata": {
        "id": "S_aR_hU6geYZ"
      }
    },
    {
      "cell_type": "code",
      "source": [
        "my_list=[1,2,3,4]\n",
        "for x in my_list:\n",
        "  print(x, end=\" \")"
      ],
      "metadata": {
        "colab": {
          "base_uri": "https://localhost:8080/"
        },
        "id": "mki-ZnuYg61N",
        "outputId": "86bca18e-fe3b-4795-f1ee-085b72d9f606"
      },
      "execution_count": null,
      "outputs": [
        {
          "output_type": "stream",
          "name": "stdout",
          "text": [
            "1 2 3 4 "
          ]
        }
      ]
    },
    {
      "cell_type": "markdown",
      "source": [
        "# 2.Find the length of a list\n",
        "my_list = [10, 20, 30]\n",
        "# Output: 3"
      ],
      "metadata": {
        "id": "omG2F98Shbtu"
      }
    },
    {
      "cell_type": "code",
      "source": [
        "my_list=[1,2,3,4]\n",
        "count=0\n",
        "for i in my_list:\n",
        "  count+=1\n",
        "print(count)"
      ],
      "metadata": {
        "colab": {
          "base_uri": "https://localhost:8080/"
        },
        "id": "noOgbam4hkBl",
        "outputId": "6c0eddbc-9690-444b-92c2-7ec106f2b850"
      },
      "execution_count": null,
      "outputs": [
        {
          "output_type": "stream",
          "name": "stdout",
          "text": [
            "4\n"
          ]
        }
      ]
    },
    {
      "cell_type": "markdown",
      "source": [
        "# 3.Append an element to a list\n",
        "my_list = [1, 2, 3]\n",
        "Append 4 → [1, 2, 3, 4]"
      ],
      "metadata": {
        "id": "4J1cNt26h4UP"
      }
    },
    {
      "cell_type": "code",
      "source": [
        "my_list=[1,2,3]\n",
        "my_list.append(4)\n",
        "print(my_list)"
      ],
      "metadata": {
        "colab": {
          "base_uri": "https://localhost:8080/"
        },
        "id": "4abevJ67iCw3",
        "outputId": "1c31520e-3bdd-4d47-b792-87af2dc6e6f7"
      },
      "execution_count": null,
      "outputs": [
        {
          "output_type": "stream",
          "name": "stdout",
          "text": [
            "[1, 2, 3, 4]\n"
          ]
        }
      ]
    },
    {
      "cell_type": "markdown",
      "source": [
        "# 4.Insert an element at a specific position\n",
        "my_list = [1, 2, 4]\n",
        "Insert 3 at index 2 → [1, 2, 3, 4]"
      ],
      "metadata": {
        "id": "elF8_5Usie4U"
      }
    },
    {
      "cell_type": "code",
      "source": [
        "my_list=[1,2,4]\n",
        "my_list.insert(2,3)\n",
        "print(my_list)"
      ],
      "metadata": {
        "colab": {
          "base_uri": "https://localhost:8080/"
        },
        "id": "ZpUI78G5imcu",
        "outputId": "a62ea1de-df19-47ca-cc26-bae0e0eea6a2"
      },
      "execution_count": null,
      "outputs": [
        {
          "output_type": "stream",
          "name": "stdout",
          "text": [
            "[1, 2, 3, 4]\n"
          ]
        }
      ]
    },
    {
      "cell_type": "markdown",
      "source": [
        "# 5.Remove a specific element\n",
        "my_list = [1, 2, 3, 2]\n",
        "Remove first 2 → [1, 3, 2]"
      ],
      "metadata": {
        "id": "SnjdqIUnpQnq"
      }
    },
    {
      "cell_type": "code",
      "source": [
        "my_list=[1,2,3,2]\n",
        "my_list.remove(2)\n",
        "print(my_list)"
      ],
      "metadata": {
        "colab": {
          "base_uri": "https://localhost:8080/"
        },
        "id": "fSMO8NnTpaIn",
        "outputId": "2b294fa1-35dc-4f99-93de-90b4e184fca2"
      },
      "execution_count": null,
      "outputs": [
        {
          "output_type": "stream",
          "name": "stdout",
          "text": [
            "[1, 3, 2]\n"
          ]
        }
      ]
    },
    {
      "cell_type": "code",
      "source": [
        "my_list=[1,2,3,2]\n",
        "my_list.pop(1)\n",
        "print(my_list)"
      ],
      "metadata": {
        "colab": {
          "base_uri": "https://localhost:8080/"
        },
        "id": "0Px-X1_op6p9",
        "outputId": "c462fe5d-3294-4793-e692-dd6332aabc9c"
      },
      "execution_count": null,
      "outputs": [
        {
          "output_type": "stream",
          "name": "stdout",
          "text": [
            "[1, 3, 2]\n"
          ]
        }
      ]
    },
    {
      "cell_type": "markdown",
      "source": [
        "# 6.Sort a list in ascending order\n",
        "my_list = [3, 1, 2]\n",
        "After sort: [1, 2, 3]"
      ],
      "metadata": {
        "id": "5CBZt1uSqF3O"
      }
    },
    {
      "cell_type": "code",
      "source": [
        "my_list=[1,2,50,20,3]\n",
        "my_list.sort()\n",
        "print(my_list)"
      ],
      "metadata": {
        "colab": {
          "base_uri": "https://localhost:8080/"
        },
        "id": "VWx1L-SXqOw4",
        "outputId": "7531aff0-3284-4ec7-8f06-9e8269c09387"
      },
      "execution_count": null,
      "outputs": [
        {
          "output_type": "stream",
          "name": "stdout",
          "text": [
            "[1, 2, 3, 20, 50]\n"
          ]
        }
      ]
    },
    {
      "cell_type": "markdown",
      "source": [
        "# 7.Find the maximum and minimum in a list\n",
        "my_list = [10, 5, 7]\n",
        "max → 10, min → 5"
      ],
      "metadata": {
        "id": "5b5edC0KqkYG"
      }
    },
    {
      "cell_type": "code",
      "source": [
        "my_list=[2,40,1,300,0,3]\n",
        "max_num=0\n",
        "min_num=0\n",
        "for i in my_list:\n",
        "  if i>max_num:\n",
        "    max_num=i\n",
        "  if i<min_num:\n",
        "    min_num=i\n",
        "print(f\"max->{max_num}, min->{min_num}\")"
      ],
      "metadata": {
        "colab": {
          "base_uri": "https://localhost:8080/"
        },
        "id": "Dcbieug3qrkQ",
        "outputId": "2b7bd65c-ed6a-43d2-eb58-6e7770d52468"
      },
      "execution_count": null,
      "outputs": [
        {
          "output_type": "stream",
          "name": "stdout",
          "text": [
            "max->300, min->0\n"
          ]
        }
      ]
    },
    {
      "cell_type": "markdown",
      "source": [
        "# 8.Check if an element exists in a list\n",
        "my_list = [1, 2, 3]\n",
        "Is 2 in the list? → True"
      ],
      "metadata": {
        "id": "57Q5jNzksSJW"
      }
    },
    {
      "cell_type": "code",
      "source": [
        "def is_element_exist(e, your_list):\n",
        "  for i in your_list:\n",
        "    if i==e:\n",
        "      return True\n",
        "  else:\n",
        "      return False\n",
        "print(is_element_exist(2,[1,2,3,4]))"
      ],
      "metadata": {
        "colab": {
          "base_uri": "https://localhost:8080/"
        },
        "id": "e_G0Yf8Qsaif",
        "outputId": "54a686f6-a9e7-428c-ec2a-2bb4478e657f"
      },
      "execution_count": null,
      "outputs": [
        {
          "output_type": "stream",
          "name": "stdout",
          "text": [
            "True\n"
          ]
        }
      ]
    },
    {
      "cell_type": "markdown",
      "source": [
        "# 9.Sum of all elements in a list\n",
        "my_list = [1, 2, 3]\n",
        "Output: 6"
      ],
      "metadata": {
        "id": "tvoGwkp0wPpA"
      }
    },
    {
      "cell_type": "code",
      "source": [
        "def sum_elements(l1):\n",
        "  sum=0\n",
        "  for i in l1:\n",
        "    sum+=i\n",
        "  return(sum)\n",
        "my_list=[1,2,3]\n",
        "print(sum_elements(my_list))"
      ],
      "metadata": {
        "colab": {
          "base_uri": "https://localhost:8080/"
        },
        "id": "AnFtQ-G6waCu",
        "outputId": "7a036ada-8c23-4650-d520-259ae87cf0b3"
      },
      "execution_count": null,
      "outputs": [
        {
          "output_type": "stream",
          "name": "stdout",
          "text": [
            "6\n"
          ]
        }
      ]
    },
    {
      "cell_type": "markdown",
      "source": [
        "# 10.Count occurrences of an element\n",
        "my_list = [1, 2, 2, 3, 2]\n",
        "Count of 2 → 3"
      ],
      "metadata": {
        "id": "BQ4G0ezQxRTN"
      }
    },
    {
      "cell_type": "code",
      "source": [
        "def count_elements(l1):\n",
        "  count=0\n",
        "  for i in l1:\n",
        "    if i==2:\n",
        "      count+=1\n",
        "  return count\n",
        "my_list=[1,2,3,2,2]\n",
        "count_elements(my_list)"
      ],
      "metadata": {
        "colab": {
          "base_uri": "https://localhost:8080/"
        },
        "id": "JYnxg1XFxdI3",
        "outputId": "9b879c82-7b0e-458e-94a4-273c5d695412"
      },
      "execution_count": null,
      "outputs": [
        {
          "output_type": "execute_result",
          "data": {
            "text/plain": [
              "3"
            ]
          },
          "metadata": {},
          "execution_count": 23
        }
      ]
    },
    {
      "cell_type": "markdown",
      "source": [
        "# Medium-Level Python List\n",
        "Find all even numbers in a list\n",
        "\n",
        "python\n",
        "Copy\n",
        "Edit\n"
      ],
      "metadata": {
        "id": "43rSrAHGyra_"
      }
    },
    {
      "cell_type": "code",
      "source": [
        "my_list=[1,2,3,4,5,6]\n",
        "new_list=[]\n",
        "for i in my_list:\n",
        "  if i%2==0:\n",
        "    new_list.append(i)\n",
        "print(new_list)"
      ],
      "metadata": {
        "colab": {
          "base_uri": "https://localhost:8080/"
        },
        "id": "vi8jLrF85KGE",
        "outputId": "589220b1-1450-4e3c-f31e-2b2e5cc88f37"
      },
      "execution_count": null,
      "outputs": [
        {
          "output_type": "stream",
          "name": "stdout",
          "text": [
            "[2, 4, 6]\n"
          ]
        }
      ]
    },
    {
      "cell_type": "markdown",
      "source": [
        "# 2.Remove duplicates from a list\n",
        "Input: [1, 2, 2, 3, 4, 4]\n",
        "Output: [1, 2, 3, 4]"
      ],
      "metadata": {
        "id": "r5gg6T935ji9"
      }
    },
    {
      "cell_type": "code",
      "source": [
        "my_list=[1,2,2,3,4,4]\n",
        "new_list=[]\n",
        "for i in my_list:\n",
        "  if i not in new_list:\n",
        "    new_list.append(i)\n",
        "print(new_list)\n"
      ],
      "metadata": {
        "colab": {
          "base_uri": "https://localhost:8080/"
        },
        "id": "b1mfUce85q6N",
        "outputId": "b6f76f11-9d19-4871-fbf7-5076b664c976"
      },
      "execution_count": null,
      "outputs": [
        {
          "output_type": "stream",
          "name": "stdout",
          "text": [
            "[1, 2, 3, 4]\n"
          ]
        }
      ]
    },
    {
      "cell_type": "markdown",
      "source": [
        "# 3.Find the second largest element in a list\n",
        "Input: [10, 20, 4, 45, 99]\n",
        "Output: 45"
      ],
      "metadata": {
        "id": "7Z3zrzZi7JuY"
      }
    },
    {
      "cell_type": "code",
      "source": [
        "my_list=[10,20,4,45,99]\n",
        "my_list.sort(reverse=True)\n",
        "print(my_list[1])"
      ],
      "metadata": {
        "colab": {
          "base_uri": "https://localhost:8080/"
        },
        "id": "sHLd6Iaj7Rtd",
        "outputId": "61252174-ca0c-4224-98b4-d4a02c83462c"
      },
      "execution_count": null,
      "outputs": [
        {
          "output_type": "stream",
          "name": "stdout",
          "text": [
            "45\n"
          ]
        }
      ]
    },
    {
      "cell_type": "markdown",
      "source": [
        "# 4.Rotate list to the right by 2 positions\n",
        "Input: [1, 2, 3, 4, 5]\n",
        "Output: [4, 5, 1, 2, 3]"
      ],
      "metadata": {
        "id": "NZX_uymp8QxU"
      }
    },
    {
      "cell_type": "code",
      "source": [
        "my_list=[1,2,3,4,5]\n",
        "n=int(input(\"enter no of positions: \"))\n",
        "rev_list=my_list[-n:]+my_list[:-n]\n",
        "print(rev_list)"
      ],
      "metadata": {
        "colab": {
          "base_uri": "https://localhost:8080/"
        },
        "id": "eJqopPvh8qDJ",
        "outputId": "62068a84-3f6d-4e31-c9e7-39c0d7f087bf"
      },
      "execution_count": null,
      "outputs": [
        {
          "output_type": "stream",
          "name": "stdout",
          "text": [
            "enter no of positions: 1\n",
            "[5, 1, 2, 3, 4]\n"
          ]
        }
      ]
    },
    {
      "cell_type": "markdown",
      "source": [
        "# 5.Find common elements between two lists\n",
        "Input: [1, 2, 3], [2, 3, 4]\n",
        "Output: [2, 3]"
      ],
      "metadata": {
        "id": "i2nlt5ZT_iAs"
      }
    },
    {
      "cell_type": "code",
      "source": [
        "my_list=[1,2,3]\n",
        "my_list2=[2,3,4]\n",
        "new_list=[]\n",
        "for i in my_list:\n",
        "  if i in my_list2:\n",
        "    new_list.append(i)\n",
        "print(new_list)"
      ],
      "metadata": {
        "colab": {
          "base_uri": "https://localhost:8080/"
        },
        "id": "dr9WEW8G_sfW",
        "outputId": "2bce6376-b77a-40ec-a884-d345482824e7"
      },
      "execution_count": null,
      "outputs": [
        {
          "output_type": "stream",
          "name": "stdout",
          "text": [
            "[2, 3]\n"
          ]
        }
      ]
    },
    {
      "cell_type": "markdown",
      "source": [
        "# 6.Flatten a nested list\n",
        "Input: [[1, 2], [3, 4], [5]]\n",
        "Output: [1, 2, 3, 4, 5]"
      ],
      "metadata": {
        "id": "-CPaQ0n-APsH"
      }
    },
    {
      "cell_type": "code",
      "source": [
        "my_list=[[1,2],[3,4], [5]]\n",
        "new_list=[]\n",
        "for sublist in my_list:\n",
        "  for i in sublist:\n",
        "    new_list.append(i)\n",
        "print(new_list)"
      ],
      "metadata": {
        "colab": {
          "base_uri": "https://localhost:8080/"
        },
        "id": "MANRU6CTAW92",
        "outputId": "2d200642-22da-42dc-ac14-f1571e3a8e22"
      },
      "execution_count": null,
      "outputs": [
        {
          "output_type": "stream",
          "name": "stdout",
          "text": [
            "[1, 2, 3, 4, 5]\n"
          ]
        }
      ]
    },
    {
      "cell_type": "code",
      "source": [
        "my_list=[[1,2],[3,4], [5]]\n",
        "new_list=[item for sublist in my_list for item in sublist ]\n",
        "print(new_list)"
      ],
      "metadata": {
        "colab": {
          "base_uri": "https://localhost:8080/"
        },
        "id": "Yb9J5tWsBdOH",
        "outputId": "61a8b70d-4ed2-48b2-b9b8-457f28d138fa"
      },
      "execution_count": null,
      "outputs": [
        {
          "output_type": "stream",
          "name": "stdout",
          "text": [
            "[1, 2, 3, 4, 5]\n"
          ]
        }
      ]
    },
    {
      "cell_type": "markdown",
      "source": [
        "# 7.Count frequency of each element\n",
        "Input: [1, 2, 2, 3, 1]\n",
        "Output: {1: 2, 2: 2, 3: 1}"
      ],
      "metadata": {
        "id": "sVSfqhsrB5aL"
      }
    },
    {
      "cell_type": "code",
      "source": [
        "my_list=[1,2,2,3,1]\n",
        "frequency={}\n",
        "for item in my_list:\n",
        "  if item in frequency:\n",
        "    frequency[item]+=1\n",
        "  else:\n",
        "    frequency[item]=1\n",
        "print(type(frequency))\n",
        "print(frequency)\n",
        "\n"
      ],
      "metadata": {
        "colab": {
          "base_uri": "https://localhost:8080/"
        },
        "id": "Hogvl1fVCFNu",
        "outputId": "08477136-ba5f-4435-e241-596e6eb7f2d5"
      },
      "execution_count": null,
      "outputs": [
        {
          "output_type": "stream",
          "name": "stdout",
          "text": [
            "<class 'dict'>\n",
            "{1: 2, 2: 2, 3: 1}\n"
          ]
        }
      ]
    },
    {
      "cell_type": "markdown",
      "source": [
        "# 8.Check if a list is a palindrome\n",
        "Input: [1, 2, 3, 2, 1]\n",
        "Output: True"
      ],
      "metadata": {
        "id": "wncupU9uFijr"
      }
    },
    {
      "cell_type": "code",
      "source": [
        "my_list=[1,2,3,2,1]\n",
        "new_list=my_list[::-1].copy()\n",
        "if my_list==new_list:\n",
        "  print(\"True\")\n",
        "else:\n",
        "  print(\"NO\")\n",
        "print(new_list)"
      ],
      "metadata": {
        "colab": {
          "base_uri": "https://localhost:8080/"
        },
        "id": "cNEZ37xbFx8o",
        "outputId": "f9bc45ff-f6ce-49bb-b654-de28da16b09f"
      },
      "execution_count": null,
      "outputs": [
        {
          "output_type": "stream",
          "name": "stdout",
          "text": [
            "True\n",
            "[1, 2, 3, 2, 1]\n"
          ]
        }
      ]
    },
    {
      "cell_type": "code",
      "source": [
        "my_list=[1,2,3,2,1]\n",
        "new_list=[]\n",
        "for i in range(len(my_list) -1, -1, -1):\n",
        "  new_list.append(my_list[i])\n",
        "print(new_list)\n",
        "if my_list==new_list:\n",
        "   print(\"True\")\n",
        "else:\n",
        "  print(\"NO\")\n"
      ],
      "metadata": {
        "colab": {
          "base_uri": "https://localhost:8080/"
        },
        "id": "5feGoy2HHyKc",
        "outputId": "6774d570-2a05-4268-b6c4-fa685efd808b"
      },
      "execution_count": null,
      "outputs": [
        {
          "output_type": "stream",
          "name": "stdout",
          "text": [
            "[1, 2, 3, 2, 1]\n",
            "True\n"
          ]
        }
      ]
    },
    {
      "cell_type": "markdown",
      "source": [],
      "metadata": {
        "id": "CQx4mRhO_BTu"
      }
    }
  ]
}