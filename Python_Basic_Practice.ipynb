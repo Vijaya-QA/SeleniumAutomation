{
  "nbformat": 4,
  "nbformat_minor": 0,
  "metadata": {
    "colab": {
      "provenance": [],
      "toc_visible": true,
      "authorship_tag": "ABX9TyPBre6WqxNjLDMGv0H3gEWJ",
      "include_colab_link": true
    },
    "kernelspec": {
      "name": "python3",
      "display_name": "Python 3"
    },
    "language_info": {
      "name": "python"
    }
  },
  "cells": [
    {
      "cell_type": "markdown",
      "metadata": {
        "id": "view-in-github",
        "colab_type": "text"
      },
      "source": [
        "<a href=\"https://colab.research.google.com/github/Vijaya-QA/SeleniumAutomation/blob/DSML/Python_Basic_Practice.ipynb\" target=\"_parent\"><img src=\"https://colab.research.google.com/assets/colab-badge.svg\" alt=\"Open In Colab\"/></a>"
      ]
    },
    {
      "cell_type": "markdown",
      "source": [
        "# Medium level while loop\n",
        "# 1.Remove and Count Zeros in a Number\n",
        "# Remove all 0s from a number and count how many zeros were removed.\n",
        "# Input: 1053006 → Output: 1536, Zeros removed: 3"
      ],
      "metadata": {
        "id": "smF03KxXYwW9"
      }
    },
    {
      "cell_type": "code",
      "execution_count": null,
      "metadata": {
        "colab": {
          "base_uri": "https://localhost:8080/"
        },
        "id": "lfSJlni5YjG-",
        "outputId": "8770d34f-9b7a-4a30-d6a2-5cb617ec33ac"
      },
      "outputs": [
        {
          "output_type": "stream",
          "name": "stdout",
          "text": [
            "12050403305\n",
            "5388405037835 zeros removed:  4\n"
          ]
        }
      ],
      "source": [
        "n=int(input())\n",
        "temp=n\n",
        "num_without_zeros=0\n",
        "count=0\n",
        "while temp!=0:\n",
        "  last_digit=temp%10\n",
        "  if last_digit==0:\n",
        "    count+=1\n",
        "    #continue\n",
        "  else:\n",
        "    num_without_zeros=(num_without_zeros)*10+(last_digit)\n",
        "  temp=temp//10\n",
        "result=0\n",
        "while num_without_zeros!=0:\n",
        "  last_digit=num_without_zeros%10\n",
        "  result=result*10+num_without_zeros\n",
        "  num_without_zeros=num_without_zeros//10\n",
        "print(result, \"zeros removed: \", count)"
      ]
    },
    {
      "cell_type": "code",
      "source": [
        "n = int(input(\"Enter a number: \"))\n",
        "temp = n\n",
        "num_without_zeros = 0\n",
        "count = 0\n",
        "\n",
        "while temp != 0:\n",
        "    last_digit = temp % 10\n",
        "    if last_digit == 0:\n",
        "        count += 1\n",
        "    else:\n",
        "        num_without_zeros = num_without_zeros * 10 + last_digit\n",
        "    temp = temp // 10  # This must be outside both if/else\n",
        "\n",
        "# Reverse the result because digits were added in reverse order\n",
        "result = 0\n",
        "while num_without_zeros != 0:\n",
        "    result = result * 10 + num_without_zeros % 10\n",
        "    num_without_zeros = num_without_zeros // 10\n",
        "\n",
        "print(result, \"zeros removed:\", count)"
      ],
      "metadata": {
        "colab": {
          "base_uri": "https://localhost:8080/"
        },
        "id": "JFbcI4TgknYr",
        "outputId": "304ba667-1fc3-42da-ebca-1fba449210bb"
      },
      "execution_count": null,
      "outputs": [
        {
          "output_type": "stream",
          "name": "stdout",
          "text": [
            "Enter a number: 12080\n",
            "128 zeros removed: 2\n"
          ]
        }
      ]
    },
    {
      "cell_type": "markdown",
      "source": [
        "# 5.Hard-while loop programs\n",
        "# 1. Reverse Prime Digits\n",
        "Question:\n",
        "Take an integer input and reverse only the prime digits (2, 3, 5, 7) of the number, keeping the positions of other digits the same."
      ],
      "metadata": {
        "id": "pSdIZ48nJ3z0"
      }
    },
    {
      "cell_type": "code",
      "source": [
        "n=int(input())\n",
        "temp=n\n",
        "prime_digits=[]\n",
        "for d in temp:\n",
        "  if d in [2,3,5,7]:\n",
        "    prime_digits.append(d)\n",
        "prime_digits = prime_digits[::-1]\n",
        "result=[]\n",
        "prime_index = 0\n",
        "while d in temp:\n",
        " if d in [2,3,5,7]:\n",
        "  result=result.append(prime_digits[prime_index])\n",
        "  prime_index += 1\n",
        " else:\n",
        "  result=result.append(d)\n",
        "print(\"Output:\", end=\" \")\n",
        "for d in result:\n",
        "    print(d, end=\"\")\n",
        "\n"
      ],
      "metadata": {
        "colab": {
          "base_uri": "https://localhost:8080/",
          "height": 228
        },
        "id": "WZoEvoRzLBVM",
        "outputId": "5102dc40-0b02-4aa1-91d0-1e6e2b74b6e6"
      },
      "execution_count": 2,
      "outputs": [
        {
          "name": "stdout",
          "output_type": "stream",
          "text": [
            "243589\n"
          ]
        },
        {
          "output_type": "error",
          "ename": "TypeError",
          "evalue": "'int' object is not iterable",
          "traceback": [
            "\u001b[0;31m---------------------------------------------------------------------------\u001b[0m",
            "\u001b[0;31mTypeError\u001b[0m                                 Traceback (most recent call last)",
            "\u001b[0;32m<ipython-input-2-d49db4e3345e>\u001b[0m in \u001b[0;36m<cell line: 0>\u001b[0;34m()\u001b[0m\n\u001b[1;32m      2\u001b[0m \u001b[0mtemp\u001b[0m\u001b[0;34m=\u001b[0m\u001b[0mn\u001b[0m\u001b[0;34m\u001b[0m\u001b[0;34m\u001b[0m\u001b[0m\n\u001b[1;32m      3\u001b[0m \u001b[0mprime_digits\u001b[0m\u001b[0;34m=\u001b[0m\u001b[0;34m[\u001b[0m\u001b[0;34m]\u001b[0m\u001b[0;34m\u001b[0m\u001b[0;34m\u001b[0m\u001b[0m\n\u001b[0;32m----> 4\u001b[0;31m \u001b[0;32mfor\u001b[0m \u001b[0md\u001b[0m \u001b[0;32min\u001b[0m \u001b[0mtemp\u001b[0m\u001b[0;34m:\u001b[0m\u001b[0;34m\u001b[0m\u001b[0;34m\u001b[0m\u001b[0m\n\u001b[0m\u001b[1;32m      5\u001b[0m   \u001b[0;32mif\u001b[0m \u001b[0md\u001b[0m \u001b[0;32min\u001b[0m \u001b[0;34m[\u001b[0m\u001b[0;36m2\u001b[0m\u001b[0;34m,\u001b[0m\u001b[0;36m3\u001b[0m\u001b[0;34m,\u001b[0m\u001b[0;36m5\u001b[0m\u001b[0;34m,\u001b[0m\u001b[0;36m7\u001b[0m\u001b[0;34m]\u001b[0m\u001b[0;34m:\u001b[0m\u001b[0;34m\u001b[0m\u001b[0;34m\u001b[0m\u001b[0m\n\u001b[1;32m      6\u001b[0m     \u001b[0mprime_digits\u001b[0m\u001b[0;34m.\u001b[0m\u001b[0mappend\u001b[0m\u001b[0;34m(\u001b[0m\u001b[0md\u001b[0m\u001b[0;34m)\u001b[0m\u001b[0;34m\u001b[0m\u001b[0;34m\u001b[0m\u001b[0m\n",
            "\u001b[0;31mTypeError\u001b[0m: 'int' object is not iterable"
          ]
        }
      ]
    },
    {
      "cell_type": "code",
      "source": [
        "n = int(input(\"Enter a number: \"))\n",
        "\n",
        "# Step 1: Extract digits and store them in a list\n",
        "digits = []\n",
        "temp = n\n",
        "while temp != 0:\n",
        "    digits.append(temp % 10)\n",
        "    temp = temp // 10\n",
        "digits = digits[::-1]  # Now digits are in correct order\n",
        "\n",
        "# Step 2: Identify and store prime digits\n",
        "prime_digits = []\n",
        "for d in digits:\n",
        "    if d in [2, 3, 5, 7]:\n",
        "        prime_digits.append(d)\n",
        "\n",
        "# Step 3: Reverse the prime digits\n",
        "prime_digits = prime_digits[::-1]\n",
        "\n",
        "# Step 4: Replace prime digits in the number with reversed ones\n",
        "result = []\n",
        "prime_index = 0\n",
        "for d in digits:\n",
        "    if d in [2, 3, 5, 7]:\n",
        "        result.append(prime_digits[prime_index])\n",
        "        prime_index += 1\n",
        "    else:\n",
        "        result.append(d)\n",
        "\n",
        "# Step 5: Print the result as a number\n",
        "print(\"Output:\", end=\" \")\n",
        "for d in result:\n",
        "    print(d, end=\"\")\n"
      ],
      "metadata": {
        "colab": {
          "base_uri": "https://localhost:8080/"
        },
        "id": "GbncXbgXPYRl",
        "outputId": "eb9510ce-6309-482a-eb67-2349680a1446"
      },
      "execution_count": 1,
      "outputs": [
        {
          "output_type": "stream",
          "name": "stdout",
          "text": [
            "Enter a number: 34291\n",
            "Output: 24391"
          ]
        }
      ]
    },
    {
      "cell_type": "markdown",
      "source": [
        "# Easy level-Function problems\n",
        "# 1.Add Two Numbers"
      ],
      "metadata": {
        "id": "U0xmx06FbHly"
      }
    },
    {
      "cell_type": "code",
      "source": [
        "def addition(a,b):\n",
        "  return(a+b)\n",
        "print(addition(2,4))"
      ],
      "metadata": {
        "colab": {
          "base_uri": "https://localhost:8080/"
        },
        "id": "oRAs5mXLbQOt",
        "outputId": "652c3b1e-144c-4c54-8ffc-9a0ce2b486f8"
      },
      "execution_count": 4,
      "outputs": [
        {
          "output_type": "stream",
          "name": "stdout",
          "text": [
            "6\n"
          ]
        }
      ]
    },
    {
      "cell_type": "markdown",
      "source": [
        "# 2.Find Maximum of Two Numbers\n",
        "Write a function maximum(a, b) that returns the bigger number.\n",
        "\n",
        "```\n",
        "# This is formatted as code\n",
        "```\n",
        "\n"
      ],
      "metadata": {
        "id": "VhH37S4MbnvH"
      }
    },
    {
      "cell_type": "code",
      "source": [
        "def maximum(a,b):\n",
        "  if a>b:\n",
        "    return(a)\n",
        "  else:\n",
        "    return(b)\n",
        "print(maximum(3,1))"
      ],
      "metadata": {
        "colab": {
          "base_uri": "https://localhost:8080/"
        },
        "id": "k6dc0VGob_CO",
        "outputId": "b728af80-dc24-4329-e0b4-d9b20c937c3a"
      },
      "execution_count": 8,
      "outputs": [
        {
          "output_type": "stream",
          "name": "stdout",
          "text": [
            "3\n"
          ]
        }
      ]
    },
    {
      "cell_type": "markdown",
      "source": [
        "# 3.Print Multiplication Table\n",
        "Write a function print_table(n) that prints the multiplication table of n up to 10."
      ],
      "metadata": {
        "id": "FAzduMxKcrK-"
      }
    },
    {
      "cell_type": "code",
      "source": [
        "def print_table(n):\n",
        "  i=1\n",
        "  while i<=10:\n",
        "    print(n*i, end=\",\")\n",
        "    i+=1\n",
        "print_table(2)"
      ],
      "metadata": {
        "colab": {
          "base_uri": "https://localhost:8080/"
        },
        "id": "PhdbrKenc1e3",
        "outputId": "3fe1cfb2-e13a-482b-d43a-a480e3a87908"
      },
      "execution_count": 10,
      "outputs": [
        {
          "output_type": "stream",
          "name": "stdout",
          "text": [
            "2,4,6,8,10,12,14,16,18,20,"
          ]
        }
      ]
    },
    {
      "cell_type": "markdown",
      "source": [
        "# 4.Calculate Factorial\n",
        "Write a function factorial(n) that returns the factorial of a number using a loop."
      ],
      "metadata": {
        "id": "1qaB-2tReB-3"
      }
    },
    {
      "cell_type": "code",
      "source": [
        "def factorial(n):\n",
        "  fact=1\n",
        "  i=1\n",
        "  while i<=n:\n",
        "    fact=fact*i\n",
        "    i+=1\n",
        "  return(fact)\n",
        "print(factorial(5))\n"
      ],
      "metadata": {
        "colab": {
          "base_uri": "https://localhost:8080/"
        },
        "id": "hmLKPXNyeJ9o",
        "outputId": "1e6f75e4-3723-417d-9e96-ef5099af414a"
      },
      "execution_count": 12,
      "outputs": [
        {
          "output_type": "stream",
          "name": "stdout",
          "text": [
            "120\n"
          ]
        }
      ]
    },
    {
      "cell_type": "markdown",
      "source": [
        "# Medium level-Function problem\n",
        "# 1. Count Vowels in a String\n",
        "Write a function count_vowels(s) that returns the number of vowels (a, e, i, o, u) in a given string.\n"
      ],
      "metadata": {
        "id": "piJM_neWfyMX"
      }
    },
    {
      "cell_type": "code",
      "source": [
        "def count_vowels(s):\n",
        "  vowels=\"aeiouAEIOU\"\n",
        "  count=0\n",
        "  l=0\n",
        "  while l<len(s):\n",
        "    if s[l] in vowels:\n",
        "      count+=1\n",
        "    l+=1\n",
        "  return(count)\n",
        "count_vowels(\"vijaya\")\n"
      ],
      "metadata": {
        "colab": {
          "base_uri": "https://localhost:8080/"
        },
        "id": "lGM7e-Z_f6VF",
        "outputId": "b22809aa-f72c-4053-9d93-eda8a33b1f93"
      },
      "execution_count": 24,
      "outputs": [
        {
          "output_type": "execute_result",
          "data": {
            "text/plain": [
              "3"
            ]
          },
          "metadata": {},
          "execution_count": 24
        }
      ]
    },
    {
      "cell_type": "code",
      "source": [
        "def count_vowels(s):\n",
        "  vowels=\"aeiouAEIOU\"\n",
        "  count=0\n",
        "  for c in s:\n",
        "    if c in vowels:\n",
        "      count+=1\n",
        "    else:\n",
        "      continue\n",
        "  return(count)\n",
        "count_vowels(\"vijayaVIJAYA\")"
      ],
      "metadata": {
        "colab": {
          "base_uri": "https://localhost:8080/"
        },
        "id": "87ykNU-Fht4f",
        "outputId": "2748218c-ae8e-4526-8b3c-f319a44c8231"
      },
      "execution_count": 20,
      "outputs": [
        {
          "output_type": "execute_result",
          "data": {
            "text/plain": [
              "6"
            ]
          },
          "metadata": {},
          "execution_count": 20
        }
      ]
    },
    {
      "cell_type": "markdown",
      "source": [
        "# 2. Check for Palindrome\n",
        "Write a function is_palindrome(s) that checks if a string is a palindrome (same forwards and backwards)."
      ],
      "metadata": {
        "id": "U8OvDDR0jLie"
      }
    },
    {
      "cell_type": "code",
      "source": [
        "def is_palindrome(s):\n",
        "  temp=s\n",
        "  chars=[]\n",
        "  c=0\n",
        "  while c<len(temp):\n",
        "    chars=chars.append(temp(c))\n",
        "    c+=1\n",
        "  rev_char=[]\n",
        "  i=len(chars)\n",
        "  for i in chars:\n",
        "    rev_char=rev_char.append(chars(i))\n",
        "    i-=1\n",
        "  i=0\n",
        "  for i in rev_char:\n",
        "    str=str+rev_char(i)\n",
        "    i+=1\n",
        "  if str==s:\n",
        "    print(\"palindrome\")\n",
        "  else:\n",
        "    print(\"not palindrome\")\n",
        "is_palindrome(\"madam\")"
      ],
      "metadata": {
        "colab": {
          "base_uri": "https://localhost:8080/",
          "height": 297
        },
        "id": "C-NTqgoWjWEV",
        "outputId": "744ad245-0f57-4b87-92d5-45390e349732"
      },
      "execution_count": 28,
      "outputs": [
        {
          "output_type": "error",
          "ename": "TypeError",
          "evalue": "'str' object is not callable",
          "traceback": [
            "\u001b[0;31m---------------------------------------------------------------------------\u001b[0m",
            "\u001b[0;31mTypeError\u001b[0m                                 Traceback (most recent call last)",
            "\u001b[0;32m<ipython-input-28-29abd62f35da>\u001b[0m in \u001b[0;36m<cell line: 0>\u001b[0;34m()\u001b[0m\n\u001b[1;32m     19\u001b[0m   \u001b[0;32melse\u001b[0m\u001b[0;34m:\u001b[0m\u001b[0;34m\u001b[0m\u001b[0;34m\u001b[0m\u001b[0m\n\u001b[1;32m     20\u001b[0m     \u001b[0mprint\u001b[0m\u001b[0;34m(\u001b[0m\u001b[0;34m\"not palindrome\"\u001b[0m\u001b[0;34m)\u001b[0m\u001b[0;34m\u001b[0m\u001b[0;34m\u001b[0m\u001b[0m\n\u001b[0;32m---> 21\u001b[0;31m \u001b[0mis_palindrome\u001b[0m\u001b[0;34m(\u001b[0m\u001b[0;34m\"madam\"\u001b[0m\u001b[0;34m)\u001b[0m\u001b[0;34m\u001b[0m\u001b[0;34m\u001b[0m\u001b[0m\n\u001b[0m",
            "\u001b[0;32m<ipython-input-28-29abd62f35da>\u001b[0m in \u001b[0;36mis_palindrome\u001b[0;34m(s)\u001b[0m\n\u001b[1;32m      4\u001b[0m   \u001b[0mc\u001b[0m\u001b[0;34m=\u001b[0m\u001b[0;36m0\u001b[0m\u001b[0;34m\u001b[0m\u001b[0;34m\u001b[0m\u001b[0m\n\u001b[1;32m      5\u001b[0m   \u001b[0;32mwhile\u001b[0m \u001b[0mc\u001b[0m\u001b[0;34m<\u001b[0m\u001b[0mlen\u001b[0m\u001b[0;34m(\u001b[0m\u001b[0mtemp\u001b[0m\u001b[0;34m)\u001b[0m\u001b[0;34m:\u001b[0m\u001b[0;34m\u001b[0m\u001b[0;34m\u001b[0m\u001b[0m\n\u001b[0;32m----> 6\u001b[0;31m     \u001b[0mchars\u001b[0m\u001b[0;34m=\u001b[0m\u001b[0mchars\u001b[0m\u001b[0;34m.\u001b[0m\u001b[0mappend\u001b[0m\u001b[0;34m(\u001b[0m\u001b[0mtemp\u001b[0m\u001b[0;34m(\u001b[0m\u001b[0mc\u001b[0m\u001b[0;34m)\u001b[0m\u001b[0;34m)\u001b[0m\u001b[0;34m\u001b[0m\u001b[0;34m\u001b[0m\u001b[0m\n\u001b[0m\u001b[1;32m      7\u001b[0m     \u001b[0mc\u001b[0m\u001b[0;34m+=\u001b[0m\u001b[0;36m1\u001b[0m\u001b[0;34m\u001b[0m\u001b[0;34m\u001b[0m\u001b[0m\n\u001b[1;32m      8\u001b[0m   \u001b[0mrev_char\u001b[0m\u001b[0;34m=\u001b[0m\u001b[0;34m[\u001b[0m\u001b[0;34m]\u001b[0m\u001b[0;34m\u001b[0m\u001b[0;34m\u001b[0m\u001b[0m\n",
            "\u001b[0;31mTypeError\u001b[0m: 'str' object is not callable"
          ]
        }
      ]
    },
    {
      "cell_type": "code",
      "source": [
        "def is_palindrome(s):\n",
        "    left = 0\n",
        "    right = len(s) - 1\n",
        "\n",
        "    while left < right:\n",
        "        if s[left] != s[right]:\n",
        "            return False\n",
        "        left += 1\n",
        "        right -= 1\n",
        "\n",
        "    return True\n",
        "\n",
        "# Example usage\n",
        "text = input(\"Enter a string: \")\n",
        "if is_palindrome(text):\n",
        "    print(\"It is a palindrome.\")\n",
        "else:\n",
        "    print(\"It is not a palindrome.\")"
      ],
      "metadata": {
        "id": "5LTmKNCio8jv"
      },
      "execution_count": null,
      "outputs": []
    },
    {
      "cell_type": "markdown",
      "source": [
        "# 3. Prime Number Checker\n",
        "Write a function is_prime(n) that returns True if the number is prime."
      ],
      "metadata": {
        "id": "2J0shmDnpDhq"
      }
    },
    {
      "cell_type": "code",
      "source": [
        "def is_prime(n):\n",
        "  i=2\n",
        "  while i<n:\n",
        "    if n%i==0:\n",
        "      return False\n",
        "    else:\n",
        "      return True\n",
        "    i+=1\n",
        "print(is_prime(7))"
      ],
      "metadata": {
        "colab": {
          "base_uri": "https://localhost:8080/"
        },
        "id": "QwECIUxwpLpf",
        "outputId": "d08339e1-49cf-40eb-a4ff-38edc06601cd"
      },
      "execution_count": 32,
      "outputs": [
        {
          "output_type": "stream",
          "name": "stdout",
          "text": [
            "True\n"
          ]
        }
      ]
    },
    {
      "cell_type": "markdown",
      "source": [
        "# 4. Find All Divisors of a Number\n",
        "Write a function get_divisors(n) that returns a list of all divisors of n.\n"
      ],
      "metadata": {
        "id": "lwnXX3X1p8KZ"
      }
    },
    {
      "cell_type": "code",
      "source": [
        "def get_divisors(n):\n",
        "  divisors=[]\n",
        "  i=2\n",
        "  while i<n:\n",
        "    if n%i==0:\n",
        "      divisors.append(i)\n",
        "    #else:\n",
        "      #continue\n",
        "    i+=1\n",
        "  return divisors\n",
        "print(get_divisors(10))\n",
        ""
      ],
      "metadata": {
        "colab": {
          "base_uri": "https://localhost:8080/"
        },
        "id": "FZmJup1jqGWH",
        "outputId": "4fb9eb97-b130-41a2-a6a1-c3139da7fee1"
      },
      "execution_count": 36,
      "outputs": [
        {
          "output_type": "stream",
          "name": "stdout",
          "text": [
            "[2, 5]\n"
          ]
        }
      ]
    },
    {
      "cell_type": "markdown",
      "source": [
        "# 5. Sum of Digits\n",
        "Write a function digit_sum(n) that returns the sum of digits of a number."
      ],
      "metadata": {
        "id": "2-aa_opfrkO2"
      }
    },
    {
      "cell_type": "code",
      "source": [
        "def digit_sum(n):\n",
        "  temp=n\n",
        "  sum=0\n",
        "  #i=0\n",
        "  while temp!=0:\n",
        "    last_digit=temp%10\n",
        "    sum=sum+last_digit\n",
        "    temp=temp//10\n",
        "    #i+=1\n",
        "  return sum\n",
        "print(digit_sum(1234))"
      ],
      "metadata": {
        "colab": {
          "base_uri": "https://localhost:8080/"
        },
        "id": "KGkypZ8arrmv",
        "outputId": "aacff030-661e-4a97-eff3-32fc4fa5fa65"
      },
      "execution_count": 44,
      "outputs": [
        {
          "output_type": "stream",
          "name": "stdout",
          "text": [
            "10\n"
          ]
        }
      ]
    },
    {
      "cell_type": "markdown",
      "source": [],
      "metadata": {
        "id": "Ax3yCRGOubEc"
      }
    },
    {
      "cell_type": "markdown",
      "source": [],
      "metadata": {
        "id": "DHn6i6kIaMI9"
      }
    },
    {
      "cell_type": "markdown",
      "source": [],
      "metadata": {
        "id": "-W_XJn10mNu6"
      }
    }
  ]
}