{
  "cells": [
    {
      "cell_type": "markdown",
      "metadata": {
        "id": "view-in-github",
        "colab_type": "text"
      },
      "source": [
        "<a href=\"https://colab.research.google.com/github/Vijaya-QA/SeleniumAutomation/blob/DSML/Python_Basic_Practice.ipynb\" target=\"_parent\"><img src=\"https://colab.research.google.com/assets/colab-badge.svg\" alt=\"Open In Colab\"/></a>"
      ]
    },
    {
      "cell_type": "markdown",
      "metadata": {
        "id": "dp-JukiqwftL"
      },
      "source": [
        "# 1.What to wear.if weather<32 and its rainy wear shirt and take umbrella else wear t-shirt"
      ]
    },
    {
      "cell_type": "code",
      "execution_count": null,
      "metadata": {
        "colab": {
          "base_uri": "https://localhost:8080/"
        },
        "id": "A8CbXmU2xjs4",
        "outputId": "06ce963c-ef22-43a1-a6a0-861c2478a58c"
      },
      "outputs": [
        {
          "name": "stdout",
          "output_type": "stream",
          "text": [
            "Enter temparature: 32\n",
            "Enter weather: rainy\n",
            "wear shirt\n",
            "take umbrella\n"
          ]
        }
      ],
      "source": [
        "Temparature=int(input(\"Enter temparature: \"))\n",
        "Weather=input(\"Enter weather: \")\n",
        "if Temparature<32:\n",
        "  print(\"Wear t-shirt\")\n",
        "  if Weather=='rainy':\n",
        "    print(\"take umbrella\")\n",
        "else:\n",
        "  print(\"wear shirt\")\n",
        "  if Weather=='rainy':\n",
        "    print(\"take umbrella\")"
      ]
    },
    {
      "cell_type": "markdown",
      "metadata": {
        "id": "ucenqRq-0j03"
      },
      "source": [
        "# 2.Take input from user and validate username and password."
      ]
    },
    {
      "cell_type": "code",
      "execution_count": null,
      "metadata": {
        "colab": {
          "base_uri": "https://localhost:8080/"
        },
        "id": "vi9eITeM1SMf",
        "outputId": "4ef9d9df-084c-441b-c690-8c2b6a867ee5"
      },
      "outputs": [
        {
          "name": "stdout",
          "output_type": "stream",
          "text": [
            "Enter Username: Vijaya\n",
            "Enter Password: abc\n",
            "Incorrect Username and Password\n"
          ]
        }
      ],
      "source": [
        "Username=input(\"Enter Username: \")\n",
        "Password=input(\"Enter Password: \")\n",
        "if Username==\"Vijaya\":\n",
        "  if Password==\"login@146\":\n",
        "    print(\"User logged in successfull\")\n",
        "  else:\n",
        "   print(\"Incorrect Username and Password\")\n",
        "else:\n",
        "  print(\"Incorrect Username and Password\")\n"
      ]
    },
    {
      "cell_type": "code",
      "execution_count": null,
      "metadata": {
        "colab": {
          "base_uri": "https://localhost:8080/"
        },
        "id": "1NHHPbaH4Rzm",
        "outputId": "ef478b1b-cc53-4467-c8c6-9036e0b70449"
      },
      "outputs": [
        {
          "name": "stdout",
          "output_type": "stream",
          "text": [
            "Enter Username: Vijaya\n",
            "Enter Password: login@146\n",
            "User logged in successfull\n"
          ]
        }
      ],
      "source": [
        "Username=input(\"Enter Username: \")\n",
        "Password=input(\"Enter Password: \")\n",
        "if Username==\"Vijaya\"and Password==\"login@146\":\n",
        "   print(\"User logged in successfull\")\n",
        "else:\n",
        "  print(\"Incorrect Username and Password\")"
      ]
    },
    {
      "cell_type": "markdown",
      "metadata": {
        "id": "_nqomBcA40JW"
      },
      "source": [
        "# 3.Do separate username and password validations\n"
      ]
    },
    {
      "cell_type": "code",
      "execution_count": null,
      "metadata": {
        "colab": {
          "base_uri": "https://localhost:8080/"
        },
        "id": "z1RfUe8J47rB",
        "outputId": "7f3e1e8b-4c4a-40c9-914f-e3e84100e03f"
      },
      "outputs": [
        {
          "name": "stdout",
          "output_type": "stream",
          "text": [
            "Enter Username: Vijaya\n",
            "Enter Password: login@146\n",
            "User logged in successfull\n"
          ]
        }
      ],
      "source": [
        "Username=input(\"Enter Username: \")\n",
        "Password=input(\"Enter Password: \")\n",
        "if Username==\"Vijaya\":\n",
        "  if Password==\"login@146\":\n",
        "    print(\"User logged in successfull\")\n",
        "  else:\n",
        "    print(\"password is wrong\")\n",
        "else:\n",
        "  print(\"username is wrong\")"
      ]
    },
    {
      "cell_type": "markdown",
      "metadata": {
        "id": "XbkTsWvZB5nc"
      },
      "source": [
        "# 4.How to get last digit from whole number?"
      ]
    },
    {
      "cell_type": "code",
      "execution_count": null,
      "metadata": {
        "colab": {
          "base_uri": "https://localhost:8080/"
        },
        "id": "5uA2dj_hFEPd",
        "outputId": "1e27bec5-9227-4976-ca2c-4198a386537c"
      },
      "outputs": [
        {
          "name": "stdout",
          "output_type": "stream",
          "text": [
            "100\n",
            "0\n"
          ]
        }
      ],
      "source": [
        "num=int(input())\n",
        "last_digit=num%10\n",
        "print(last_digit)"
      ]
    },
    {
      "cell_type": "markdown",
      "metadata": {
        "id": "6yGMeO_oJIHE"
      },
      "source": [
        "# 5.Take an input N if N is multiple of 3 print FIZZ elseif N is multiple of of 5 print BUZZ else if N is a multiple of both 3&5 print FIZZBUZZ"
      ]
    },
    {
      "cell_type": "code",
      "execution_count": null,
      "metadata": {
        "colab": {
          "base_uri": "https://localhost:8080/"
        },
        "id": "FHUXe2Z7JgRq",
        "outputId": "fbcd6101-404b-451a-c8a2-da0911842aa4"
      },
      "outputs": [
        {
          "name": "stdout",
          "output_type": "stream",
          "text": [
            "0\n",
            "FIZZBUZZ\n"
          ]
        }
      ],
      "source": [
        "n=int(input())\n",
        "if n%3==0 and n%5==0:\n",
        "  print(\"FIZZBUZZ\")\n",
        "elif n%3==0:\n",
        "    print(\"FIZZ\")\n",
        "elif n%5==0:\n",
        "      print(\"BUZZ\")\n",
        "else:\n",
        "  print(\"not multiple by both\")"
      ]
    },
    {
      "cell_type": "markdown",
      "metadata": {
        "id": "H-By_swLzmJv"
      },
      "source": [
        "# 6.Generate electricity bill using the following rate card as input\n",
        "if units<100--free\n",
        "if units>=100 and units<200--2rs/- per unit\n",
        "if units>=200--5rs/- per unit"
      ]
    },
    {
      "cell_type": "code",
      "execution_count": null,
      "metadata": {
        "colab": {
          "base_uri": "https://localhost:8080/"
        },
        "id": "P9vTjHot403o",
        "outputId": "a49ee900-8055-4ad2-8090-b44e83f1c756"
      },
      "outputs": [
        {
          "name": "stdout",
          "output_type": "stream",
          "text": [
            "enter number of units: 100\n",
            "Current Bill is: 200 units: 100\n"
          ]
        }
      ],
      "source": [
        "units=int(input(\"enter number of units: \"))\n",
        "if units<100:\n",
        "  print(f\"units are {units} so No bill-Free\")\n",
        "elif units>=100 and units<200:\n",
        "  print(\"Current Bill is:\",units*2, \"units:\", units)\n",
        "else:\n",
        "  print(\"current bill is:\",units*5)"
      ]
    },
    {
      "cell_type": "markdown",
      "metadata": {
        "id": "sdzEzebIAW6A"
      },
      "source": [
        "# 7.Build a meter system for an autoo. take into 2 inputs like killometers travelledd aand start time in minut\n",
        "rate list--first 10kms-->10rs/- per km. next 40kms-9rs/- per km.next 100kms-8/- per km. any leftover km count-6rs/- per km. 5rs/- exxttrra for every minute of start time."
      ]
    },
    {
      "cell_type": "code",
      "execution_count": null,
      "metadata": {
        "colab": {
          "base_uri": "https://localhost:8080/"
        },
        "id": "lqOBRxdOBRyf",
        "outputId": "9a71243c-a6d1-40e1-bb8e-dae1ae99532d"
      },
      "outputs": [
        {
          "name": "stdout",
          "output_type": "stream",
          "text": [
            "Enter travelled kms:102\n",
            "start time in minuts:40\n",
            "travelled bill for 102 kms is: 1072 rs/-\n"
          ]
        }
      ],
      "source": [
        "travelled_kms=int(input(\"Enter travelled kms:\"))\n",
        "start_time=int(input(\"start time in minuts:\"))\n",
        "if travelled_kms<=10:\n",
        "  print(\"travelled bill for\", travelled_kms,\"kms is:\", travelled_kms*10,\"rs/-\")\n",
        "elif travelled_kms>10 and travelled_kms<=40:\n",
        "  print(\"travelled bill for\", travelled_kms, \"kms is:\", (travelled_kms-10)*9+(10*10),\"rs/-\")\n",
        "elif travelled_kms>40 and travelled_kms<=100:\n",
        "  print(\"travelled bill for\", travelled_kms,\"kms is:\",((travelled_kms-40)*8+(10*10)+(30*9)),\"rs/-\")\n",
        "elif travelled_kms>100:\n",
        "  print(\"travelled bill for\", travelled_kms,\"kms is:\",((travelled_kms-100)*6+(10*10)+(40*9)+(50*8)+(start_time*5)),\"rs/-\")"
      ]
    },
    {
      "cell_type": "markdown",
      "metadata": {
        "id": "xpc278ipMpk3"
      },
      "source": [
        "# **For** **Loop**\n",
        "1.print 1st n numbers"
      ]
    },
    {
      "cell_type": "code",
      "execution_count": null,
      "metadata": {
        "colab": {
          "base_uri": "https://localhost:8080/"
        },
        "id": "sXVj2DmSN3sp",
        "outputId": "67759d84-616c-4305-8933-82d2ad3c873a"
      },
      "outputs": [
        {
          "name": "stdout",
          "output_type": "stream",
          "text": [
            "5\n",
            "First 5 numbers:1,2,3,4,5,"
          ]
        }
      ],
      "source": [
        "n=int(input())\n",
        "print(f\"First {n} numbers:\", end=\"\")\n",
        "for i in range(1,n+1):\n",
        "  print(i, end=\",\")"
      ]
    },
    {
      "cell_type": "markdown",
      "metadata": {
        "id": "Mrp8x_QDQnBO"
      },
      "source": [
        "# **2.print all even numbers between 10&100 both including**"
      ]
    },
    {
      "cell_type": "code",
      "execution_count": null,
      "metadata": {
        "colab": {
          "base_uri": "https://localhost:8080/"
        },
        "id": "dldWc38dQvuv",
        "outputId": "4738e510-1cc7-4ed3-af11-6ea20254e8de"
      },
      "outputs": [
        {
          "name": "stdout",
          "output_type": "stream",
          "text": [
            "even numbers between 10 and 100 are:\n",
            "10,12,14,16,18,20,22,24,26,28,30,32,34,36,38,40,42,44,46,48,50,52,54,56,58,60,62,64,66,68,70,72,74,76,78,80,82,84,86,88,90,92,94,96,98,100,"
          ]
        }
      ],
      "source": [
        "n=10\n",
        "print(\"even numbers between 10 and 100 are:\")\n",
        "for i in range(n, 101):\n",
        " if i%2==0:\n",
        "  print(i, end=\",\")"
      ]
    },
    {
      "cell_type": "markdown",
      "metadata": {
        "id": "5VI0ZPqNRi04"
      },
      "source": [
        "# 100 to 10-->all even numbers"
      ]
    },
    {
      "cell_type": "code",
      "execution_count": null,
      "metadata": {
        "colab": {
          "base_uri": "https://localhost:8080/"
        },
        "id": "FhFhjr1_RpGX",
        "outputId": "6c8f5751-b77b-4818-dd54-e21d9d93da51"
      },
      "outputs": [
        {
          "name": "stdout",
          "output_type": "stream",
          "text": [
            "even numbers between 100 and 10 are:\n",
            "100,98,96,94,92,90,88,86,84,82,80,78,76,74,72,70,68,66,64,62,60,58,56,54,52,50,48,46,44,42,40,38,36,34,32,30,28,26,24,22,20,18,16,14,12,10,\n"
          ]
        }
      ],
      "source": [
        "n=100\n",
        "print(\"even numbers between 100 and 10 are:\")\n",
        "for i in range(n, 9,-1):\n",
        " if i%2==0:\n",
        "  print(i, end=\",\")\n"
      ]
    },
    {
      "cell_type": "markdown",
      "metadata": {
        "id": "oB2bKAFqSUr8"
      },
      "source": [
        "# output--1#2#3#Hello"
      ]
    },
    {
      "cell_type": "code",
      "execution_count": null,
      "metadata": {
        "colab": {
          "base_uri": "https://localhost:8080/"
        },
        "id": "Xndair_2SZkX",
        "outputId": "061f8146-7348-4f19-d58b-c52c55b939ef"
      },
      "outputs": [
        {
          "name": "stdout",
          "output_type": "stream",
          "text": [
            "1#2#3#Hello\n"
          ]
        }
      ],
      "source": [
        "print(1,2,3,\"Hello\",sep=\"#\")"
      ]
    },
    {
      "cell_type": "markdown",
      "metadata": {
        "id": "zj4Tx5m_UFD3"
      },
      "source": [
        "# 2.sum of squares of all numbers between"
      ]
    },
    {
      "cell_type": "code",
      "execution_count": null,
      "metadata": {
        "colab": {
          "base_uri": "https://localhost:8080/"
        },
        "id": "pZpa8n4OUOAV",
        "outputId": "fc083f54-d0ad-4371-c3a1-166aac0d424a"
      },
      "outputs": [
        {
          "name": "stdout",
          "output_type": "stream",
          "text": [
            "10\n",
            "100\n",
            "sum of square of all numbers between: 10 and 100 is 338065\n"
          ]
        }
      ],
      "source": [
        "a=int(input())\n",
        "b=int(input())\n",
        "sum=0\n",
        "for i in range(a, b+1):\n",
        " sum=sum+(i**2)\n",
        "print(\"sum of square of all numbers between:\", a,\"and\",b, \"is\", sum)"
      ]
    },
    {
      "cell_type": "markdown",
      "metadata": {
        "id": "XQaK4KvEVgoM"
      },
      "source": [
        "# 3. print square of its numbers below 50. Eg: \\1,4,9..36--we are not acieved currectly--while loop is better option"
      ]
    },
    {
      "cell_type": "code",
      "execution_count": null,
      "metadata": {
        "colab": {
          "base_uri": "https://localhost:8080/"
        },
        "id": "nISLwxLWVt4z",
        "outputId": "f4b5642b-d89e-427b-da1d-b6c3263c2ccb"
      },
      "outputs": [
        {
          "name": "stdout",
          "output_type": "stream",
          "text": [
            "1\n",
            "4\n",
            "9\n",
            "16\n",
            "25\n",
            "36\n",
            "49\n",
            "64\n",
            "Final sum is: 204\n"
          ]
        }
      ],
      "source": [
        "n=1\n",
        "sum=0\n",
        "for i in range(n, 50):\n",
        "  square1=i**2\n",
        "  sum=sum+square1\n",
        "  print(square1)\n",
        "  if square1>50:\n",
        "    break\n",
        "print(\"Final sum is:\", sum)\n"
      ]
    },
    {
      "cell_type": "markdown",
      "metadata": {
        "id": "VFPGbMgFc5GU"
      },
      "source": [
        "# 5!=5*4*3*2*1"
      ]
    },
    {
      "cell_type": "code",
      "execution_count": null,
      "metadata": {
        "colab": {
          "base_uri": "https://localhost:8080/"
        },
        "id": "pqUtm74Mc_zz",
        "outputId": "fc7bd60e-87d6-48cc-c4f8-96b13cf2759d"
      },
      "outputs": [
        {
          "name": "stdout",
          "output_type": "stream",
          "text": [
            "5\n",
            "5 factorial is: 120\n"
          ]
        }
      ],
      "source": [
        "n=int(input())\n",
        "sum=1\n",
        "for i in range(n,1,-1):\n",
        "  sum=sum*i\n",
        "print(f\"{n} factorial is:\", sum)\n"
      ]
    },
    {
      "cell_type": "markdown",
      "metadata": {
        "id": "i5ONR_iZgW16"
      },
      "source": [
        "# prime number?"
      ]
    },
    {
      "cell_type": "code",
      "execution_count": null,
      "metadata": {
        "colab": {
          "base_uri": "https://localhost:8080/"
        },
        "id": "-84gZkV9gazK",
        "outputId": "2d9135b9-b709-4bab-f72e-e8eeb60574fb"
      },
      "outputs": [
        {
          "name": "stdout",
          "output_type": "stream",
          "text": [
            "6\n",
            "2\n",
            "6 is not a prime number\n"
          ]
        }
      ],
      "source": [
        "n=int(input())\n",
        "for i in range(2,n):\n",
        "  if n%i==0:\n",
        "    print(i)\n",
        "    print(n, \"is not a prime number\")\n",
        "    break\n",
        "else:\n",
        "  print(n,\"is a prime number\")"
      ]
    },
    {
      "cell_type": "markdown",
      "metadata": {
        "id": "HshP3DMxiJ05"
      },
      "source": [
        "# print 0,1,1,2,3,5,,813,21,34--3rd term always sum of two prevvious  terms--not perfect?"
      ]
    },
    {
      "cell_type": "code",
      "execution_count": null,
      "metadata": {
        "colab": {
          "base_uri": "https://localhost:8080/"
        },
        "id": "Yhbokd7niYMR",
        "outputId": "8f3be4b8-8e72-4f87-ce53-d1f48962671d"
      },
      "outputs": [
        {
          "name": "stdout",
          "output_type": "stream",
          "text": [
            "0 1 1 2 3 5 8 13 21 34 55 "
          ]
        }
      ],
      "source": [
        "a=0\n",
        "b=1\n",
        "n=35\n",
        "print(a,b,end=\" \")\n",
        "for i in range(n):\n",
        "  c=a+b\n",
        "  print(c, end=\" \")\n",
        "  if c>=n:\n",
        "   break\n",
        "  else:\n",
        "    a=b\n",
        "    b=c\n",
        "\n"
      ]
    },
    {
      "cell_type": "markdown",
      "metadata": {
        "id": "t8EuamqwMkns"
      },
      "source": [
        "# **Pattern Printing**"
      ]
    },
    {
      "cell_type": "markdown",
      "metadata": {
        "id": "h1bMVMtBMsQD"
      },
      "source": [
        "# 1st prob"
      ]
    },
    {
      "cell_type": "code",
      "execution_count": null,
      "metadata": {
        "colab": {
          "base_uri": "https://localhost:8080/"
        },
        "id": "-mXXteqJMxOU",
        "outputId": "4ed272b7-b8a0-4f7e-830c-4248c30d2d06"
      },
      "outputs": [
        {
          "name": "stdout",
          "output_type": "stream",
          "text": [
            "2\n",
            "3\n",
            "(0, 0) (0, 1) (0, 2) \n",
            "(1, 0) (1, 1) (1, 2) \n"
          ]
        }
      ],
      "source": [
        "n=int(input())\n",
        "m=int(input())\n",
        "for i in range(n):\n",
        "  for j in range(m):\n",
        "    print((i,j), end=\" \")\n",
        "  print()"
      ]
    },
    {
      "cell_type": "markdown",
      "metadata": {
        "id": "KFrJnP2UOeS8"
      },
      "source": [
        "# Note:Outer loop deciding the row indexing. Inner loop is deciding the column index"
      ]
    },
    {
      "cell_type": "markdown",
      "metadata": {
        "id": "Tx777fY_O3dT"
      },
      "source": [
        "# 2 problem\n",
        "*\n",
        "* *\n",
        "* * *"
      ]
    },
    {
      "cell_type": "code",
      "execution_count": null,
      "metadata": {
        "colab": {
          "base_uri": "https://localhost:8080/"
        },
        "id": "h2mCxSRjO-fL",
        "outputId": "ceca1d8e-a34c-4949-c414-64f9f5dff74d"
      },
      "outputs": [
        {
          "name": "stdout",
          "output_type": "stream",
          "text": [
            "3\n",
            "* \n",
            "* * \n",
            "* * * \n"
          ]
        }
      ],
      "source": [
        "n=int(input())\n",
        "#m=int(input())\n",
        "for i in range(n):\n",
        "  for j in range(i+1):\n",
        "    print(\"*\", end=\" \")\n",
        "  print()"
      ]
    },
    {
      "cell_type": "markdown",
      "metadata": {
        "id": "2LTCJEICQaKF"
      },
      "source": [
        "# 3.problem\n",
        "****\n",
        "***\n",
        "**\n",
        "*"
      ]
    },
    {
      "cell_type": "code",
      "execution_count": null,
      "metadata": {
        "colab": {
          "base_uri": "https://localhost:8080/"
        },
        "id": "zv1EFc14Qr2M",
        "outputId": "fe5df7e8-a447-49b4-c57a-e0c2687ccd72"
      },
      "outputs": [
        {
          "name": "stdout",
          "output_type": "stream",
          "text": [
            "4\n",
            "* * * * \n",
            "* * * \n",
            "* * \n",
            "* \n"
          ]
        }
      ],
      "source": [
        "n=int(input())\n",
        "for i in range(n):\n",
        "  for j in range(n-i):\n",
        "    print(\"*\", end=\" \")\n",
        "  print()"
      ]
    },
    {
      "cell_type": "markdown",
      "metadata": {
        "id": "VRB6H_SQRjxU"
      },
      "source": [
        "# 4.problem\n",
        "      *\n",
        "     **\n",
        "    ***"
      ]
    },
    {
      "cell_type": "code",
      "execution_count": null,
      "metadata": {
        "colab": {
          "base_uri": "https://localhost:8080/"
        },
        "id": "9V8RPuNjRy98",
        "outputId": "6b792118-7a00-4d24-c144-6e3b4f360351"
      },
      "outputs": [
        {
          "name": "stdout",
          "output_type": "stream",
          "text": [
            "5\n",
            "          * \n",
            "        * * \n",
            "      * * * \n",
            "    * * * * \n",
            "  * * * * * \n"
          ]
        }
      ],
      "source": [
        "n=int(input())\n",
        "for i in range(n):\n",
        "  for s in range(n-i):\n",
        "    print(\" \", end=\" \")\n",
        "  for j in range(i+1):\n",
        "    print(\"*\", end=\" \")\n",
        "  print()"
      ]
    },
    {
      "cell_type": "markdown",
      "metadata": {
        "id": "kYCWMckkTu40"
      },
      "source": [
        "# 5 problem\n",
        "*****\n",
        " ****\n",
        "  ***\n",
        "   **\n",
        "    *"
      ]
    },
    {
      "cell_type": "code",
      "execution_count": null,
      "metadata": {
        "colab": {
          "base_uri": "https://localhost:8080/"
        },
        "id": "RZFUN6duTivd",
        "outputId": "6882d91f-6171-421b-ada4-81e341132352"
      },
      "outputs": [
        {
          "name": "stdout",
          "output_type": "stream",
          "text": [
            "5\n",
            "* * * * * \n",
            "  * * * * \n",
            "    * * * \n",
            "      * * \n",
            "        * \n"
          ]
        }
      ],
      "source": [
        "n=int(input())\n",
        "for i in range(n):\n",
        "  for s in range(i):\n",
        "    print(\" \", end=\" \")\n",
        "  for j in range(n-i):\n",
        "    print(\"*\", end=\" \")\n",
        "  print()"
      ]
    },
    {
      "cell_type": "markdown",
      "metadata": {
        "id": "F9Ot0rfsUz8V"
      },
      "source": [
        "# 6 problem-another way for 5th problem(here we are multipling sting with number,( it assuming like n times of concatenation)\n"
      ]
    },
    {
      "cell_type": "code",
      "execution_count": null,
      "metadata": {
        "colab": {
          "base_uri": "https://localhost:8080/"
        },
        "id": "hUsZu8UaVQn3",
        "outputId": "89a8707e-4a1a-4f39-cecb-2da6dd9dfda3"
      },
      "outputs": [
        {
          "name": "stdout",
          "output_type": "stream",
          "text": [
            "5\n",
            " ***** \n",
            "  **** \n",
            "   *** \n",
            "    ** \n",
            "     * \n"
          ]
        }
      ],
      "source": [
        "n=int(input())\n",
        "for i in range(n):\n",
        "  print(\" \"*i, end=\" \")\n",
        "  print(\"*\"*(n-i), end=\" \")\n",
        "  print()"
      ]
    },
    {
      "cell_type": "markdown",
      "metadata": {
        "id": "eVZdqkVuXBL_"
      },
      "source": [
        "# 7.problem\n",
        "*\n",
        "*2\n",
        "*2*\n",
        "*2*4\n",
        "*2*4*\n",
        "*2*4*6\n"
      ]
    },
    {
      "cell_type": "code",
      "execution_count": null,
      "metadata": {
        "colab": {
          "base_uri": "https://localhost:8080/"
        },
        "id": "V_KF4Jc2Yitr",
        "outputId": "1603d157-317e-4cf1-d265-9c8805ef57b5"
      },
      "outputs": [
        {
          "name": "stdout",
          "output_type": "stream",
          "text": [
            "6\n",
            "* \n",
            "* 2 \n",
            "* 2 * \n",
            "* 2 * 4 \n",
            "* 2 * 4 * \n",
            "* 2 * 4 * 6 \n"
          ]
        }
      ],
      "source": [
        "n=int(input())\n",
        "for i in range(n):\n",
        "  for j in range(1, i+2):\n",
        "    if j%2==0:\n",
        "      print(j, end=\" \")\n",
        "    else:\n",
        "      print(\"*\", end=\" \")\n",
        "  print()"
      ]
    },
    {
      "cell_type": "markdown",
      "metadata": {
        "id": "CsDk0GKEaF6c"
      },
      "source": [
        "# 8.probem\n",
        "1\n",
        "12\n",
        "123\n",
        "1234\n",
        "12345"
      ]
    },
    {
      "cell_type": "code",
      "execution_count": null,
      "metadata": {
        "colab": {
          "base_uri": "https://localhost:8080/"
        },
        "id": "JJiigp6OaNOs",
        "outputId": "60ec28ed-3c28-4cb9-d52f-f3ac0d6f66f4"
      },
      "outputs": [
        {
          "name": "stdout",
          "output_type": "stream",
          "text": [
            "5\n",
            "1 \n",
            "1 2 \n",
            "1 2 3 \n",
            "1 2 3 4 \n",
            "1 2 3 4 5 \n"
          ]
        }
      ],
      "source": [
        "n=int(input())\n",
        "for i in range(n):\n",
        "  for j in range(1, i+2):\n",
        "    print(j, end=\" \")\n",
        "  print()"
      ]
    },
    {
      "cell_type": "markdown",
      "metadata": {
        "id": "Aq3bWXbkakY0"
      },
      "source": [
        "# 9.Problem\n",
        "1234567\n",
        "123456\n",
        "12345\n",
        "1234\n",
        "123\n",
        "12\n",
        "1\n"
      ]
    },
    {
      "cell_type": "code",
      "execution_count": null,
      "metadata": {
        "colab": {
          "base_uri": "https://localhost:8080/"
        },
        "id": "gThS5D4XawW1",
        "outputId": "e015bc52-2267-47b9-ce8e-1195d31e761c"
      },
      "outputs": [
        {
          "name": "stdout",
          "output_type": "stream",
          "text": [
            "5\n",
            "1 2 3 4 5 \n",
            "1 2 3 4 \n",
            "1 2 3 \n",
            "1 2 \n",
            "1 \n"
          ]
        }
      ],
      "source": [
        "n=int(input())\n",
        "for i in range(n):\n",
        "  for j in range(1,n-i+1):\n",
        "    print(j, end=\" \")\n",
        "  print()"
      ]
    },
    {
      "cell_type": "markdown",
      "metadata": {
        "id": "Txos5SiWbius"
      },
      "source": [
        "# 10.Problem\n",
        "****\n",
        "00\n",
        "01\n",
        "02\n",
        "****\n",
        "10\n",
        "11\n",
        "12"
      ]
    },
    {
      "cell_type": "code",
      "execution_count": null,
      "metadata": {
        "colab": {
          "base_uri": "https://localhost:8080/"
        },
        "id": "HjpefA49zUBQ",
        "outputId": "c53f92a4-9513-4284-acc7-984e3f3c37e6"
      },
      "outputs": [
        {
          "name": "stdout",
          "output_type": "stream",
          "text": [
            "3\n",
            "***\n",
            "0 0\n",
            "0 1\n",
            "0 2\n",
            "***\n",
            "1 0\n",
            "1 1\n",
            "1 2\n",
            "***\n",
            "2 0\n",
            "2 1\n",
            "2 2\n"
          ]
        }
      ],
      "source": [
        "n=int(input())\n",
        "for i in range(n):\n",
        "  print(\"*\"*n)\n",
        "  for j in range(n):\n",
        "    print(i, j)"
      ]
    },
    {
      "cell_type": "markdown",
      "metadata": {
        "id": "jxpemM9M0R4H"
      },
      "source": [
        "# 11.N*N matrix"
      ]
    },
    {
      "cell_type": "code",
      "execution_count": null,
      "metadata": {
        "colab": {
          "base_uri": "https://localhost:8080/"
        },
        "id": "vWfirsuq0cLf",
        "outputId": "a088daa4-b196-47fe-a1a1-d2b6a0a1b1a0"
      },
      "outputs": [
        {
          "name": "stdout",
          "output_type": "stream",
          "text": [
            "3\n",
            "* * * \n",
            "* * * \n",
            "* * * \n"
          ]
        }
      ],
      "source": [
        "n=int(input())\n",
        "for i in range(n):\n",
        " for j in range(n):\n",
        "  print(\"*\", end=\" \")\n",
        " print()"
      ]
    },
    {
      "cell_type": "markdown",
      "metadata": {
        "id": "fc_km5Vr1agp"
      },
      "source": [
        "# 12.problem\n",
        "2\n",
        "2*\n",
        "2*4\n",
        "2*4*\n",
        "2*4*6"
      ]
    },
    {
      "cell_type": "code",
      "execution_count": null,
      "metadata": {
        "colab": {
          "base_uri": "https://localhost:8080/"
        },
        "id": "E6cuMeO14U87",
        "outputId": "d5b10245-3a55-46b9-c15e-0b47ac8cbf16"
      },
      "outputs": [
        {
          "name": "stdout",
          "output_type": "stream",
          "text": [
            "4\n",
            "2\n",
            "2*\n",
            "2*4\n",
            "2*4*\n"
          ]
        }
      ],
      "source": [
        "n=int(input())\n",
        "for i in range(n):\n",
        "  for j in range(i+1):\n",
        "    if j%2==0:\n",
        "      print(j+2, end=\"\")\n",
        "    else:\n",
        "      print(\"*\", end=\"\")\n",
        "  print()"
      ]
    },
    {
      "cell_type": "markdown",
      "metadata": {
        "id": "eIdFUlBF9duU"
      },
      "source": [
        "# 13.problem\n",
        "0->\n",
        "1->2\n",
        "2->2*\n",
        "3->2*4\n",
        "4->2*4*"
      ]
    },
    {
      "cell_type": "code",
      "execution_count": null,
      "metadata": {
        "colab": {
          "base_uri": "https://localhost:8080/"
        },
        "id": "jCmJPl8Z-eRj",
        "outputId": "38ffd7a8-bd9a-4605-b481-e0066061af95"
      },
      "outputs": [
        {
          "name": "stdout",
          "output_type": "stream",
          "text": [
            "5\n",
            "0->\n",
            "1->2\n",
            "2->2*\n",
            "3->2*4\n",
            "4->2*4*\n"
          ]
        }
      ],
      "source": [
        "n=int(input())\n",
        "for i in range(n):\n",
        "  for j in range(1,i+2):\n",
        "    if j==1:\n",
        "      print(i, end=\"->\")\n",
        "    elif j%2==0:\n",
        "      print(j, end=\"\")\n",
        "    else:\n",
        "      print(\"*\", end=\"\")\n",
        "  print()"
      ]
    },
    {
      "cell_type": "markdown",
      "metadata": {
        "id": "4dtquVzbAq1N"
      },
      "source": [
        "# 14.problem\n",
        "0->2*4*\n",
        "1->2*4\n",
        "2->2*\n",
        "3->2\n",
        "4->"
      ]
    },
    {
      "cell_type": "code",
      "execution_count": null,
      "metadata": {
        "colab": {
          "base_uri": "https://localhost:8080/"
        },
        "id": "RIe4SBmeBEq0",
        "outputId": "db997a25-2970-449f-df9a-1ee957fa4dc6"
      },
      "outputs": [
        {
          "name": "stdout",
          "output_type": "stream",
          "text": [
            "4\n",
            "0->2*4\n",
            "1->2*\n",
            "2->2\n",
            "3->\n"
          ]
        }
      ],
      "source": [
        "n=int(input())\n",
        "for i in range(n):\n",
        "  for j in range(1,n-i+1):\n",
        "    if j==1:\n",
        "      print(i, end=\"->\")\n",
        "    elif j%2==0:\n",
        "      print(j, end=\"\")\n",
        "    else:\n",
        "      print(\"*\", end=\"\")\n",
        "  print()"
      ]
    },
    {
      "cell_type": "markdown",
      "metadata": {
        "id": "d58TSUZrCMhc"
      },
      "source": [
        "# 15.problem\n",
        "*\n",
        "**\n",
        "***\n",
        "****\n",
        "***\n",
        "**\n",
        "*"
      ]
    },
    {
      "cell_type": "code",
      "execution_count": null,
      "metadata": {
        "colab": {
          "base_uri": "https://localhost:8080/"
        },
        "id": "Wm56AAdYCdMk",
        "outputId": "9cd6ead1-1e7f-425f-fae0-d5b27feb5c27"
      },
      "outputs": [
        {
          "name": "stdout",
          "output_type": "stream",
          "text": [
            "3\n",
            "*\n",
            "**\n",
            "***\n",
            "**\n",
            "*\n"
          ]
        }
      ],
      "source": [
        "n=int(input())\n",
        "for i in range(n):\n",
        "  for j in range(i+1):\n",
        "    print(\"*\", end=\"\")\n",
        "  print()\n",
        "for i in range(n-1):\n",
        "  for j in range(n-i-1):\n",
        "    print(\"*\", end=\"\")\n",
        "  print()"
      ]
    },
    {
      "cell_type": "markdown",
      "metadata": {
        "id": "JiUfUWTNEYfb"
      },
      "source": [
        "# 16.problem\n",
        "#\n",
        "*#\n",
        "**#\n",
        "***#\n",
        "**@*#\n",
        "***#\n",
        "**#\n",
        "*#\n",
        "#"
      ]
    },
    {
      "cell_type": "code",
      "execution_count": null,
      "metadata": {
        "colab": {
          "base_uri": "https://localhost:8080/"
        },
        "id": "pERfK23fRfX7",
        "outputId": "439a3aa8-1687-46e8-f068-eb815689b31a"
      },
      "outputs": [
        {
          "name": "stdout",
          "output_type": "stream",
          "text": [
            "5\n",
            "#\n",
            "*#\n",
            "**#\n",
            "***#\n",
            "**@*#\n",
            "****#\n",
            "***#\n",
            "**#\n",
            "*#\n",
            "#\n"
          ]
        }
      ],
      "source": [
        "n=int(input())\n",
        "for i in range(n):\n",
        "  for j in range(i+1):\n",
        "    if i==n-1 and j==int(n//2):\n",
        "      print(\"@\", end=\"\")\n",
        "    elif j==i:\n",
        "      print(\"#\", end=\"\")\n",
        "    else:\n",
        "     print(\"*\", end=\"\")\n",
        "  print()\n",
        "for i in range(n):\n",
        "  for j in range(n-i):\n",
        "    if j==n-i-1:\n",
        "      print(\"#\", end=\"\")\n",
        "    else:\n",
        "     print(\"*\", end=\"\")\n",
        "  print()"
      ]
    },
    {
      "cell_type": "markdown",
      "metadata": {
        "id": "JrlsQ28-4PYC"
      },
      "source": [
        "# While Loop\n",
        "# 1. Sum of Even Numbers Until a Limit"
      ]
    },
    {
      "cell_type": "code",
      "execution_count": null,
      "metadata": {
        "colab": {
          "base_uri": "https://localhost:8080/"
        },
        "id": "HgeLsDRO6Aa0",
        "outputId": "d7ae269f-5048-47aa-99b1-82fd19409bb8"
      },
      "outputs": [
        {
          "name": "stdout",
          "output_type": "stream",
          "text": [
            "10\n",
            "2\n",
            "4\n",
            "6\n",
            "8\n",
            "20\n"
          ]
        }
      ],
      "source": [
        "n=int(input())\n",
        "sum=0\n",
        "i=1\n",
        "while i<n:\n",
        "  if i%2==0:\n",
        "    print(i)\n",
        "    sum=sum+i\n",
        "  i+=1\n",
        "print(sum)\n"
      ]
    },
    {
      "cell_type": "markdown",
      "metadata": {
        "id": "1eE_KorE7NlM"
      },
      "source": [
        "# 2. Reverse a Number"
      ]
    },
    {
      "cell_type": "code",
      "execution_count": null,
      "metadata": {
        "colab": {
          "base_uri": "https://localhost:8080/"
        },
        "id": "LUkn99W67Rev",
        "outputId": "8803fba8-4b20-4d7d-99ac-70a9d6a0860d"
      },
      "outputs": [
        {
          "name": "stdout",
          "output_type": "stream",
          "text": [
            "1234\n",
            "Reverse number of 4321\n"
          ]
        }
      ],
      "source": [
        "n=int(input())\n",
        "rev_num=0\n",
        "temp=n\n",
        "while temp!=0:\n",
        "  last_num = temp%10\n",
        "  rev_num=rev_num*10+last_num\n",
        "  temp=temp//10\n",
        "print(\"Reverse number of\", rev_num)\n"
      ]
    },
    {
      "cell_type": "markdown",
      "metadata": {
        "id": "c-iegSfVcgkz"
      },
      "source": [
        "# 3. Guess the Number Game\n",
        "# Guess the number: 5\n",
        "# Wrong, try again.\n",
        "# Guess the number: 7\n",
        "# Correct!"
      ]
    },
    {
      "cell_type": "code",
      "execution_count": null,
      "metadata": {
        "colab": {
          "base_uri": "https://localhost:8080/"
        },
        "id": "00DFKWlcctyW",
        "outputId": "4a20b512-8179-421f-e0f3-762996660c07"
      },
      "outputs": [
        {
          "name": "stdout",
          "output_type": "stream",
          "text": [
            "Guess the Number:3\n",
            "Guess the Number:5\n",
            "Guess the Number:4\n",
            "Guess the Number:7\n",
            "Correct!\n"
          ]
        }
      ],
      "source": [
        "secret_num=7\n",
        "n=int(input(\"Guess the Number:\"))\n",
        "i=True\n",
        "while i==True:\n",
        " if n==secret_num:\n",
        "   print(\"Correct!\")\n",
        "   i=False\n",
        " else:\n",
        "  n=int(input(\"Guess the Number:\"))\n",
        "\n",
        "\n"
      ]
    },
    {
      "cell_type": "markdown",
      "metadata": {
        "id": "I1BtXFcypcKG"
      },
      "source": [
        "# 4. Count Digits in a Number"
      ]
    },
    {
      "cell_type": "code",
      "execution_count": null,
      "metadata": {
        "colab": {
          "base_uri": "https://localhost:8080/"
        },
        "id": "_3QbhAtapnNs",
        "outputId": "ad862802-a5eb-44d2-974a-2b4c013d727f"
      },
      "outputs": [
        {
          "name": "stdout",
          "output_type": "stream",
          "text": [
            "12345\n",
            "5\n"
          ]
        }
      ],
      "source": [
        " n=int(input())\n",
        " temp=n\n",
        " count=0\n",
        " while temp!=0:\n",
        "  temp=temp//10\n",
        "  count+=1\n",
        "print(count)"
      ]
    },
    {
      "cell_type": "markdown",
      "metadata": {
        "id": "V05kzBpbvN_o"
      },
      "source": [
        "# 5. Print Fibonacci Series (First n terms)\n",
        "n = 7\n",
        "Expected Output:\n",
        "0 1 1 2 3 5 8"
      ]
    },
    {
      "cell_type": "code",
      "execution_count": null,
      "metadata": {
        "colab": {
          "base_uri": "https://localhost:8080/"
        },
        "id": "A2dXqQRawT3r",
        "outputId": "0f498993-1f06-40e7-f9a3-1346358816ea"
      },
      "outputs": [
        {
          "name": "stdout",
          "output_type": "stream",
          "text": [
            "6\n",
            "0 1 1 2 3 5 "
          ]
        }
      ],
      "source": [
        "n=int(input())\n",
        "a,b=0,1\n",
        "i=0\n",
        "while i<n:\n",
        "  print(a, end=\" \")\n",
        "  a,b=b,a+b\n",
        "  i+=1"
      ]
    },
    {
      "cell_type": "markdown",
      "metadata": {
        "id": "zIRvnbml41nw"
      },
      "source": [
        "# 10.Medium question on while loop\n",
        "# 1.Check for Palindrome Number"
      ]
    },
    {
      "cell_type": "code",
      "execution_count": null,
      "metadata": {
        "colab": {
          "base_uri": "https://localhost:8080/"
        },
        "id": "9wrko3Hj5wGo",
        "outputId": "00f92368-c8bb-4f96-9db3-fb2cf8081682"
      },
      "outputs": [
        {
          "name": "stdout",
          "output_type": "stream",
          "text": [
            "123\n",
            "Reverse number of 123 is 321\n",
            "not\n"
          ]
        }
      ],
      "source": [
        "n=int(input())\n",
        "rev_num=0\n",
        "temp=n\n",
        "while temp!=0:\n",
        " last_digit=temp%10\n",
        " rev_num=rev_num*10+last_digit\n",
        " temp=temp//10\n",
        "print(\"Reverse number of\", n, \"is\", rev_num)\n",
        "if n==rev_num:\n",
        "  print(n, \"is a Palindrome\")\n",
        "else:\n",
        "  print(\"not\")"
      ]
    },
    {
      "cell_type": "markdown",
      "metadata": {
        "id": "74br25uW7nMp"
      },
      "source": [
        "# 2.Print Digits Separately (Right to Left)\n",
        "# Input: 453 → Output: 3, 5, 4"
      ]
    },
    {
      "cell_type": "code",
      "execution_count": null,
      "metadata": {
        "colab": {
          "base_uri": "https://localhost:8080/"
        },
        "id": "pJ0XmnAG7zLw",
        "outputId": "54b10878-9206-493f-8c0b-0b986fa526e1"
      },
      "outputs": [
        {
          "name": "stdout",
          "output_type": "stream",
          "text": [
            "453\n",
            "3,5,4,"
          ]
        }
      ],
      "source": [
        "n=int(input())\n",
        "temp=n\n",
        "while temp!=0:\n",
        "  last_digit=temp%10\n",
        "  temp=temp//10\n",
        "  print(last_digit, end=\",\")\n",
        "\n"
      ]
    },
    {
      "cell_type": "markdown",
      "metadata": {
        "id": "_ZwrPN-m8WQH"
      },
      "source": [
        "# 3.Sum of Digits of a Number\n",
        "# Input: 123 → Output: 6"
      ]
    },
    {
      "cell_type": "code",
      "execution_count": null,
      "metadata": {
        "colab": {
          "base_uri": "https://localhost:8080/"
        },
        "id": "fp6pehKy8i31",
        "outputId": "d4bf6126-ba68-466f-e0ce-74497634771a"
      },
      "outputs": [
        {
          "name": "stdout",
          "output_type": "stream",
          "text": [
            "123\n",
            "sum of digits of a number is: 6\n"
          ]
        }
      ],
      "source": [
        "n=int(input())\n",
        "temp=n\n",
        "sum=0\n",
        "while temp!=0:\n",
        "  last_digit=temp%10\n",
        "  temp=temp//10\n",
        "  sum=sum+last_digit\n",
        "print(\"sum of digits of a number is:\", sum)"
      ]
    },
    {
      "cell_type": "markdown",
      "metadata": {
        "id": "pK51iv-o_XJE"
      },
      "source": [
        "# 4.Check Armstrong Number\n",
        "# Check if a number is an Armstrong number (e.g., 153 → 1³ + 5³ + 3³ = 153).\n",
        "# Input: 153 → Output: Yes"
      ]
    },
    {
      "cell_type": "code",
      "execution_count": null,
      "metadata": {
        "colab": {
          "base_uri": "https://localhost:8080/"
        },
        "id": "zm6x7rT_ADp4",
        "outputId": "a4cc1c9d-9f23-4f81-fc74-acf93c356254"
      },
      "outputs": [
        {
          "name": "stdout",
          "output_type": "stream",
          "text": [
            "153\n",
            "sum: 153\n",
            "Given number is a armstrong number\n"
          ]
        }
      ],
      "source": [
        "n=int(input())\n",
        "temp=n\n",
        "sum=0\n",
        "while temp!=0:\n",
        "  last_digit=temp%10\n",
        "  temp=temp//10\n",
        "  sum=sum+(last_digit)**3\n",
        "print(\"sum:\", sum)\n",
        "if n==sum:\n",
        "  print(\"Given number is a armstrong number\")\n",
        "else:\n",
        "  print(\"not\")\n",
        "\n"
      ]
    },
    {
      "cell_type": "markdown",
      "metadata": {
        "id": "ZKvRyIPwBgTR"
      },
      "source": [
        "# Generate Multiplication Table\n",
        "# Take a number and print its multiplication table using a while loop.\n",
        "# Input: 5 → Output: 5 10 15 ... 50"
      ]
    },
    {
      "cell_type": "code",
      "execution_count": null,
      "metadata": {
        "colab": {
          "background_save": true,
          "base_uri": "https://localhost:8080/"
        },
        "id": "Ox_Hc-oEBm-_",
        "outputId": "1e56f69d-124b-4e1a-8499-5f97dacaca03"
      },
      "outputs": [],
      "source": [
        "n=int(input(\"enter a number:\"))\n",
        "i=1\n",
        "while i<=10:\n",
        " multiplication=n*i\n",
        " print(multiplication, end=\" \")\n"
      ]
    },
    {
      "cell_type": "markdown",
      "metadata": {
        "id": "iqjUrYndRZvc"
      },
      "source": []
    }
  ],
  "metadata": {
    "colab": {
      "toc_visible": true,
      "provenance": [],
      "authorship_tag": "ABX9TyNoNh5a6D8IFkYiw4oGMvd8",
      "include_colab_link": true
    },
    "kernelspec": {
      "display_name": "Python 3",
      "name": "python3"
    },
    "language_info": {
      "name": "python"
    }
  },
  "nbformat": 4,
  "nbformat_minor": 0
}