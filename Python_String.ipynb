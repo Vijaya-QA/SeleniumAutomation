{
  "nbformat": 4,
  "nbformat_minor": 0,
  "metadata": {
    "colab": {
      "provenance": [],
      "toc_visible": true,
      "authorship_tag": "ABX9TyN1K7Xmwm3tRNlph5Kl74R7",
      "include_colab_link": true
    },
    "kernelspec": {
      "name": "python3",
      "display_name": "Python 3"
    },
    "language_info": {
      "name": "python"
    }
  },
  "cells": [
    {
      "cell_type": "markdown",
      "metadata": {
        "id": "view-in-github",
        "colab_type": "text"
      },
      "source": [
        "<a href=\"https://colab.research.google.com/github/Vijaya-QA/SeleniumAutomation/blob/DSML/Python_String.ipynb\" target=\"_parent\"><img src=\"https://colab.research.google.com/assets/colab-badge.svg\" alt=\"Open In Colab\"/></a>"
      ]
    },
    {
      "cell_type": "markdown",
      "source": [
        "# String Basics - Questions\n",
        "# 1.Length of a String"
      ],
      "metadata": {
        "id": "LEucAtiuU6qB"
      }
    },
    {
      "cell_type": "code",
      "source": [
        "s=input(\"enter a string:\")\n",
        "len=0\n",
        "for i in s:\n",
        "  len+=1\n",
        "print(f\"lenth of a {s} is:\", len)"
      ],
      "metadata": {
        "colab": {
          "base_uri": "https://localhost:8080/"
        },
        "id": "1bOJjV3CVEuk",
        "outputId": "c1bf8775-22e1-4f6e-a5ac-ef525a128e5c"
      },
      "execution_count": null,
      "outputs": [
        {
          "output_type": "stream",
          "name": "stdout",
          "text": [
            "enter a string:Aarvi\n",
            "lenth of a Aarvi is: 5\n"
          ]
        }
      ]
    },
    {
      "cell_type": "markdown",
      "source": [
        "# 2.Count Vowels"
      ],
      "metadata": {
        "id": "Ipsm_YubVbjd"
      }
    },
    {
      "cell_type": "code",
      "source": [
        "s=input(\"enter a string: \")\n",
        "vowels=\"aeiouAEIOU\"\n",
        "vowel_count=0\n",
        "for c in s:\n",
        "  if c in vowels:\n",
        "    vowel_count+=1\n",
        "print(\"Vowels count in {s} is:\", vowel_count)\n"
      ],
      "metadata": {
        "colab": {
          "base_uri": "https://localhost:8080/"
        },
        "id": "i2pllrIpVgaf",
        "outputId": "a2150d06-12f8-46fd-e447-10bcd7b1c889"
      },
      "execution_count": null,
      "outputs": [
        {
          "output_type": "stream",
          "name": "stdout",
          "text": [
            "enter a string: Education\n",
            "Vowels count in {s} is: 5\n"
          ]
        }
      ]
    },
    {
      "cell_type": "markdown",
      "source": [
        "# 3.Reverse a String\n"
      ],
      "metadata": {
        "id": "CewtkLJ0XGjs"
      }
    },
    {
      "cell_type": "code",
      "source": [
        "s=input(\"Enter a string: \")\n",
        "rev_string=\"\"\n",
        "i=len(s)-1\n",
        "while i>=0:\n",
        "  rev_string=rev_string+s[i]\n",
        "  i-=1\n",
        "print(f\"Reverse of {s}:\", rev_string)"
      ],
      "metadata": {
        "colab": {
          "base_uri": "https://localhost:8080/",
          "height": 228
        },
        "id": "BYtDr9jSXLcU",
        "outputId": "a6042710-d904-4b83-87d8-4d1b3bed5079"
      },
      "execution_count": null,
      "outputs": [
        {
          "name": "stdout",
          "output_type": "stream",
          "text": [
            "Enter a string: hello\n"
          ]
        },
        {
          "output_type": "error",
          "ename": "TypeError",
          "evalue": "'int' object is not callable",
          "traceback": [
            "\u001b[0;31m---------------------------------------------------------------------------\u001b[0m",
            "\u001b[0;31mTypeError\u001b[0m                                 Traceback (most recent call last)",
            "\u001b[0;32m<ipython-input-13-2690833937ee>\u001b[0m in \u001b[0;36m<cell line: 0>\u001b[0;34m()\u001b[0m\n\u001b[1;32m      1\u001b[0m \u001b[0ms\u001b[0m\u001b[0;34m=\u001b[0m\u001b[0minput\u001b[0m\u001b[0;34m(\u001b[0m\u001b[0;34m\"Enter a string: \"\u001b[0m\u001b[0;34m)\u001b[0m\u001b[0;34m\u001b[0m\u001b[0;34m\u001b[0m\u001b[0m\n\u001b[1;32m      2\u001b[0m \u001b[0mrev_string\u001b[0m\u001b[0;34m=\u001b[0m\u001b[0;34m\"\"\u001b[0m\u001b[0;34m\u001b[0m\u001b[0;34m\u001b[0m\u001b[0m\n\u001b[0;32m----> 3\u001b[0;31m \u001b[0mi\u001b[0m\u001b[0;34m=\u001b[0m\u001b[0mlen\u001b[0m\u001b[0;34m(\u001b[0m\u001b[0ms\u001b[0m\u001b[0;34m)\u001b[0m\u001b[0;34m-\u001b[0m\u001b[0;36m1\u001b[0m\u001b[0;34m\u001b[0m\u001b[0;34m\u001b[0m\u001b[0m\n\u001b[0m\u001b[1;32m      4\u001b[0m \u001b[0;32mwhile\u001b[0m \u001b[0mi\u001b[0m\u001b[0;34m>=\u001b[0m\u001b[0;36m0\u001b[0m\u001b[0;34m:\u001b[0m\u001b[0;34m\u001b[0m\u001b[0;34m\u001b[0m\u001b[0m\n\u001b[1;32m      5\u001b[0m   \u001b[0mrev_string\u001b[0m\u001b[0;34m=\u001b[0m\u001b[0mrev_string\u001b[0m\u001b[0;34m+\u001b[0m\u001b[0ms\u001b[0m\u001b[0;34m[\u001b[0m\u001b[0mi\u001b[0m\u001b[0;34m]\u001b[0m\u001b[0;34m\u001b[0m\u001b[0;34m\u001b[0m\u001b[0m\n",
            "\u001b[0;31mTypeError\u001b[0m: 'int' object is not callable"
          ]
        }
      ]
    },
    {
      "cell_type": "code",
      "source": [
        "s = \"Python\"\n",
        "i = len(s) - 1\n",
        "while i >= 0:\n",
        "    print(s[i])\n",
        "    i -= 1"
      ],
      "metadata": {
        "colab": {
          "base_uri": "https://localhost:8080/",
          "height": 211
        },
        "id": "zCoMORyXb4VG",
        "outputId": "49c871f5-7712-40f4-bd29-136fc9579fb6"
      },
      "execution_count": null,
      "outputs": [
        {
          "output_type": "error",
          "ename": "TypeError",
          "evalue": "'int' object is not callable",
          "traceback": [
            "\u001b[0;31m---------------------------------------------------------------------------\u001b[0m",
            "\u001b[0;31mTypeError\u001b[0m                                 Traceback (most recent call last)",
            "\u001b[0;32m<ipython-input-14-1a2b34c843c7>\u001b[0m in \u001b[0;36m<cell line: 0>\u001b[0;34m()\u001b[0m\n\u001b[1;32m      1\u001b[0m \u001b[0ms\u001b[0m \u001b[0;34m=\u001b[0m \u001b[0;34m\"Python\"\u001b[0m\u001b[0;34m\u001b[0m\u001b[0;34m\u001b[0m\u001b[0m\n\u001b[0;32m----> 2\u001b[0;31m \u001b[0mi\u001b[0m \u001b[0;34m=\u001b[0m \u001b[0mlen\u001b[0m\u001b[0;34m(\u001b[0m\u001b[0ms\u001b[0m\u001b[0;34m)\u001b[0m \u001b[0;34m-\u001b[0m \u001b[0;36m1\u001b[0m\u001b[0;34m\u001b[0m\u001b[0;34m\u001b[0m\u001b[0m\n\u001b[0m\u001b[1;32m      3\u001b[0m \u001b[0;32mwhile\u001b[0m \u001b[0mi\u001b[0m \u001b[0;34m>=\u001b[0m \u001b[0;36m0\u001b[0m\u001b[0;34m:\u001b[0m\u001b[0;34m\u001b[0m\u001b[0;34m\u001b[0m\u001b[0m\n\u001b[1;32m      4\u001b[0m     \u001b[0mprint\u001b[0m\u001b[0;34m(\u001b[0m\u001b[0ms\u001b[0m\u001b[0;34m[\u001b[0m\u001b[0mi\u001b[0m\u001b[0;34m]\u001b[0m\u001b[0;34m)\u001b[0m\u001b[0;34m\u001b[0m\u001b[0;34m\u001b[0m\u001b[0m\n\u001b[1;32m      5\u001b[0m     \u001b[0mi\u001b[0m \u001b[0;34m-=\u001b[0m \u001b[0;36m1\u001b[0m\u001b[0;34m\u001b[0m\u001b[0;34m\u001b[0m\u001b[0m\n",
            "\u001b[0;31mTypeError\u001b[0m: 'int' object is not callable"
          ]
        }
      ]
    },
    {
      "cell_type": "code",
      "source": [
        "s=input(\"Enter a string: \")\n",
        "rev_string=\"\"\n",
        "i=len(s)\n",
        "for i in s:\n",
        "  rev_string=rev_string+s[i]\n",
        "  i-=1\n",
        "print(f\"Reverse of {s}:\", rev_string)"
      ],
      "metadata": {
        "colab": {
          "base_uri": "https://localhost:8080/",
          "height": 228
        },
        "id": "QFh1XXYPYaPF",
        "outputId": "35d38256-d34e-47bc-fbc1-dcc0c6c8e7a8"
      },
      "execution_count": null,
      "outputs": [
        {
          "name": "stdout",
          "output_type": "stream",
          "text": [
            "Enter a string: hello\n"
          ]
        },
        {
          "output_type": "error",
          "ename": "TypeError",
          "evalue": "'int' object is not callable",
          "traceback": [
            "\u001b[0;31m---------------------------------------------------------------------------\u001b[0m",
            "\u001b[0;31mTypeError\u001b[0m                                 Traceback (most recent call last)",
            "\u001b[0;32m<ipython-input-10-f6ddd9ba120c>\u001b[0m in \u001b[0;36m<cell line: 0>\u001b[0;34m()\u001b[0m\n\u001b[1;32m      1\u001b[0m \u001b[0ms\u001b[0m\u001b[0;34m=\u001b[0m\u001b[0minput\u001b[0m\u001b[0;34m(\u001b[0m\u001b[0;34m\"Enter a string: \"\u001b[0m\u001b[0;34m)\u001b[0m\u001b[0;34m\u001b[0m\u001b[0;34m\u001b[0m\u001b[0m\n\u001b[1;32m      2\u001b[0m \u001b[0mrev_string\u001b[0m\u001b[0;34m=\u001b[0m\u001b[0;34m\"\"\u001b[0m\u001b[0;34m\u001b[0m\u001b[0;34m\u001b[0m\u001b[0m\n\u001b[0;32m----> 3\u001b[0;31m \u001b[0mi\u001b[0m\u001b[0;34m=\u001b[0m\u001b[0mlen\u001b[0m\u001b[0;34m(\u001b[0m\u001b[0ms\u001b[0m\u001b[0;34m)\u001b[0m\u001b[0;34m\u001b[0m\u001b[0;34m\u001b[0m\u001b[0m\n\u001b[0m\u001b[1;32m      4\u001b[0m \u001b[0;32mfor\u001b[0m \u001b[0mi\u001b[0m \u001b[0;32min\u001b[0m \u001b[0ms\u001b[0m\u001b[0;34m:\u001b[0m\u001b[0;34m\u001b[0m\u001b[0;34m\u001b[0m\u001b[0m\n\u001b[1;32m      5\u001b[0m   \u001b[0mrev_string\u001b[0m\u001b[0;34m=\u001b[0m\u001b[0mrev_string\u001b[0m\u001b[0;34m+\u001b[0m\u001b[0ms\u001b[0m\u001b[0;34m[\u001b[0m\u001b[0mi\u001b[0m\u001b[0;34m]\u001b[0m\u001b[0;34m\u001b[0m\u001b[0;34m\u001b[0m\u001b[0m\n",
            "\u001b[0;31mTypeError\u001b[0m: 'int' object is not callable"
          ]
        }
      ]
    },
    {
      "cell_type": "code",
      "source": [
        "s = \"Python\"\n",
        "rev_str=\"\"\n",
        "i = len(s) - 1\n",
        "while i >= 0:\n",
        "    rev_str=rev_str+s[i]\n",
        "    i -= 1\n",
        "print(rev_str)"
      ],
      "metadata": {
        "colab": {
          "base_uri": "https://localhost:8080/",
          "height": 211
        },
        "id": "D2J4lcGWcz_r",
        "outputId": "544f0784-f635-4e38-be84-0a7a3d379b7e"
      },
      "execution_count": null,
      "outputs": [
        {
          "output_type": "error",
          "ename": "TypeError",
          "evalue": "'int' object is not callable",
          "traceback": [
            "\u001b[0;31m---------------------------------------------------------------------------\u001b[0m",
            "\u001b[0;31mTypeError\u001b[0m                                 Traceback (most recent call last)",
            "\u001b[0;32m<ipython-input-15-a8d0df23d51d>\u001b[0m in \u001b[0;36m<cell line: 0>\u001b[0;34m()\u001b[0m\n\u001b[1;32m      1\u001b[0m \u001b[0ms\u001b[0m \u001b[0;34m=\u001b[0m \u001b[0;34m\"Python\"\u001b[0m\u001b[0;34m\u001b[0m\u001b[0;34m\u001b[0m\u001b[0m\n\u001b[1;32m      2\u001b[0m \u001b[0mrev_str\u001b[0m\u001b[0;34m=\u001b[0m\u001b[0;34m\"\"\u001b[0m\u001b[0;34m\u001b[0m\u001b[0;34m\u001b[0m\u001b[0m\n\u001b[0;32m----> 3\u001b[0;31m \u001b[0mi\u001b[0m \u001b[0;34m=\u001b[0m \u001b[0mlen\u001b[0m\u001b[0;34m(\u001b[0m\u001b[0ms\u001b[0m\u001b[0;34m)\u001b[0m \u001b[0;34m-\u001b[0m \u001b[0;36m1\u001b[0m\u001b[0;34m\u001b[0m\u001b[0;34m\u001b[0m\u001b[0m\n\u001b[0m\u001b[1;32m      4\u001b[0m \u001b[0;32mwhile\u001b[0m \u001b[0mi\u001b[0m \u001b[0;34m>=\u001b[0m \u001b[0;36m0\u001b[0m\u001b[0;34m:\u001b[0m\u001b[0;34m\u001b[0m\u001b[0;34m\u001b[0m\u001b[0m\n\u001b[1;32m      5\u001b[0m     \u001b[0mrev_str\u001b[0m\u001b[0;34m=\u001b[0m\u001b[0mrev_str\u001b[0m\u001b[0;34m+\u001b[0m\u001b[0ms\u001b[0m\u001b[0;34m[\u001b[0m\u001b[0mi\u001b[0m\u001b[0;34m]\u001b[0m\u001b[0;34m\u001b[0m\u001b[0;34m\u001b[0m\u001b[0m\n",
            "\u001b[0;31mTypeError\u001b[0m: 'int' object is not callable"
          ]
        }
      ]
    },
    {
      "cell_type": "code",
      "source": [
        "s=input(\"Enter a string: \")\n",
        "rev_string=s[::-1]\n",
        "print(f\"Reverse of {s}:\", rev_string)"
      ],
      "metadata": {
        "colab": {
          "base_uri": "https://localhost:8080/"
        },
        "id": "WbeWsOZcZFOO",
        "outputId": "d4f6621e-0836-4ed3-a942-add6db9a8c80"
      },
      "execution_count": null,
      "outputs": [
        {
          "output_type": "stream",
          "name": "stdout",
          "text": [
            "Enter a string: hello\n",
            "Reverse of hello: olleh\n"
          ]
        }
      ]
    },
    {
      "cell_type": "markdown",
      "source": [
        "# 4.Check Palindrome\n",
        "Check if the string \"madam\" is a palindrome."
      ],
      "metadata": {
        "id": "nbepjvVKargF"
      }
    },
    {
      "cell_type": "code",
      "source": [
        "s=input(\"Enter a string: \")\n",
        "rev_string=s[::-1]\n",
        "if s==rev_string:\n",
        "  print(f\"{s} is a palindrome\")\n",
        "else:\n",
        "  print(\"not palindrome\")"
      ],
      "metadata": {
        "colab": {
          "base_uri": "https://localhost:8080/"
        },
        "id": "l-dPbfc8a1Ck",
        "outputId": "e938fa9a-c01d-4601-f219-ecfe4c6c3a0d"
      },
      "execution_count": null,
      "outputs": [
        {
          "output_type": "stream",
          "name": "stdout",
          "text": [
            "Enter a string: madam\n",
            "madam is a palindrome\n"
          ]
        }
      ]
    },
    {
      "cell_type": "markdown",
      "source": [
        "# 5.Convert Case\n",
        "Convert the string \"PyTHon\" to all lowercase and all uppercase."
      ],
      "metadata": {
        "id": "A99Ujb3DdKcG"
      }
    },
    {
      "cell_type": "code",
      "source": [
        "s=input(\"Enter a string: \")\n",
        "print(s.lower())\n",
        "print(s.upper())"
      ],
      "metadata": {
        "colab": {
          "base_uri": "https://localhost:8080/"
        },
        "id": "vFYfCz7NdYUa",
        "outputId": "5e67a3f4-bc4f-4f37-f34a-1768623e1d60"
      },
      "execution_count": null,
      "outputs": [
        {
          "output_type": "stream",
          "name": "stdout",
          "text": [
            "Enter a string: PyTHon\n",
            "python\n",
            "PYTHON\n"
          ]
        }
      ]
    },
    {
      "cell_type": "markdown",
      "source": [
        "# 6.Find Substring\n",
        "Check if the word \"code\" is present in the string \"Learn to code in Python\"."
      ],
      "metadata": {
        "id": "qTs2ilq4iNVr"
      }
    },
    {
      "cell_type": "code",
      "source": [
        "s=input(\"enter a string: \")\n",
        "if \"code\" in s. lower():\n",
        "  print(\"Yes, it is\")\n",
        "else:\n",
        "  print(\"No\")"
      ],
      "metadata": {
        "colab": {
          "base_uri": "https://localhost:8080/"
        },
        "id": "_WGQC0XCiXcS",
        "outputId": "0d8da1b6-af13-4a82-f3f0-4dd6e4405a9b"
      },
      "execution_count": null,
      "outputs": [
        {
          "output_type": "stream",
          "name": "stdout",
          "text": [
            "enter a string: Learn to Code in Python\n",
            "Yes, it is\n"
          ]
        }
      ]
    },
    {
      "cell_type": "markdown",
      "source": [
        "# 7.Replace Word\n",
        "Replace \"Java\" with \"Python\" in the string \"I love Java\"."
      ],
      "metadata": {
        "id": "z-kFZvIpjKNU"
      }
    },
    {
      "cell_type": "code",
      "source": [
        "s=input(\"Enter a string: \")\n",
        "s=s.lower()\n",
        "print(s.replace(\"java\", \"python\"))"
      ],
      "metadata": {
        "colab": {
          "base_uri": "https://localhost:8080/"
        },
        "id": "qxDWbkyjjQY7",
        "outputId": "5ba5f561-3196-4bc2-af05-996d8545feac"
      },
      "execution_count": null,
      "outputs": [
        {
          "output_type": "stream",
          "name": "stdout",
          "text": [
            "Enter a string: I love Java\n",
            "i love python\n"
          ]
        }
      ]
    },
    {
      "cell_type": "markdown",
      "source": [
        "# 8.Count a Character\n",
        "Count how many times the letter 'a' appears in \"banana\"."
      ],
      "metadata": {
        "id": "scmMZrQ1k-aj"
      }
    },
    {
      "cell_type": "code",
      "source": [
        "s=input(\"Enter a string: \")\n",
        "count=0\n",
        "for i in s:\n",
        "  if s[i]==\"a\":\n",
        "    count+=1\n",
        "print(f\"{count} times \\\"a\\\" occured in {s}\")"
      ],
      "metadata": {
        "colab": {
          "base_uri": "https://localhost:8080/",
          "height": 228
        },
        "id": "SIJ3IfOWlIqj",
        "outputId": "93dafa1b-1a97-41c2-99a8-82ac0e2689c0"
      },
      "execution_count": null,
      "outputs": [
        {
          "name": "stdout",
          "output_type": "stream",
          "text": [
            "Enter a string: banana\n"
          ]
        },
        {
          "output_type": "error",
          "ename": "TypeError",
          "evalue": "string indices must be integers, not 'str'",
          "traceback": [
            "\u001b[0;31m---------------------------------------------------------------------------\u001b[0m",
            "\u001b[0;31mTypeError\u001b[0m                                 Traceback (most recent call last)",
            "\u001b[0;32m<ipython-input-28-122717aa2c37>\u001b[0m in \u001b[0;36m<cell line: 0>\u001b[0;34m()\u001b[0m\n\u001b[1;32m      2\u001b[0m \u001b[0mcount\u001b[0m\u001b[0;34m=\u001b[0m\u001b[0;36m0\u001b[0m\u001b[0;34m\u001b[0m\u001b[0;34m\u001b[0m\u001b[0m\n\u001b[1;32m      3\u001b[0m \u001b[0;32mfor\u001b[0m \u001b[0mi\u001b[0m \u001b[0;32min\u001b[0m \u001b[0ms\u001b[0m\u001b[0;34m:\u001b[0m\u001b[0;34m\u001b[0m\u001b[0;34m\u001b[0m\u001b[0m\n\u001b[0;32m----> 4\u001b[0;31m   \u001b[0;32mif\u001b[0m \u001b[0ms\u001b[0m\u001b[0;34m[\u001b[0m\u001b[0mi\u001b[0m\u001b[0;34m]\u001b[0m\u001b[0;34m==\u001b[0m\u001b[0;34m\"a\"\u001b[0m\u001b[0;34m:\u001b[0m\u001b[0;34m\u001b[0m\u001b[0;34m\u001b[0m\u001b[0m\n\u001b[0m\u001b[1;32m      5\u001b[0m     \u001b[0mcount\u001b[0m\u001b[0;34m+=\u001b[0m\u001b[0;36m1\u001b[0m\u001b[0;34m\u001b[0m\u001b[0;34m\u001b[0m\u001b[0m\n\u001b[1;32m      6\u001b[0m \u001b[0mprint\u001b[0m\u001b[0;34m(\u001b[0m\u001b[0;34mf\"{count} times \\\"a\\\" occured in {s}\"\u001b[0m\u001b[0;34m)\u001b[0m\u001b[0;34m\u001b[0m\u001b[0;34m\u001b[0m\u001b[0m\n",
            "\u001b[0;31mTypeError\u001b[0m: string indices must be integers, not 'str'"
          ]
        }
      ]
    },
    {
      "cell_type": "code",
      "source": [
        "s = input(\"Enter a string: \")\n",
        "count = 0\n",
        "for i in s:\n",
        "    if i == \"a\":\n",
        "        count += 1\n",
        "print(f\"{count} times \\\"a\\\" occurred in {s}\")"
      ],
      "metadata": {
        "colab": {
          "base_uri": "https://localhost:8080/"
        },
        "id": "pbh4t1O9nhva",
        "outputId": "fbce2d41-0500-4084-d542-3a79fa8c578b"
      },
      "execution_count": null,
      "outputs": [
        {
          "output_type": "stream",
          "name": "stdout",
          "text": [
            "Enter a string: banana\n",
            "3 times \"a\" occurred in banana\n"
          ]
        }
      ]
    },
    {
      "cell_type": "markdown",
      "source": [
        "# 9.String Concatenation\n",
        "Combine \"Hello\" and \"World\" into one string."
      ],
      "metadata": {
        "id": "ESGaFPorn61Z"
      }
    },
    {
      "cell_type": "code",
      "source": [
        "s1=input(\"enter a string: \")\n",
        "s2=input(\"enter a string: \")\n",
        "print(\"full_string=\", s1+s2)\n",
        "print(f\"full_string={s1+' '+s2}\")\n",
        "print(f\"full_string={s1+','+s2}\")"
      ],
      "metadata": {
        "colab": {
          "base_uri": "https://localhost:8080/"
        },
        "id": "Jzf-Ht03oIVy",
        "outputId": "b5249170-f92e-4763-b7eb-7cce6c70c1d6"
      },
      "execution_count": null,
      "outputs": [
        {
          "output_type": "stream",
          "name": "stdout",
          "text": [
            "enter a string: hello\n",
            "enter a string: world\n",
            "full_string= helloworld\n",
            "full_string=hello world\n",
            "full_string=hello,world\n"
          ]
        }
      ]
    },
    {
      "cell_type": "markdown",
      "source": [
        "# 10.Print Each Character\n",
        "Print each character in the string \"ChatGPT\" on a new line."
      ],
      "metadata": {
        "id": "hE94az77pg8p"
      }
    },
    {
      "cell_type": "code",
      "source": [
        "s=input(\"enter a string: \")\n",
        "for i in s:\n",
        "  print(i)"
      ],
      "metadata": {
        "colab": {
          "base_uri": "https://localhost:8080/"
        },
        "id": "nHamQl4fppAK",
        "outputId": "24a5a64d-2c16-4a71-fed6-64e49caff133"
      },
      "execution_count": null,
      "outputs": [
        {
          "output_type": "stream",
          "name": "stdout",
          "text": [
            "enter a string: ChatGPT\n",
            "C\n",
            "h\n",
            "a\n",
            "t\n",
            "G\n",
            "P\n",
            "T\n"
          ]
        }
      ]
    },
    {
      "cell_type": "markdown",
      "source": [
        "# medium-level string questions\n",
        "# 1.Count Vowels and Consonants"
      ],
      "metadata": {
        "id": "v441u-lKsTS-"
      }
    },
    {
      "cell_type": "code",
      "source": [
        "s=input(\"enter a string: \")\n",
        "vowels=\"aeiouAEIOU\"\n",
        "count_cons=0\n",
        "count_vowels=0\n",
        "for i in s:\n",
        "  if i in vowels:\n",
        "    count_vowels+=1\n",
        "  else:\n",
        "    count_cons+=1\n",
        "print(f\"vowels count in {s} is:{count_vowels}\")\n",
        "print(f\"consonants count in {s} is:{count_cons}\")"
      ],
      "metadata": {
        "colab": {
          "base_uri": "https://localhost:8080/"
        },
        "id": "KSVt8VE5sa5G",
        "outputId": "79e70d06-a552-4c93-ad21-d113146dbf3b"
      },
      "execution_count": null,
      "outputs": [
        {
          "output_type": "stream",
          "name": "stdout",
          "text": [
            "enter a string: aditiaarvi\n",
            "vowels count in aditiaarvi is:6\n",
            "consonants count in aditiaarvi is:4\n"
          ]
        }
      ]
    },
    {
      "cell_type": "markdown",
      "source": [
        "# 2.Remove All Duplicates\n",
        "Input: \"programming\"\n",
        "Output: \"progamin\""
      ],
      "metadata": {
        "id": "AFdLdzsRtpqO"
      }
    },
    {
      "cell_type": "code",
      "source": [
        "s=input(\"enter a string: \")\n",
        "result=\"\"\n",
        "for char in s:\n",
        "  if char not in result:\n",
        "    result+=char\n",
        "print(f\"String after removing duplicates:\", result)\n"
      ],
      "metadata": {
        "colab": {
          "base_uri": "https://localhost:8080/"
        },
        "id": "T3gCgTw3twU-",
        "outputId": "7cce9dbf-9948-4e49-9ffa-27c6c7cdcca1"
      },
      "execution_count": null,
      "outputs": [
        {
          "output_type": "stream",
          "name": "stdout",
          "text": [
            "enter a string: programming\n",
            "String after removing duplicates: progamin\n"
          ]
        }
      ]
    },
    {
      "cell_type": "markdown",
      "source": [
        "# 3.Find the Longest Word in a Sentence\n",
        "Input: \"Python is a powerful programming language\"\n",
        "Output: \"programming\""
      ],
      "metadata": {
        "id": "Q-Wvq6OGvcV2"
      }
    },
    {
      "cell_type": "code",
      "source": [
        "s=input(\"enter a sentance: \")\n",
        "temp=s.split(\" \")\n",
        "max_count=0\n",
        "long_word=\"\"\n",
        "for word in temp:\n",
        "  count=0\n",
        "  for char in word:\n",
        "    count+=1\n",
        "  if count>max_count:\n",
        "    max_count=count\n",
        "    long_word=word\n",
        "print(\"Longest word:\", long_word)\n",
        "print(\"Length:\", max_count)\n"
      ],
      "metadata": {
        "colab": {
          "base_uri": "https://localhost:8080/"
        },
        "id": "mxzkokDovkr1",
        "outputId": "01e218d6-58e4-47db-8676-75a19194b6b1"
      },
      "execution_count": null,
      "outputs": [
        {
          "output_type": "stream",
          "name": "stdout",
          "text": [
            "enter a sentance: Python is a powerful programming language\n",
            "Longest word: programming\n",
            "Length: 11\n"
          ]
        }
      ]
    },
    {
      "cell_type": "markdown",
      "source": [
        "# 4. Check if Two Strings are Anagrams\n",
        "Input: \"listen\", \"silent\"\n",
        "Output: True"
      ],
      "metadata": {
        "id": "dJi0zGYc1tHt"
      }
    },
    {
      "cell_type": "code",
      "source": [
        "s1=input(\"enter a string: \")\n",
        "s2=input(\"enter a string: \")\n",
        "count1=0\n",
        "count2=0\n",
        "for char in s1:\n",
        "  count1+=1\n",
        "for char in s2:\n",
        "  count2+=1\n",
        "if count1==count2:\n",
        "  print(f\"{s1,s2} Two Strings are Anagrams\")\n",
        "else:\n",
        "  print(\"not\")"
      ],
      "metadata": {
        "colab": {
          "base_uri": "https://localhost:8080/"
        },
        "id": "XpyfDszD1zU7",
        "outputId": "f5d08ed7-df93-48c2-a142-1d902c432cc7"
      },
      "execution_count": null,
      "outputs": [
        {
          "output_type": "stream",
          "name": "stdout",
          "text": [
            "enter a string: aditi\n",
            "enter a string: aarvi\n",
            "('aditi', 'aarvi') Two Strings are Anagrams\n"
          ]
        }
      ]
    },
    {
      "cell_type": "code",
      "source": [
        "def are_anagrams(str1, str2):\n",
        "    if len(str1) != len(str2):\n",
        "        return False\n",
        "    count1 = {}\n",
        "    count2 = {}\n",
        "    for ch in str1:\n",
        "        count1[ch] = count1.get(ch, 0) + 1\n",
        "    for ch in str2:\n",
        "        count2[ch] = count2.get(ch, 0) + 1\n",
        "    return count1 == count2"
      ],
      "metadata": {
        "id": "FrAaGcHK4U0D"
      },
      "execution_count": null,
      "outputs": []
    },
    {
      "cell_type": "markdown",
      "source": [
        "# 5. Replace All Spaces With Hyphens\n",
        "Input: \"Python is fun\"\n",
        "Output: \"Python-is-fun\""
      ],
      "metadata": {
        "id": "yvpGt1JX4WL5"
      }
    },
    {
      "cell_type": "code",
      "source": [
        "s=input(\"enter a sentance: \")\n",
        "s=s.replace(\" \", \"-\")\n",
        "print(s)"
      ],
      "metadata": {
        "colab": {
          "base_uri": "https://localhost:8080/"
        },
        "id": "0DBiE7iC4hNh",
        "outputId": "d325af6d-989e-4689-ebfd-9ebcd68f631c"
      },
      "execution_count": null,
      "outputs": [
        {
          "output_type": "stream",
          "name": "stdout",
          "text": [
            "enter a sentance: Python is fun\n",
            "Python-is-fun\n"
          ]
        }
      ]
    },
    {
      "cell_type": "code",
      "source": [
        "s=input(\"enter a sentance: \")\n",
        "new_sentence=\"\"\n",
        "for char in s:\n",
        "  if char==\" \":\n",
        "    new_sentence+=\"-\"\n",
        "  else:\n",
        "    new_sentence+=char\n",
        "print(new_sentence)\n"
      ],
      "metadata": {
        "colab": {
          "base_uri": "https://localhost:8080/"
        },
        "id": "5yRSDGpm40ay",
        "outputId": "256a5987-2787-447f-efc1-40bd92af275a"
      },
      "execution_count": null,
      "outputs": [
        {
          "output_type": "stream",
          "name": "stdout",
          "text": [
            "enter a sentance: Python is fun\n",
            "Python-is-fun\n"
          ]
        }
      ]
    },
    {
      "cell_type": "markdown",
      "source": [
        "# 6. Count Frequency of Each Character\n",
        "Input: \"apple\"\n",
        "Output: {'a': 1, 'p': 2, 'l': 1, 'e': 1}"
      ],
      "metadata": {
        "id": "zJfo1TIn5dGa"
      }
    },
    {
      "cell_type": "markdown",
      "source": [
        "# 7. Find All Words Starting with a Vowel\n",
        "Input: \"An elephant is eating an apple\"\n",
        "Output: ['An', 'elephant', 'is', 'eating', 'an', 'apple']"
      ],
      "metadata": {
        "id": "fdzIA2OU51RB"
      }
    },
    {
      "cell_type": "code",
      "source": [
        "s=input(\"enter a sentance: \")\n",
        "words=s.split(\" \")\n",
        "words_svowel=[]\n",
        "for word in words:\n",
        "  vowels=\"AEIOUaeiou\"\n",
        "  if word[:1] in vowels :\n",
        "    words_svowel.append(word)\n",
        "print(words_svowel)\n",
        "\n"
      ],
      "metadata": {
        "colab": {
          "base_uri": "https://localhost:8080/"
        },
        "id": "45dEYv9e-Qlv",
        "outputId": "79a05c83-661b-4fc1-91c2-4d56527cd4ae"
      },
      "execution_count": null,
      "outputs": [
        {
          "output_type": "stream",
          "name": "stdout",
          "text": [
            "enter a sentance: An elephant is eating an apple\n",
            "['An', 'elephant', 'is', 'eating', 'an', 'apple']\n"
          ]
        }
      ]
    },
    {
      "cell_type": "markdown",
      "source": [
        "# 8. Check for Pangram\n",
        "Check if a string contains all letters of the alphabet at least once.\n",
        "\n"
      ],
      "metadata": {
        "id": "QRPubkByBt8i"
      }
    },
    {
      "cell_type": "code",
      "source": [
        "s=input(\"enter a string: \")\n",
        "letters=set()\n",
        "for char in s:\n",
        "  if 'a'<=char<='z':\n",
        "    letters.add(char)\n",
        "if len(letters)<26:\n",
        "  print(f\"{s} is not a pangram\")\n",
        "else:\n",
        "  print(f\"{s} is a pangram\")"
      ],
      "metadata": {
        "colab": {
          "base_uri": "https://localhost:8080/",
          "height": 248
        },
        "id": "yliaFfk0Cige",
        "outputId": "f22d1c07-f781-49cc-8c57-68f82dbede09"
      },
      "execution_count": null,
      "outputs": [
        {
          "name": "stdout",
          "output_type": "stream",
          "text": [
            "enter a string: s=input(\"enter a string: \") letters=set() for char in s:   letters.add(char) if len(letters)<26:   print(f\"{s} is not a pangram\") else:   print(f\"{s} is a pangram\")\n"
          ]
        },
        {
          "output_type": "error",
          "ename": "TypeError",
          "evalue": "'set' object is not callable",
          "traceback": [
            "\u001b[0;31m---------------------------------------------------------------------------\u001b[0m",
            "\u001b[0;31mTypeError\u001b[0m                                 Traceback (most recent call last)",
            "\u001b[0;32m<ipython-input-65-695866f12141>\u001b[0m in \u001b[0;36m<cell line: 0>\u001b[0;34m()\u001b[0m\n\u001b[1;32m      1\u001b[0m \u001b[0ms\u001b[0m\u001b[0;34m=\u001b[0m\u001b[0minput\u001b[0m\u001b[0;34m(\u001b[0m\u001b[0;34m\"enter a string: \"\u001b[0m\u001b[0;34m)\u001b[0m\u001b[0;34m\u001b[0m\u001b[0;34m\u001b[0m\u001b[0m\n\u001b[0;32m----> 2\u001b[0;31m \u001b[0mletters\u001b[0m\u001b[0;34m=\u001b[0m\u001b[0mset\u001b[0m\u001b[0;34m(\u001b[0m\u001b[0;34m)\u001b[0m\u001b[0;34m\u001b[0m\u001b[0;34m\u001b[0m\u001b[0m\n\u001b[0m\u001b[1;32m      3\u001b[0m \u001b[0;32mfor\u001b[0m \u001b[0mchar\u001b[0m \u001b[0;32min\u001b[0m \u001b[0ms\u001b[0m\u001b[0;34m:\u001b[0m\u001b[0;34m\u001b[0m\u001b[0;34m\u001b[0m\u001b[0m\n\u001b[1;32m      4\u001b[0m   \u001b[0;32mif\u001b[0m \u001b[0;34m'a'\u001b[0m\u001b[0;34m<=\u001b[0m\u001b[0mchar\u001b[0m\u001b[0;34m<=\u001b[0m\u001b[0;34m'z'\u001b[0m\u001b[0;34m:\u001b[0m\u001b[0;34m\u001b[0m\u001b[0;34m\u001b[0m\u001b[0m\n\u001b[1;32m      5\u001b[0m     \u001b[0mletters\u001b[0m\u001b[0;34m.\u001b[0m\u001b[0madd\u001b[0m\u001b[0;34m(\u001b[0m\u001b[0mchar\u001b[0m\u001b[0;34m)\u001b[0m\u001b[0;34m\u001b[0m\u001b[0;34m\u001b[0m\u001b[0m\n",
            "\u001b[0;31mTypeError\u001b[0m: 'set' object is not callable"
          ]
        }
      ]
    },
    {
      "cell_type": "code",
      "source": [
        "set={1,2,3}\n",
        "print(len(set))"
      ],
      "metadata": {
        "colab": {
          "base_uri": "https://localhost:8080/",
          "height": 159
        },
        "id": "8Ob3PbV0GIf3",
        "outputId": "0a8b1b64-779d-43c6-fe58-ec58874b00da"
      },
      "execution_count": null,
      "outputs": [
        {
          "output_type": "error",
          "ename": "TypeError",
          "evalue": "'int' object is not callable",
          "traceback": [
            "\u001b[0;31m---------------------------------------------------------------------------\u001b[0m",
            "\u001b[0;31mTypeError\u001b[0m                                 Traceback (most recent call last)",
            "\u001b[0;32m<ipython-input-61-93f71ac9dbd6>\u001b[0m in \u001b[0;36m<cell line: 0>\u001b[0;34m()\u001b[0m\n\u001b[1;32m      1\u001b[0m \u001b[0mset\u001b[0m\u001b[0;34m=\u001b[0m\u001b[0;34m{\u001b[0m\u001b[0;36m1\u001b[0m\u001b[0;34m,\u001b[0m\u001b[0;36m2\u001b[0m\u001b[0;34m,\u001b[0m\u001b[0;36m3\u001b[0m\u001b[0;34m}\u001b[0m\u001b[0;34m\u001b[0m\u001b[0;34m\u001b[0m\u001b[0m\n\u001b[0;32m----> 2\u001b[0;31m \u001b[0mprint\u001b[0m\u001b[0;34m(\u001b[0m\u001b[0mlen\u001b[0m\u001b[0;34m(\u001b[0m\u001b[0mset\u001b[0m\u001b[0;34m)\u001b[0m\u001b[0;34m)\u001b[0m\u001b[0;34m\u001b[0m\u001b[0;34m\u001b[0m\u001b[0m\n\u001b[0m",
            "\u001b[0;31mTypeError\u001b[0m: 'int' object is not callable"
          ]
        }
      ]
    },
    {
      "cell_type": "code",
      "source": [
        "s = input(\"Enter a string: \")\n",
        "letters = set()  # This now correctly refers to the built-in set type\n",
        "\n",
        "for char in s.lower():\n",
        "    if 'a' <= char <= 'z':\n",
        "        letters.add(char)\n",
        "\n",
        "if len(letters) < 26:\n",
        "    print(f\"'{s}' is NOT a pangram\")\n",
        "else:\n",
        "    print(f\"'{s}' is a pangram\")"
      ],
      "metadata": {
        "colab": {
          "base_uri": "https://localhost:8080/",
          "height": 228
        },
        "id": "Lwj2xAbtIGrT",
        "outputId": "2ba914ee-67ac-474e-c269-d818eac70dea"
      },
      "execution_count": null,
      "outputs": [
        {
          "name": "stdout",
          "output_type": "stream",
          "text": [
            "Enter a string: This now correctly refers to the built-in set type\n"
          ]
        },
        {
          "output_type": "error",
          "ename": "TypeError",
          "evalue": "'set' object is not callable",
          "traceback": [
            "\u001b[0;31m---------------------------------------------------------------------------\u001b[0m",
            "\u001b[0;31mTypeError\u001b[0m                                 Traceback (most recent call last)",
            "\u001b[0;32m<ipython-input-68-f0ac04a3d437>\u001b[0m in \u001b[0;36m<cell line: 0>\u001b[0;34m()\u001b[0m\n\u001b[1;32m      1\u001b[0m \u001b[0ms\u001b[0m \u001b[0;34m=\u001b[0m \u001b[0minput\u001b[0m\u001b[0;34m(\u001b[0m\u001b[0;34m\"Enter a string: \"\u001b[0m\u001b[0;34m)\u001b[0m\u001b[0;34m\u001b[0m\u001b[0;34m\u001b[0m\u001b[0m\n\u001b[0;32m----> 2\u001b[0;31m \u001b[0mletters\u001b[0m \u001b[0;34m=\u001b[0m \u001b[0mset\u001b[0m\u001b[0;34m(\u001b[0m\u001b[0;34m)\u001b[0m  \u001b[0;31m# This now correctly refers to the built-in set type\u001b[0m\u001b[0;34m\u001b[0m\u001b[0;34m\u001b[0m\u001b[0m\n\u001b[0m\u001b[1;32m      3\u001b[0m \u001b[0;34m\u001b[0m\u001b[0m\n\u001b[1;32m      4\u001b[0m \u001b[0;32mfor\u001b[0m \u001b[0mchar\u001b[0m \u001b[0;32min\u001b[0m \u001b[0ms\u001b[0m\u001b[0;34m.\u001b[0m\u001b[0mlower\u001b[0m\u001b[0;34m(\u001b[0m\u001b[0;34m)\u001b[0m\u001b[0;34m:\u001b[0m\u001b[0;34m\u001b[0m\u001b[0;34m\u001b[0m\u001b[0m\n\u001b[1;32m      5\u001b[0m     \u001b[0;32mif\u001b[0m \u001b[0;34m'a'\u001b[0m \u001b[0;34m<=\u001b[0m \u001b[0mchar\u001b[0m \u001b[0;34m<=\u001b[0m \u001b[0;34m'z'\u001b[0m\u001b[0;34m:\u001b[0m\u001b[0;34m\u001b[0m\u001b[0;34m\u001b[0m\u001b[0m\n",
            "\u001b[0;31mTypeError\u001b[0m: 'set' object is not callable"
          ]
        }
      ]
    },
    {
      "cell_type": "code",
      "source": [
        "def is_pangram(s):\n",
        "  letters= set()\n",
        "\n",
        "  for char in s:\n",
        "    if \"a\"<=char<=\"z\":\n",
        "      letters.add(char)\n",
        "\n",
        "  if len(letters)==26:\n",
        "    return True\n",
        "  else:\n",
        "    return False\n",
        "\n",
        "s=input(\"enter a string/sentance\")\n",
        "is_pangram(s)"
      ],
      "metadata": {
        "colab": {
          "base_uri": "https://localhost:8080/",
          "height": 315
        },
        "id": "pgjDeqUzIXq1",
        "outputId": "51170f50-0b47-4524-b527-280756192576"
      },
      "execution_count": null,
      "outputs": [
        {
          "name": "stdout",
          "output_type": "stream",
          "text": [
            "enter a string/sentanceThis now correctly refers to the built-in set type\n"
          ]
        },
        {
          "output_type": "error",
          "ename": "TypeError",
          "evalue": "'set' object is not callable",
          "traceback": [
            "\u001b[0;31m---------------------------------------------------------------------------\u001b[0m",
            "\u001b[0;31mTypeError\u001b[0m                                 Traceback (most recent call last)",
            "\u001b[0;32m<ipython-input-67-0090dfc21191>\u001b[0m in \u001b[0;36m<cell line: 0>\u001b[0;34m()\u001b[0m\n\u001b[1;32m     12\u001b[0m \u001b[0;34m\u001b[0m\u001b[0m\n\u001b[1;32m     13\u001b[0m \u001b[0ms\u001b[0m\u001b[0;34m=\u001b[0m\u001b[0minput\u001b[0m\u001b[0;34m(\u001b[0m\u001b[0;34m\"enter a string/sentance\"\u001b[0m\u001b[0;34m)\u001b[0m\u001b[0;34m\u001b[0m\u001b[0;34m\u001b[0m\u001b[0m\n\u001b[0;32m---> 14\u001b[0;31m \u001b[0mis_pangram\u001b[0m\u001b[0;34m(\u001b[0m\u001b[0ms\u001b[0m\u001b[0;34m)\u001b[0m\u001b[0;34m\u001b[0m\u001b[0;34m\u001b[0m\u001b[0m\n\u001b[0m",
            "\u001b[0;32m<ipython-input-67-0090dfc21191>\u001b[0m in \u001b[0;36mis_pangram\u001b[0;34m(s)\u001b[0m\n\u001b[1;32m      1\u001b[0m \u001b[0;32mdef\u001b[0m \u001b[0mis_pangram\u001b[0m\u001b[0;34m(\u001b[0m\u001b[0ms\u001b[0m\u001b[0;34m)\u001b[0m\u001b[0;34m:\u001b[0m\u001b[0;34m\u001b[0m\u001b[0;34m\u001b[0m\u001b[0m\n\u001b[0;32m----> 2\u001b[0;31m   \u001b[0mletters\u001b[0m\u001b[0;34m=\u001b[0m \u001b[0mset\u001b[0m\u001b[0;34m(\u001b[0m\u001b[0;34m)\u001b[0m\u001b[0;34m\u001b[0m\u001b[0;34m\u001b[0m\u001b[0m\n\u001b[0m\u001b[1;32m      3\u001b[0m \u001b[0;34m\u001b[0m\u001b[0m\n\u001b[1;32m      4\u001b[0m   \u001b[0;32mfor\u001b[0m \u001b[0mchar\u001b[0m \u001b[0;32min\u001b[0m \u001b[0ms\u001b[0m\u001b[0;34m:\u001b[0m\u001b[0;34m\u001b[0m\u001b[0;34m\u001b[0m\u001b[0m\n\u001b[1;32m      5\u001b[0m     \u001b[0;32mif\u001b[0m \u001b[0;34m\"a\"\u001b[0m\u001b[0;34m<=\u001b[0m\u001b[0mchar\u001b[0m\u001b[0;34m<=\u001b[0m\u001b[0;34m\"z\"\u001b[0m\u001b[0;34m:\u001b[0m\u001b[0;34m\u001b[0m\u001b[0;34m\u001b[0m\u001b[0m\n",
            "\u001b[0;31mTypeError\u001b[0m: 'set' object is not callable"
          ]
        }
      ]
    },
    {
      "cell_type": "code",
      "source": [
        "s = input(\"Enter a string: \")\n",
        "letters = set()  # This now correctly refers to the built-in set type\n",
        "\n",
        "for char in s.lower():\n",
        "    if 'a' <= char <= 'z':\n",
        "        letters.add(char)\n",
        "\n",
        "if len(letters) < 26:\n",
        "    print(f\"'{s}' is NOT a pangram\")\n",
        "else:\n",
        "    print(f\"'{s}' is a pangram\")"
      ],
      "metadata": {
        "colab": {
          "base_uri": "https://localhost:8080/",
          "height": 228
        },
        "id": "B1ebw_EhJgXF",
        "outputId": "86365b63-480c-4995-f454-acf4034e44c4"
      },
      "execution_count": null,
      "outputs": [
        {
          "name": "stdout",
          "output_type": "stream",
          "text": [
            "Enter a string: This now correctly refers to the built-in set type\n"
          ]
        },
        {
          "output_type": "error",
          "ename": "TypeError",
          "evalue": "'set' object is not callable",
          "traceback": [
            "\u001b[0;31m---------------------------------------------------------------------------\u001b[0m",
            "\u001b[0;31mTypeError\u001b[0m                                 Traceback (most recent call last)",
            "\u001b[0;32m<ipython-input-69-f0ac04a3d437>\u001b[0m in \u001b[0;36m<cell line: 0>\u001b[0;34m()\u001b[0m\n\u001b[1;32m      1\u001b[0m \u001b[0ms\u001b[0m \u001b[0;34m=\u001b[0m \u001b[0minput\u001b[0m\u001b[0;34m(\u001b[0m\u001b[0;34m\"Enter a string: \"\u001b[0m\u001b[0;34m)\u001b[0m\u001b[0;34m\u001b[0m\u001b[0;34m\u001b[0m\u001b[0m\n\u001b[0;32m----> 2\u001b[0;31m \u001b[0mletters\u001b[0m \u001b[0;34m=\u001b[0m \u001b[0mset\u001b[0m\u001b[0;34m(\u001b[0m\u001b[0;34m)\u001b[0m  \u001b[0;31m# This now correctly refers to the built-in set type\u001b[0m\u001b[0;34m\u001b[0m\u001b[0;34m\u001b[0m\u001b[0m\n\u001b[0m\u001b[1;32m      3\u001b[0m \u001b[0;34m\u001b[0m\u001b[0m\n\u001b[1;32m      4\u001b[0m \u001b[0;32mfor\u001b[0m \u001b[0mchar\u001b[0m \u001b[0;32min\u001b[0m \u001b[0ms\u001b[0m\u001b[0;34m.\u001b[0m\u001b[0mlower\u001b[0m\u001b[0;34m(\u001b[0m\u001b[0;34m)\u001b[0m\u001b[0;34m:\u001b[0m\u001b[0;34m\u001b[0m\u001b[0;34m\u001b[0m\u001b[0m\n\u001b[1;32m      5\u001b[0m     \u001b[0;32mif\u001b[0m \u001b[0;34m'a'\u001b[0m \u001b[0;34m<=\u001b[0m \u001b[0mchar\u001b[0m \u001b[0;34m<=\u001b[0m \u001b[0;34m'z'\u001b[0m\u001b[0;34m:\u001b[0m\u001b[0;34m\u001b[0m\u001b[0;34m\u001b[0m\u001b[0m\n",
            "\u001b[0;31mTypeError\u001b[0m: 'set' object is not callable"
          ]
        }
      ]
    },
    {
      "cell_type": "code",
      "source": [
        "def is_pangram(sentence):\n",
        "    sentence = sentence.lower()\n",
        "    letters = set()\n",
        "\n",
        "    for char in sentence:\n",
        "        if 'a' <= char <= 'z':\n",
        "            letters.add(char)\n",
        "\n",
        "    return len(letters) == 26\n",
        "\n",
        "# Input from user\n",
        "s = input(\"Enter a sentence: \")\n",
        "\n",
        "# Check and output\n",
        "if is_pangram(s):\n",
        "    print(\"It's a pangram!\")\n",
        "else:\n",
        "    print(\"Not a pangram.\")"
      ],
      "metadata": {
        "colab": {
          "base_uri": "https://localhost:8080/",
          "height": 349
        },
        "id": "n3c-s4XgJza-",
        "outputId": "a94ec2c4-3a3a-4e2e-dd13-e73579395302"
      },
      "execution_count": null,
      "outputs": [
        {
          "name": "stdout",
          "output_type": "stream",
          "text": [
            "Enter a sentence: This now correctly refers to the built-in set type\n"
          ]
        },
        {
          "output_type": "error",
          "ename": "TypeError",
          "evalue": "'set' object is not callable",
          "traceback": [
            "\u001b[0;31m---------------------------------------------------------------------------\u001b[0m",
            "\u001b[0;31mTypeError\u001b[0m                                 Traceback (most recent call last)",
            "\u001b[0;32m<ipython-input-70-d662856e397f>\u001b[0m in \u001b[0;36m<cell line: 0>\u001b[0;34m()\u001b[0m\n\u001b[1;32m     13\u001b[0m \u001b[0;34m\u001b[0m\u001b[0m\n\u001b[1;32m     14\u001b[0m \u001b[0;31m# Check and output\u001b[0m\u001b[0;34m\u001b[0m\u001b[0;34m\u001b[0m\u001b[0m\n\u001b[0;32m---> 15\u001b[0;31m \u001b[0;32mif\u001b[0m \u001b[0mis_pangram\u001b[0m\u001b[0;34m(\u001b[0m\u001b[0ms\u001b[0m\u001b[0;34m)\u001b[0m\u001b[0;34m:\u001b[0m\u001b[0;34m\u001b[0m\u001b[0;34m\u001b[0m\u001b[0m\n\u001b[0m\u001b[1;32m     16\u001b[0m     \u001b[0mprint\u001b[0m\u001b[0;34m(\u001b[0m\u001b[0;34m\"It's a pangram!\"\u001b[0m\u001b[0;34m)\u001b[0m\u001b[0;34m\u001b[0m\u001b[0;34m\u001b[0m\u001b[0m\n\u001b[1;32m     17\u001b[0m \u001b[0;32melse\u001b[0m\u001b[0;34m:\u001b[0m\u001b[0;34m\u001b[0m\u001b[0;34m\u001b[0m\u001b[0m\n",
            "\u001b[0;32m<ipython-input-70-d662856e397f>\u001b[0m in \u001b[0;36mis_pangram\u001b[0;34m(sentence)\u001b[0m\n\u001b[1;32m      1\u001b[0m \u001b[0;32mdef\u001b[0m \u001b[0mis_pangram\u001b[0m\u001b[0;34m(\u001b[0m\u001b[0msentence\u001b[0m\u001b[0;34m)\u001b[0m\u001b[0;34m:\u001b[0m\u001b[0;34m\u001b[0m\u001b[0;34m\u001b[0m\u001b[0m\n\u001b[1;32m      2\u001b[0m     \u001b[0msentence\u001b[0m \u001b[0;34m=\u001b[0m \u001b[0msentence\u001b[0m\u001b[0;34m.\u001b[0m\u001b[0mlower\u001b[0m\u001b[0;34m(\u001b[0m\u001b[0;34m)\u001b[0m\u001b[0;34m\u001b[0m\u001b[0;34m\u001b[0m\u001b[0m\n\u001b[0;32m----> 3\u001b[0;31m     \u001b[0mletters\u001b[0m \u001b[0;34m=\u001b[0m \u001b[0mset\u001b[0m\u001b[0;34m(\u001b[0m\u001b[0;34m)\u001b[0m\u001b[0;34m\u001b[0m\u001b[0;34m\u001b[0m\u001b[0m\n\u001b[0m\u001b[1;32m      4\u001b[0m \u001b[0;34m\u001b[0m\u001b[0m\n\u001b[1;32m      5\u001b[0m     \u001b[0;32mfor\u001b[0m \u001b[0mchar\u001b[0m \u001b[0;32min\u001b[0m \u001b[0msentence\u001b[0m\u001b[0;34m:\u001b[0m\u001b[0;34m\u001b[0m\u001b[0;34m\u001b[0m\u001b[0m\n",
            "\u001b[0;31mTypeError\u001b[0m: 'set' object is not callable"
          ]
        }
      ]
    },
    {
      "cell_type": "markdown",
      "source": [
        "# 9. Title Case a Sentence\n",
        "Input: \"welcome to python programming\"\n",
        "Output: \"Welcome To Python Programming\""
      ],
      "metadata": {
        "id": "E-8Q2mC1KRCh"
      }
    },
    {
      "cell_type": "code",
      "source": [
        "def title_case_a_sentence(s):\n",
        "  words=s.split(\" \")\n",
        "  new_sen=\"\"\n",
        "  for word in words:\n",
        "    word=word[:1].upper()+word[1:]\n",
        "    new_sen+=word+\" \"\n",
        "  print(new_sen.strip())\n",
        "s=input(\"enter a sentence: \")\n",
        "title_case_a_sentence(s)\n",
        "\n"
      ],
      "metadata": {
        "colab": {
          "base_uri": "https://localhost:8080/"
        },
        "id": "lBKEfT3WKSuf",
        "outputId": "52d71afc-c1ec-456f-e187-cbba427f9c36"
      },
      "execution_count": null,
      "outputs": [
        {
          "output_type": "stream",
          "name": "stdout",
          "text": [
            "enter a sentence: welcome to python programming\n",
            "Welcome To Python Programming\n"
          ]
        }
      ]
    },
    {
      "cell_type": "markdown",
      "source": [
        "# 10. Compress a String (Basic Run-Length Encoding)\n",
        "Input: \"aaabbccccd\"\n",
        "Output: \"a3b2c4d1\""
      ],
      "metadata": {
        "id": "cLYDKy78Ny0y"
      }
    },
    {
      "cell_type": "code",
      "source": [
        "s=input(\"enter a string: \")\n",
        "compressed=\"\"\n",
        "count=1\n",
        "for i in range(1, len(s)):\n",
        "  if s[i]==s[i-1]:\n",
        "    count+=1\n",
        "  else:\n",
        "    compressed+=s[i-1]+str(count)\n",
        "    count=1\n",
        "print(\"compressed string: \", compressed)\n",
        "\n"
      ],
      "metadata": {
        "colab": {
          "base_uri": "https://localhost:8080/",
          "height": 228
        },
        "id": "8jijF67ON5F2",
        "outputId": "4efe5a2e-61db-45e4-b452-918c884c6a27"
      },
      "execution_count": null,
      "outputs": [
        {
          "name": "stdout",
          "output_type": "stream",
          "text": [
            "enter a string: aaabbccccd\n"
          ]
        },
        {
          "output_type": "error",
          "ename": "TypeError",
          "evalue": "'int' object is not callable",
          "traceback": [
            "\u001b[0;31m---------------------------------------------------------------------------\u001b[0m",
            "\u001b[0;31mTypeError\u001b[0m                                 Traceback (most recent call last)",
            "\u001b[0;32m<ipython-input-75-e69651049ee4>\u001b[0m in \u001b[0;36m<cell line: 0>\u001b[0;34m()\u001b[0m\n\u001b[1;32m      2\u001b[0m \u001b[0mcompressed\u001b[0m\u001b[0;34m=\u001b[0m\u001b[0;34m\"\"\u001b[0m\u001b[0;34m\u001b[0m\u001b[0;34m\u001b[0m\u001b[0m\n\u001b[1;32m      3\u001b[0m \u001b[0mcount\u001b[0m\u001b[0;34m=\u001b[0m\u001b[0;36m1\u001b[0m\u001b[0;34m\u001b[0m\u001b[0;34m\u001b[0m\u001b[0m\n\u001b[0;32m----> 4\u001b[0;31m \u001b[0;32mfor\u001b[0m \u001b[0mi\u001b[0m \u001b[0;32min\u001b[0m \u001b[0mrange\u001b[0m\u001b[0;34m(\u001b[0m\u001b[0;36m1\u001b[0m\u001b[0;34m,\u001b[0m \u001b[0mlen\u001b[0m\u001b[0;34m(\u001b[0m\u001b[0ms\u001b[0m\u001b[0;34m)\u001b[0m\u001b[0;34m)\u001b[0m\u001b[0;34m:\u001b[0m\u001b[0;34m\u001b[0m\u001b[0;34m\u001b[0m\u001b[0m\n\u001b[0m\u001b[1;32m      5\u001b[0m   \u001b[0;32mif\u001b[0m \u001b[0ms\u001b[0m\u001b[0;34m[\u001b[0m\u001b[0mi\u001b[0m\u001b[0;34m]\u001b[0m\u001b[0;34m==\u001b[0m\u001b[0ms\u001b[0m\u001b[0;34m[\u001b[0m\u001b[0mi\u001b[0m\u001b[0;34m-\u001b[0m\u001b[0;36m1\u001b[0m\u001b[0;34m]\u001b[0m\u001b[0;34m:\u001b[0m\u001b[0;34m\u001b[0m\u001b[0;34m\u001b[0m\u001b[0m\n\u001b[1;32m      6\u001b[0m     \u001b[0mcount\u001b[0m\u001b[0;34m+=\u001b[0m\u001b[0;36m1\u001b[0m\u001b[0;34m\u001b[0m\u001b[0;34m\u001b[0m\u001b[0m\n",
            "\u001b[0;31mTypeError\u001b[0m: 'int' object is not callable"
          ]
        }
      ]
    },
    {
      "cell_type": "code",
      "source": [
        "s = input(\"Enter a string: \")\n",
        "compressed = \"\"\n",
        "count = 1  # Start from 1\n",
        "\n",
        "for i in range(1, len(s)):\n",
        "    if s[i] == s[i - 1]:\n",
        "        count += 1\n",
        "    else:\n",
        "        compressed += s[i - 1] + str(count)\n",
        "        count = 1\n",
        "\n",
        "# Add the last character group\n",
        "compressed += s[-1] + str(count)\n",
        "\n",
        "print(\"Compressed string:\", compressed)"
      ],
      "metadata": {
        "colab": {
          "base_uri": "https://localhost:8080/",
          "height": 228
        },
        "id": "Ro86ZZQMROTZ",
        "outputId": "225295c5-0fc5-43ad-be50-08f5067190c7"
      },
      "execution_count": null,
      "outputs": [
        {
          "name": "stdout",
          "output_type": "stream",
          "text": [
            "Enter a string: aaabbccccd\n"
          ]
        },
        {
          "output_type": "error",
          "ename": "TypeError",
          "evalue": "'int' object is not callable",
          "traceback": [
            "\u001b[0;31m---------------------------------------------------------------------------\u001b[0m",
            "\u001b[0;31mTypeError\u001b[0m                                 Traceback (most recent call last)",
            "\u001b[0;32m<ipython-input-76-b4adf24370cd>\u001b[0m in \u001b[0;36m<cell line: 0>\u001b[0;34m()\u001b[0m\n\u001b[1;32m      3\u001b[0m \u001b[0mcount\u001b[0m \u001b[0;34m=\u001b[0m \u001b[0;36m1\u001b[0m  \u001b[0;31m# Start from 1\u001b[0m\u001b[0;34m\u001b[0m\u001b[0;34m\u001b[0m\u001b[0m\n\u001b[1;32m      4\u001b[0m \u001b[0;34m\u001b[0m\u001b[0m\n\u001b[0;32m----> 5\u001b[0;31m \u001b[0;32mfor\u001b[0m \u001b[0mi\u001b[0m \u001b[0;32min\u001b[0m \u001b[0mrange\u001b[0m\u001b[0;34m(\u001b[0m\u001b[0;36m1\u001b[0m\u001b[0;34m,\u001b[0m \u001b[0mlen\u001b[0m\u001b[0;34m(\u001b[0m\u001b[0ms\u001b[0m\u001b[0;34m)\u001b[0m\u001b[0;34m)\u001b[0m\u001b[0;34m:\u001b[0m\u001b[0;34m\u001b[0m\u001b[0;34m\u001b[0m\u001b[0m\n\u001b[0m\u001b[1;32m      6\u001b[0m     \u001b[0;32mif\u001b[0m \u001b[0ms\u001b[0m\u001b[0;34m[\u001b[0m\u001b[0mi\u001b[0m\u001b[0;34m]\u001b[0m \u001b[0;34m==\u001b[0m \u001b[0ms\u001b[0m\u001b[0;34m[\u001b[0m\u001b[0mi\u001b[0m \u001b[0;34m-\u001b[0m \u001b[0;36m1\u001b[0m\u001b[0;34m]\u001b[0m\u001b[0;34m:\u001b[0m\u001b[0;34m\u001b[0m\u001b[0;34m\u001b[0m\u001b[0m\n\u001b[1;32m      7\u001b[0m         \u001b[0mcount\u001b[0m \u001b[0;34m+=\u001b[0m \u001b[0;36m1\u001b[0m\u001b[0;34m\u001b[0m\u001b[0;34m\u001b[0m\u001b[0m\n",
            "\u001b[0;31mTypeError\u001b[0m: 'int' object is not callable"
          ]
        }
      ]
    },
    {
      "cell_type": "markdown",
      "source": [
        "# List-problems"
      ],
      "metadata": {
        "id": "izoVlxjSgNNI"
      }
    },
    {
      "cell_type": "markdown",
      "source": [
        "# 1.Print all elements of a list\n",
        "my_list = [1, 2, 3, 4]\n",
        "Output: 1 2 3 4"
      ],
      "metadata": {
        "id": "S_aR_hU6geYZ"
      }
    },
    {
      "cell_type": "code",
      "source": [
        "my_list=[1,2,3,4]\n",
        "for x in my_list:\n",
        "  print(x, end=\" \")"
      ],
      "metadata": {
        "colab": {
          "base_uri": "https://localhost:8080/"
        },
        "id": "mki-ZnuYg61N",
        "outputId": "86bca18e-fe3b-4795-f1ee-085b72d9f606"
      },
      "execution_count": null,
      "outputs": [
        {
          "output_type": "stream",
          "name": "stdout",
          "text": [
            "1 2 3 4 "
          ]
        }
      ]
    },
    {
      "cell_type": "markdown",
      "source": [
        "# 2.Find the length of a list\n",
        "my_list = [10, 20, 30]\n",
        "# Output: 3"
      ],
      "metadata": {
        "id": "omG2F98Shbtu"
      }
    },
    {
      "cell_type": "code",
      "source": [
        "my_list=[1,2,3,4]\n",
        "count=0\n",
        "for i in my_list:\n",
        "  count+=1\n",
        "print(count)"
      ],
      "metadata": {
        "colab": {
          "base_uri": "https://localhost:8080/"
        },
        "id": "noOgbam4hkBl",
        "outputId": "6c0eddbc-9690-444b-92c2-7ec106f2b850"
      },
      "execution_count": null,
      "outputs": [
        {
          "output_type": "stream",
          "name": "stdout",
          "text": [
            "4\n"
          ]
        }
      ]
    },
    {
      "cell_type": "markdown",
      "source": [
        "# 3.Append an element to a list\n",
        "my_list = [1, 2, 3]\n",
        "Append 4 → [1, 2, 3, 4]"
      ],
      "metadata": {
        "id": "4J1cNt26h4UP"
      }
    },
    {
      "cell_type": "code",
      "source": [
        "my_list=[1,2,3]\n",
        "my_list.append(4)\n",
        "print(my_list)"
      ],
      "metadata": {
        "colab": {
          "base_uri": "https://localhost:8080/"
        },
        "id": "4abevJ67iCw3",
        "outputId": "1c31520e-3bdd-4d47-b792-87af2dc6e6f7"
      },
      "execution_count": null,
      "outputs": [
        {
          "output_type": "stream",
          "name": "stdout",
          "text": [
            "[1, 2, 3, 4]\n"
          ]
        }
      ]
    },
    {
      "cell_type": "markdown",
      "source": [
        "# 4.Insert an element at a specific position\n",
        "my_list = [1, 2, 4]\n",
        "Insert 3 at index 2 → [1, 2, 3, 4]"
      ],
      "metadata": {
        "id": "elF8_5Usie4U"
      }
    },
    {
      "cell_type": "code",
      "source": [
        "my_list=[1,2,4]\n",
        "my_list.insert(2,3)\n",
        "print(my_list)"
      ],
      "metadata": {
        "colab": {
          "base_uri": "https://localhost:8080/"
        },
        "id": "ZpUI78G5imcu",
        "outputId": "a62ea1de-df19-47ca-cc26-bae0e0eea6a2"
      },
      "execution_count": null,
      "outputs": [
        {
          "output_type": "stream",
          "name": "stdout",
          "text": [
            "[1, 2, 3, 4]\n"
          ]
        }
      ]
    },
    {
      "cell_type": "markdown",
      "source": [
        "# 5.Remove a specific element\n",
        "my_list = [1, 2, 3, 2]\n",
        "Remove first 2 → [1, 3, 2]"
      ],
      "metadata": {
        "id": "SnjdqIUnpQnq"
      }
    },
    {
      "cell_type": "code",
      "source": [
        "my_list=[1,2,3,2]\n",
        "my_list.remove(2)\n",
        "print(my_list)"
      ],
      "metadata": {
        "colab": {
          "base_uri": "https://localhost:8080/"
        },
        "id": "fSMO8NnTpaIn",
        "outputId": "2b294fa1-35dc-4f99-93de-90b4e184fca2"
      },
      "execution_count": null,
      "outputs": [
        {
          "output_type": "stream",
          "name": "stdout",
          "text": [
            "[1, 3, 2]\n"
          ]
        }
      ]
    },
    {
      "cell_type": "code",
      "source": [
        "my_list=[1,2,3,2]\n",
        "my_list.pop(1)\n",
        "print(my_list)"
      ],
      "metadata": {
        "colab": {
          "base_uri": "https://localhost:8080/"
        },
        "id": "0Px-X1_op6p9",
        "outputId": "c462fe5d-3294-4793-e692-dd6332aabc9c"
      },
      "execution_count": null,
      "outputs": [
        {
          "output_type": "stream",
          "name": "stdout",
          "text": [
            "[1, 3, 2]\n"
          ]
        }
      ]
    },
    {
      "cell_type": "markdown",
      "source": [
        "# 6.Sort a list in ascending order\n",
        "my_list = [3, 1, 2]\n",
        "After sort: [1, 2, 3]"
      ],
      "metadata": {
        "id": "5CBZt1uSqF3O"
      }
    },
    {
      "cell_type": "code",
      "source": [
        "my_list=[1,2,50,20,3]\n",
        "my_list.sort()\n",
        "print(my_list)"
      ],
      "metadata": {
        "colab": {
          "base_uri": "https://localhost:8080/"
        },
        "id": "VWx1L-SXqOw4",
        "outputId": "7531aff0-3284-4ec7-8f06-9e8269c09387"
      },
      "execution_count": null,
      "outputs": [
        {
          "output_type": "stream",
          "name": "stdout",
          "text": [
            "[1, 2, 3, 20, 50]\n"
          ]
        }
      ]
    },
    {
      "cell_type": "markdown",
      "source": [
        "# 7.Find the maximum and minimum in a list\n",
        "my_list = [10, 5, 7]\n",
        "max → 10, min → 5"
      ],
      "metadata": {
        "id": "5b5edC0KqkYG"
      }
    },
    {
      "cell_type": "code",
      "source": [
        "my_list=[2,40,1,300,0,3]\n",
        "max_num=0\n",
        "min_num=0\n",
        "for i in my_list:\n",
        "  if i>max_num:\n",
        "    max_num=i\n",
        "  if i<min_num:\n",
        "    min_num=i\n",
        "print(f\"max->{max_num}, min->{min_num}\")"
      ],
      "metadata": {
        "colab": {
          "base_uri": "https://localhost:8080/"
        },
        "id": "Dcbieug3qrkQ",
        "outputId": "2b7bd65c-ed6a-43d2-eb58-6e7770d52468"
      },
      "execution_count": null,
      "outputs": [
        {
          "output_type": "stream",
          "name": "stdout",
          "text": [
            "max->300, min->0\n"
          ]
        }
      ]
    },
    {
      "cell_type": "markdown",
      "source": [
        "# 8.Check if an element exists in a list\n",
        "my_list = [1, 2, 3]\n",
        "Is 2 in the list? → True"
      ],
      "metadata": {
        "id": "57Q5jNzksSJW"
      }
    },
    {
      "cell_type": "code",
      "source": [
        "def is_element_exist(e, your_list):\n",
        "  for i in your_list:\n",
        "    if i==e:\n",
        "      return True\n",
        "  else:\n",
        "      return False\n",
        "print(is_element_exist(2,[1,2,3,4]))"
      ],
      "metadata": {
        "colab": {
          "base_uri": "https://localhost:8080/"
        },
        "id": "e_G0Yf8Qsaif",
        "outputId": "54a686f6-a9e7-428c-ec2a-2bb4478e657f"
      },
      "execution_count": null,
      "outputs": [
        {
          "output_type": "stream",
          "name": "stdout",
          "text": [
            "True\n"
          ]
        }
      ]
    },
    {
      "cell_type": "markdown",
      "source": [
        "# 9.Sum of all elements in a list\n",
        "my_list = [1, 2, 3]\n",
        "Output: 6"
      ],
      "metadata": {
        "id": "tvoGwkp0wPpA"
      }
    },
    {
      "cell_type": "code",
      "source": [
        "def sum_elements(l1):\n",
        "  sum=0\n",
        "  for i in l1:\n",
        "    sum+=i\n",
        "  return(sum)\n",
        "my_list=[1,2,3]\n",
        "print(sum_elements(my_list))"
      ],
      "metadata": {
        "colab": {
          "base_uri": "https://localhost:8080/"
        },
        "id": "AnFtQ-G6waCu",
        "outputId": "7a036ada-8c23-4650-d520-259ae87cf0b3"
      },
      "execution_count": null,
      "outputs": [
        {
          "output_type": "stream",
          "name": "stdout",
          "text": [
            "6\n"
          ]
        }
      ]
    },
    {
      "cell_type": "markdown",
      "source": [
        "# 10.Count occurrences of an element\n",
        "my_list = [1, 2, 2, 3, 2]\n",
        "Count of 2 → 3"
      ],
      "metadata": {
        "id": "BQ4G0ezQxRTN"
      }
    },
    {
      "cell_type": "code",
      "source": [
        "def count_elements(l1):\n",
        "  count=0\n",
        "  for i in l1:\n",
        "    if i==2:\n",
        "      count+=1\n",
        "  return count\n",
        "my_list=[1,2,3,2,2]\n",
        "count_elements(my_list)"
      ],
      "metadata": {
        "colab": {
          "base_uri": "https://localhost:8080/"
        },
        "id": "JYnxg1XFxdI3",
        "outputId": "9b879c82-7b0e-458e-94a4-273c5d695412"
      },
      "execution_count": null,
      "outputs": [
        {
          "output_type": "execute_result",
          "data": {
            "text/plain": [
              "3"
            ]
          },
          "metadata": {},
          "execution_count": 23
        }
      ]
    },
    {
      "cell_type": "markdown",
      "source": [
        "# Medium-Level Python List\n",
        "Find all even numbers in a list\n",
        "\n",
        "python\n",
        "Copy\n",
        "Edit\n"
      ],
      "metadata": {
        "id": "43rSrAHGyra_"
      }
    },
    {
      "cell_type": "code",
      "source": [
        "my_list=[1,2,3,4,5,6]\n",
        "new_list=[]\n",
        "for i in my_list:\n",
        "  if i%2==0:\n",
        "    new_list.append(i)\n",
        "print(new_list)"
      ],
      "metadata": {
        "colab": {
          "base_uri": "https://localhost:8080/"
        },
        "id": "vi8jLrF85KGE",
        "outputId": "589220b1-1450-4e3c-f31e-2b2e5cc88f37"
      },
      "execution_count": null,
      "outputs": [
        {
          "output_type": "stream",
          "name": "stdout",
          "text": [
            "[2, 4, 6]\n"
          ]
        }
      ]
    },
    {
      "cell_type": "markdown",
      "source": [
        "# 2.Remove duplicates from a list\n",
        "Input: [1, 2, 2, 3, 4, 4]\n",
        "Output: [1, 2, 3, 4]"
      ],
      "metadata": {
        "id": "r5gg6T935ji9"
      }
    },
    {
      "cell_type": "code",
      "source": [
        "my_list=[1,2,2,3,4,4]\n",
        "new_list=[]\n",
        "for i in my_list:\n",
        "  if i not in new_list:\n",
        "    new_list.append(i)\n",
        "print(new_list)\n"
      ],
      "metadata": {
        "colab": {
          "base_uri": "https://localhost:8080/"
        },
        "id": "b1mfUce85q6N",
        "outputId": "b6f76f11-9d19-4871-fbf7-5076b664c976"
      },
      "execution_count": null,
      "outputs": [
        {
          "output_type": "stream",
          "name": "stdout",
          "text": [
            "[1, 2, 3, 4]\n"
          ]
        }
      ]
    },
    {
      "cell_type": "markdown",
      "source": [
        "# 3.Find the second largest element in a list\n",
        "Input: [10, 20, 4, 45, 99]\n",
        "Output: 45"
      ],
      "metadata": {
        "id": "7Z3zrzZi7JuY"
      }
    },
    {
      "cell_type": "code",
      "source": [
        "my_list=[10,20,4,45,99]\n",
        "my_list.sort(reverse=True)\n",
        "print(my_list[1])"
      ],
      "metadata": {
        "colab": {
          "base_uri": "https://localhost:8080/"
        },
        "id": "sHLd6Iaj7Rtd",
        "outputId": "61252174-ca0c-4224-98b4-d4a02c83462c"
      },
      "execution_count": null,
      "outputs": [
        {
          "output_type": "stream",
          "name": "stdout",
          "text": [
            "45\n"
          ]
        }
      ]
    },
    {
      "cell_type": "markdown",
      "source": [
        "# 4.Rotate list to the right by 2 positions\n",
        "Input: [1, 2, 3, 4, 5]\n",
        "Output: [4, 5, 1, 2, 3]"
      ],
      "metadata": {
        "id": "NZX_uymp8QxU"
      }
    },
    {
      "cell_type": "code",
      "source": [
        "my_list=[1,2,3,4,5]\n",
        "n=int(input(\"enter no of positions: \"))\n",
        "rev_list=my_list[-n:]+my_list[:-n]\n",
        "print(rev_list)"
      ],
      "metadata": {
        "colab": {
          "base_uri": "https://localhost:8080/"
        },
        "id": "eJqopPvh8qDJ",
        "outputId": "62068a84-3f6d-4e31-c9e7-39c0d7f087bf"
      },
      "execution_count": null,
      "outputs": [
        {
          "output_type": "stream",
          "name": "stdout",
          "text": [
            "enter no of positions: 1\n",
            "[5, 1, 2, 3, 4]\n"
          ]
        }
      ]
    },
    {
      "cell_type": "markdown",
      "source": [
        "# 5.Find common elements between two lists\n",
        "Input: [1, 2, 3], [2, 3, 4]\n",
        "Output: [2, 3]"
      ],
      "metadata": {
        "id": "i2nlt5ZT_iAs"
      }
    },
    {
      "cell_type": "code",
      "source": [
        "my_list=[1,2,3]\n",
        "my_list2=[2,3,4]\n",
        "new_list=[]\n",
        "for i in my_list:\n",
        "  if i in my_list2:\n",
        "    new_list.append(i)\n",
        "print(new_list)"
      ],
      "metadata": {
        "colab": {
          "base_uri": "https://localhost:8080/"
        },
        "id": "dr9WEW8G_sfW",
        "outputId": "2bce6376-b77a-40ec-a884-d345482824e7"
      },
      "execution_count": null,
      "outputs": [
        {
          "output_type": "stream",
          "name": "stdout",
          "text": [
            "[2, 3]\n"
          ]
        }
      ]
    },
    {
      "cell_type": "markdown",
      "source": [
        "# 6.Flatten a nested list\n",
        "Input: [[1, 2], [3, 4], [5]]\n",
        "Output: [1, 2, 3, 4, 5]"
      ],
      "metadata": {
        "id": "-CPaQ0n-APsH"
      }
    },
    {
      "cell_type": "code",
      "source": [
        "my_list=[[1,2],[3,4], [5]]\n",
        "new_list=[]\n",
        "for sublist in my_list:\n",
        "  for i in sublist:\n",
        "    new_list.append(i)\n",
        "print(new_list)"
      ],
      "metadata": {
        "colab": {
          "base_uri": "https://localhost:8080/"
        },
        "id": "MANRU6CTAW92",
        "outputId": "2d200642-22da-42dc-ac14-f1571e3a8e22"
      },
      "execution_count": null,
      "outputs": [
        {
          "output_type": "stream",
          "name": "stdout",
          "text": [
            "[1, 2, 3, 4, 5]\n"
          ]
        }
      ]
    },
    {
      "cell_type": "code",
      "source": [
        "my_list=[[1,2],[3,4], [5]]\n",
        "new_list=[item for sublist in my_list for item in sublist ]\n",
        "print(new_list)"
      ],
      "metadata": {
        "colab": {
          "base_uri": "https://localhost:8080/"
        },
        "id": "Yb9J5tWsBdOH",
        "outputId": "61a8b70d-4ed2-48b2-b9b8-457f28d138fa"
      },
      "execution_count": null,
      "outputs": [
        {
          "output_type": "stream",
          "name": "stdout",
          "text": [
            "[1, 2, 3, 4, 5]\n"
          ]
        }
      ]
    },
    {
      "cell_type": "markdown",
      "source": [
        "# 7.Count frequency of each element\n",
        "Input: [1, 2, 2, 3, 1]\n",
        "Output: {1: 2, 2: 2, 3: 1}"
      ],
      "metadata": {
        "id": "sVSfqhsrB5aL"
      }
    },
    {
      "cell_type": "code",
      "source": [
        "my_list=[1,2,2,3,1]\n",
        "frequency={}\n",
        "for item in my_list:\n",
        "  if item in frequency:\n",
        "    frequency[item]+=1\n",
        "  else:\n",
        "    frequency[item]=1\n",
        "print(type(frequency))\n",
        "print(frequency)\n",
        "\n"
      ],
      "metadata": {
        "colab": {
          "base_uri": "https://localhost:8080/"
        },
        "id": "Hogvl1fVCFNu",
        "outputId": "08477136-ba5f-4435-e241-596e6eb7f2d5"
      },
      "execution_count": null,
      "outputs": [
        {
          "output_type": "stream",
          "name": "stdout",
          "text": [
            "<class 'dict'>\n",
            "{1: 2, 2: 2, 3: 1}\n"
          ]
        }
      ]
    },
    {
      "cell_type": "markdown",
      "source": [
        "# 8.Check if a list is a palindrome\n",
        "Input: [1, 2, 3, 2, 1]\n",
        "Output: True"
      ],
      "metadata": {
        "id": "wncupU9uFijr"
      }
    },
    {
      "cell_type": "code",
      "source": [
        "my_list=[1,2,3,2,1]\n",
        "new_list=my_list[::-1].copy()\n",
        "if my_list==new_list:\n",
        "  print(\"True\")\n",
        "else:\n",
        "  print(\"NO\")\n",
        "print(new_list)"
      ],
      "metadata": {
        "colab": {
          "base_uri": "https://localhost:8080/"
        },
        "id": "cNEZ37xbFx8o",
        "outputId": "f9bc45ff-f6ce-49bb-b654-de28da16b09f"
      },
      "execution_count": null,
      "outputs": [
        {
          "output_type": "stream",
          "name": "stdout",
          "text": [
            "True\n",
            "[1, 2, 3, 2, 1]\n"
          ]
        }
      ]
    },
    {
      "cell_type": "code",
      "source": [
        "my_list=[1,2,3,2,1]\n",
        "new_list=[]\n",
        "for i in range(len(my_list) -1, -1, -1):\n",
        "  new_list.append(my_list[i])\n",
        "print(new_list)\n",
        "if my_list==new_list:\n",
        "   print(\"True\")\n",
        "else:\n",
        "  print(\"NO\")\n"
      ],
      "metadata": {
        "colab": {
          "base_uri": "https://localhost:8080/"
        },
        "id": "5feGoy2HHyKc",
        "outputId": "6774d570-2a05-4268-b6c4-fa685efd808b"
      },
      "execution_count": null,
      "outputs": [
        {
          "output_type": "stream",
          "name": "stdout",
          "text": [
            "[1, 2, 3, 2, 1]\n",
            "True\n"
          ]
        }
      ]
    }
  ]
}