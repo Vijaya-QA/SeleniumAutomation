{
  "nbformat": 4,
  "nbformat_minor": 0,
  "metadata": {
    "colab": {
      "provenance": [],
      "toc_visible": true,
      "authorship_tag": "ABX9TyPo78PCv4ixHxtgH07h7qBP",
      "include_colab_link": true
    },
    "kernelspec": {
      "name": "python3",
      "display_name": "Python 3"
    },
    "language_info": {
      "name": "python"
    }
  },
  "cells": [
    {
      "cell_type": "markdown",
      "metadata": {
        "id": "view-in-github",
        "colab_type": "text"
      },
      "source": [
        "<a href=\"https://colab.research.google.com/github/Vijaya-QA/SeleniumAutomation/blob/DSML/Python_tuple.ipynb\" target=\"_parent\"><img src=\"https://colab.research.google.com/assets/colab-badge.svg\" alt=\"Open In Colab\"/></a>"
      ]
    },
    {
      "cell_type": "markdown",
      "source": [
        "# New Section\n",
        "# Tuple Problems\n",
        "# Easy level\n",
        "1. Create a tuple and print it"
      ],
      "metadata": {
        "id": "cWtptBuG7mCv"
      }
    },
    {
      "cell_type": "code",
      "source": [
        "my_tuple=(\"apple\", 30,True,2.57)\n",
        "print(my_tuple)"
      ],
      "metadata": {
        "colab": {
          "base_uri": "https://localhost:8080/"
        },
        "id": "WRyA0dox7x3Y",
        "outputId": "3c735154-3103-4324-87c2-27da2a0e6149"
      },
      "execution_count": null,
      "outputs": [
        {
          "output_type": "stream",
          "name": "stdout",
          "text": [
            "('apple', 30, True, 2.57)\n"
          ]
        }
      ]
    },
    {
      "cell_type": "code",
      "source": [
        "my_tuple = tuple((\"apple\", 30,True,2.57)) #using tuple constructor\n",
        "print(my_tuple)"
      ],
      "metadata": {
        "colab": {
          "base_uri": "https://localhost:8080/"
        },
        "id": "6KPhH-mhavhF",
        "outputId": "f3aa322f-6805-4e99-d438-856795a47903"
      },
      "execution_count": null,
      "outputs": [
        {
          "output_type": "stream",
          "name": "stdout",
          "text": [
            "('apple', 30, True, 2.57)\n"
          ]
        }
      ]
    },
    {
      "cell_type": "markdown",
      "source": [
        "# 2. Access elements using indexing\n",
        "Access the 2nd and 4th elements from the tuple"
      ],
      "metadata": {
        "id": "UdPSNufzPfJq"
      }
    },
    {
      "cell_type": "code",
      "source": [
        "my_tuple=(\"apple\", 30, True,43.45)\n",
        "print(my_tuple[1],my_tuple[0])"
      ],
      "metadata": {
        "colab": {
          "base_uri": "https://localhost:8080/"
        },
        "id": "g7UvigBcPqx6",
        "outputId": "897bd9dd-4004-4c68-8bfb-754bac3db863"
      },
      "execution_count": null,
      "outputs": [
        {
          "output_type": "stream",
          "name": "stdout",
          "text": [
            "30 apple\n"
          ]
        }
      ]
    },
    {
      "cell_type": "markdown",
      "source": [
        "# 3. Slicing a tuple\n",
        "Slice the first 3 elements"
      ],
      "metadata": {
        "id": "tGdd51RzQG80"
      }
    },
    {
      "cell_type": "code",
      "source": [
        "my_tuple=(\"apple\", True, 2.45,30)\n",
        "print(my_tuple[:3])"
      ],
      "metadata": {
        "colab": {
          "base_uri": "https://localhost:8080/"
        },
        "id": "c2Qiknf_QN0U",
        "outputId": "766a90b0-92f2-407d-f3f0-02cfa665fc87"
      },
      "execution_count": null,
      "outputs": [
        {
          "output_type": "stream",
          "name": "stdout",
          "text": [
            "('apple', True, 2.45)\n"
          ]
        }
      ]
    },
    {
      "cell_type": "markdown",
      "source": [
        "# 4. Iterate through a tuple using a loop\n",
        "Print each item in the tuple"
      ],
      "metadata": {
        "id": "AySZub36Q8CS"
      }
    },
    {
      "cell_type": "code",
      "source": [
        "my_tuple=(\"apple\", True, 2.45,30)\n",
        "for item in my_tuple:\n",
        "  print(item)"
      ],
      "metadata": {
        "colab": {
          "base_uri": "https://localhost:8080/"
        },
        "id": "43JzXem_RFcJ",
        "outputId": "106288ea-3fb5-410e-afeb-dbb0c25969c5"
      },
      "execution_count": null,
      "outputs": [
        {
          "output_type": "stream",
          "name": "stdout",
          "text": [
            "apple\n",
            "True\n",
            "2.45\n",
            "30\n"
          ]
        }
      ]
    },
    {
      "cell_type": "code",
      "source": [
        "my_tuple=(\"apple\", True, 2.45,30)\n",
        "for i in range(len(my_tuple)):\n",
        "  print(my_tuple[i])"
      ],
      "metadata": {
        "colab": {
          "base_uri": "https://localhost:8080/"
        },
        "id": "xBqVAfoeRSIi",
        "outputId": "0aeefd37-de38-4729-dc5f-3a38a41264a9"
      },
      "execution_count": null,
      "outputs": [
        {
          "output_type": "stream",
          "name": "stdout",
          "text": [
            "apple\n",
            "True\n",
            "2.45\n",
            "30\n"
          ]
        }
      ]
    },
    {
      "cell_type": "markdown",
      "source": [
        "# 5. Tuple unpacking\n",
        "Unpack tuple elements into variables"
      ],
      "metadata": {
        "id": "SjDw7AQfRcV_"
      }
    },
    {
      "cell_type": "code",
      "source": [
        "my_tuple=(\"apple\", 3.4,True, 28)\n",
        "a,b,c,d = my_tuple\n",
        "print(a,b,c,d)"
      ],
      "metadata": {
        "colab": {
          "base_uri": "https://localhost:8080/"
        },
        "id": "7VgEPXYKRkc5",
        "outputId": "8ba77cab-a9f1-4b6e-fbb6-afb460029920"
      },
      "execution_count": null,
      "outputs": [
        {
          "output_type": "stream",
          "name": "stdout",
          "text": [
            "apple 3.4 True 28\n"
          ]
        }
      ]
    },
    {
      "cell_type": "code",
      "source": [
        "my_tuple=(\"apple\",35,True,2.34)\n",
        "a,*c,d = my_tuple\n",
        "print(a,c,d)"
      ],
      "metadata": {
        "colab": {
          "base_uri": "https://localhost:8080/"
        },
        "id": "GJev4sbcR4bE",
        "outputId": "d1c1f44e-3dac-4d58-ea33-dc12fc0974a7"
      },
      "execution_count": null,
      "outputs": [
        {
          "output_type": "stream",
          "name": "stdout",
          "text": [
            "apple [35, True] 2.34\n"
          ]
        }
      ]
    },
    {
      "cell_type": "markdown",
      "source": [
        "# 6. Immutability check\n",
        "Try to change a value in a tuple and see the result"
      ],
      "metadata": {
        "id": "AvehZttuSJTC"
      }
    },
    {
      "cell_type": "code",
      "source": [
        "my_tuple = (\"cherry\", 3,2,True,10)\n",
        "try:\n",
        " my_tuple[1] = 20\n",
        "except TypeError as e:\n",
        " print(\"Error: \", e)\n",
        "print(my_tuple)"
      ],
      "metadata": {
        "colab": {
          "base_uri": "https://localhost:8080/"
        },
        "id": "vx6cTZZJSSvR",
        "outputId": "a2a608b3-3880-49ee-8f2e-2902a0751611"
      },
      "execution_count": null,
      "outputs": [
        {
          "output_type": "stream",
          "name": "stdout",
          "text": [
            "Error:  'tuple' object does not support item assignment\n",
            "('cherry', 3, 2, True, 10)\n"
          ]
        }
      ]
    },
    {
      "cell_type": "markdown",
      "source": [
        "# 7. Use of built-in functions: len(), min(), max(), sum()\n",
        "Apply tuple functions"
      ],
      "metadata": {
        "id": "Nzm5r2pPUVo8"
      }
    },
    {
      "cell_type": "code",
      "source": [
        "my_tuple=(\"banana\", 30,True,3.2)\n",
        "print(\"lenth of tuple: \", len(my_tuple))\n",
        "#print(\"sum of tuple: \", sum(my_tuple))\n",
        "#print(\"min of tuple: \", min(my_tuple))\n",
        "#print(\"min of tuple: \", max(my_tuple))"
      ],
      "metadata": {
        "colab": {
          "base_uri": "https://localhost:8080/"
        },
        "id": "XsWO9wPtUigU",
        "outputId": "b7ae2f2a-8ffd-42e7-817e-80d03f94ccbc"
      },
      "execution_count": null,
      "outputs": [
        {
          "output_type": "stream",
          "name": "stdout",
          "text": [
            "lenth of tuple:  4\n"
          ]
        }
      ]
    },
    {
      "cell_type": "code",
      "source": [
        "my_tuple=(1,0,20,495,-1)\n",
        "print(\"sum of tuple: \", sum(my_tuple))\n",
        "print(\"min of tuple: \", min(my_tuple))\n",
        "print(\"mix of tuple: \", max(my_tuple))"
      ],
      "metadata": {
        "colab": {
          "base_uri": "https://localhost:8080/"
        },
        "id": "icS66cq6Vw5U",
        "outputId": "8611d67f-cd4e-49b4-a2f2-4c700a677799"
      },
      "execution_count": null,
      "outputs": [
        {
          "output_type": "stream",
          "name": "stdout",
          "text": [
            "sum of tuple:  515\n",
            "min of tuple:  -1\n",
            "mix of tuple:  495\n"
          ]
        }
      ]
    },
    {
      "cell_type": "markdown",
      "source": [
        "# 8. Check if an element exists in a tuple\n",
        "Check membership"
      ],
      "metadata": {
        "id": "Mv_nWyMhWB7Z"
      }
    },
    {
      "cell_type": "code",
      "source": [
        "my_tuple=(\"banana\", 30,True,3.2)\n",
        "if 30 in my_tuple:\n",
        "  print(\"yes!, it is\")\n",
        "else:\n",
        "  print(\"NO\")"
      ],
      "metadata": {
        "colab": {
          "base_uri": "https://localhost:8080/"
        },
        "id": "6d7g42DnWJ3i",
        "outputId": "8cb364a5-ba34-4565-bc35-c04ba4a20dc9"
      },
      "execution_count": null,
      "outputs": [
        {
          "output_type": "stream",
          "name": "stdout",
          "text": [
            "yes!, it is\n"
          ]
        }
      ]
    },
    {
      "cell_type": "markdown",
      "source": [
        "# 9. Nested tuple access\n",
        " Access elements from a nested tuple"
      ],
      "metadata": {
        "id": "qZUGOWAJWdkD"
      }
    },
    {
      "cell_type": "code",
      "source": [
        "nested_tuple=(\"banana\", 30, (30,True, \"bee\"), 3.4)\n",
        "for subtuple in nested_tuple:\n",
        "  for item in subtuple:\n",
        "    print(item)"
      ],
      "metadata": {
        "colab": {
          "base_uri": "https://localhost:8080/",
          "height": 297
        },
        "id": "XGQaVmjmW4d9",
        "outputId": "78b9595d-f565-4929-c086-5df5b4b8af05"
      },
      "execution_count": null,
      "outputs": [
        {
          "output_type": "stream",
          "name": "stdout",
          "text": [
            "b\n",
            "a\n",
            "n\n",
            "a\n",
            "n\n",
            "a\n"
          ]
        },
        {
          "output_type": "error",
          "ename": "TypeError",
          "evalue": "'int' object is not iterable",
          "traceback": [
            "\u001b[0;31m---------------------------------------------------------------------------\u001b[0m",
            "\u001b[0;31mTypeError\u001b[0m                                 Traceback (most recent call last)",
            "\u001b[0;32m<ipython-input-26-ca883c4afcc1>\u001b[0m in \u001b[0;36m<cell line: 0>\u001b[0;34m()\u001b[0m\n\u001b[1;32m      1\u001b[0m \u001b[0mnested_tuple\u001b[0m\u001b[0;34m=\u001b[0m\u001b[0;34m(\u001b[0m\u001b[0;34m\"banana\"\u001b[0m\u001b[0;34m,\u001b[0m \u001b[0;36m30\u001b[0m\u001b[0;34m,\u001b[0m \u001b[0;34m(\u001b[0m\u001b[0;36m30\u001b[0m\u001b[0;34m,\u001b[0m\u001b[0;32mTrue\u001b[0m\u001b[0;34m,\u001b[0m \u001b[0;34m\"bee\"\u001b[0m\u001b[0;34m)\u001b[0m\u001b[0;34m,\u001b[0m \u001b[0;36m3.4\u001b[0m\u001b[0;34m)\u001b[0m\u001b[0;34m\u001b[0m\u001b[0;34m\u001b[0m\u001b[0m\n\u001b[1;32m      2\u001b[0m \u001b[0;32mfor\u001b[0m \u001b[0msubtuple\u001b[0m \u001b[0;32min\u001b[0m \u001b[0mnested_tuple\u001b[0m\u001b[0;34m:\u001b[0m\u001b[0;34m\u001b[0m\u001b[0;34m\u001b[0m\u001b[0m\n\u001b[0;32m----> 3\u001b[0;31m   \u001b[0;32mfor\u001b[0m \u001b[0mitem\u001b[0m \u001b[0;32min\u001b[0m \u001b[0msubtuple\u001b[0m\u001b[0;34m:\u001b[0m\u001b[0;34m\u001b[0m\u001b[0;34m\u001b[0m\u001b[0m\n\u001b[0m\u001b[1;32m      4\u001b[0m     \u001b[0mprint\u001b[0m\u001b[0;34m(\u001b[0m\u001b[0mitem\u001b[0m\u001b[0;34m)\u001b[0m\u001b[0;34m\u001b[0m\u001b[0;34m\u001b[0m\u001b[0m\n",
            "\u001b[0;31mTypeError\u001b[0m: 'int' object is not iterable"
          ]
        }
      ]
    },
    {
      "cell_type": "code",
      "source": [
        "nested_tuple=(\"banana\", 30, (30,True, \"bee\"), 3.4)\n",
        "for subtuple in nested_tuple:\n",
        "  if isinstance(subtuple, tuple):\n",
        "    for item in subtuple:\n",
        "       print(item)\n",
        "  else:\n",
        "    print(subtuple)\n"
      ],
      "metadata": {
        "colab": {
          "base_uri": "https://localhost:8080/"
        },
        "id": "Qn7XPeOaZjik",
        "outputId": "62289dc9-628f-4951-9b82-1b79a3be74d7"
      },
      "execution_count": null,
      "outputs": [
        {
          "output_type": "stream",
          "name": "stdout",
          "text": [
            "banana\n",
            "30\n",
            "30\n",
            "True\n",
            "bee\n",
            "3.4\n"
          ]
        }
      ]
    },
    {
      "cell_type": "code",
      "source": [
        "nested_tuple=(\"banana\", 30, (30,True, \"bee\"), 3.4)\n",
        "#print particular item in nested tuple\n",
        "print(nested_tuple[2][1])"
      ],
      "metadata": {
        "colab": {
          "base_uri": "https://localhost:8080/"
        },
        "id": "f8XE8a5vaHMa",
        "outputId": "b55e9ebd-e324-4bef-f1d6-66cafeafdadf"
      },
      "execution_count": null,
      "outputs": [
        {
          "output_type": "stream",
          "name": "stdout",
          "text": [
            "True\n"
          ]
        }
      ]
    },
    {
      "cell_type": "markdown",
      "source": [
        "# 10. Convert list to tuple and vice versa"
      ],
      "metadata": {
        "id": "qtwlI7UXbD7C"
      }
    },
    {
      "cell_type": "code",
      "source": [
        "my_tuple=(\"banana\", 30,True,3.2)\n",
        "#convert tuple to list\n",
        "my_list = list(my_tuple)\n",
        "print(\"List: \", my_list)\n",
        "my_tuple2 = tuple(my_list)\n",
        "print(\"tuple: \", my_tuple2)"
      ],
      "metadata": {
        "colab": {
          "base_uri": "https://localhost:8080/"
        },
        "id": "AfusO_UCbQii",
        "outputId": "b6c7df2d-4666-45dd-b605-466a9baf9d8d"
      },
      "execution_count": null,
      "outputs": [
        {
          "output_type": "stream",
          "name": "stdout",
          "text": [
            "List:  ['banana', 30, True, 3.2]\n",
            "tuple:  ('banana', 30, True, 3.2)\n"
          ]
        }
      ]
    },
    {
      "cell_type": "markdown",
      "source": [
        "# Medium-level Python tuple\n",
        "# 1. Reverse a tuple using slicing\n"
      ],
      "metadata": {
        "id": "Bttvq1Vub_Q6"
      }
    },
    {
      "cell_type": "code",
      "source": [
        "my_tuple = (\"banana\", 35, True, 2.3)\n",
        "rev_tuple = my_tuple[::-1]\n",
        "print(rev_tuple)"
      ],
      "metadata": {
        "colab": {
          "base_uri": "https://localhost:8080/"
        },
        "id": "ti_ZRSNdcfSG",
        "outputId": "a9d3825e-d349-460e-d29e-c06cb44b7ff0"
      },
      "execution_count": null,
      "outputs": [
        {
          "output_type": "stream",
          "name": "stdout",
          "text": [
            "(2.3, True, 35, 'banana')\n"
          ]
        }
      ]
    },
    {
      "cell_type": "code",
      "source": [
        "# looping through tuple in reverse order\n",
        "my_tuple = (\"banana\", 35, True, 2.3)\n",
        "my_list = list(my_tuple)\n",
        "new_list = []\n",
        "for i in range(len(my_list)-1,-1,-1):\n",
        "  new_list.append(my_list[i])\n",
        "rev_tuple = tuple(new_list)\n",
        "print(rev_tuple)"
      ],
      "metadata": {
        "colab": {
          "base_uri": "https://localhost:8080/"
        },
        "id": "V8rmn06Cc8uz",
        "outputId": "bf26a88e-999d-4a08-833b-e306b1b0f0a2"
      },
      "execution_count": null,
      "outputs": [
        {
          "output_type": "stream",
          "name": "stdout",
          "text": [
            "(2.3, True, 35, 'banana')\n"
          ]
        }
      ]
    },
    {
      "cell_type": "markdown",
      "source": [
        "# 2. Find the index of an element"
      ],
      "metadata": {
        "id": "ueKTtHVZeFMV"
      }
    },
    {
      "cell_type": "code",
      "source": [
        "my_tuple = (\"banana\", 35, True, 2.3)\n",
        "print(my_tuple.index(35))"
      ],
      "metadata": {
        "colab": {
          "base_uri": "https://localhost:8080/"
        },
        "id": "Eg7AJEz3eJbA",
        "outputId": "ba48f1d2-591a-4ff1-e271-9dee2986731b"
      },
      "execution_count": null,
      "outputs": [
        {
          "output_type": "stream",
          "name": "stdout",
          "text": [
            "1\n"
          ]
        }
      ]
    },
    {
      "cell_type": "markdown",
      "source": [
        "# 3. Count the occurrences of an element"
      ],
      "metadata": {
        "id": "5YhTWc1IfxuM"
      }
    },
    {
      "cell_type": "code",
      "source": [
        "tpl = (1, 2, 2, 3, 2, 4)\n",
        "print(tpl.count(2))"
      ],
      "metadata": {
        "colab": {
          "base_uri": "https://localhost:8080/"
        },
        "id": "M1PkVQ3kf2B6",
        "outputId": "a18f58c7-df93-4856-aff8-62b4145d8cf1"
      },
      "execution_count": null,
      "outputs": [
        {
          "output_type": "stream",
          "name": "stdout",
          "text": [
            "3\n"
          ]
        }
      ]
    },
    {
      "cell_type": "code",
      "source": [
        "my_tuple=(\"apple\", 2, \"apple\", 3.4, \"apple\")\n",
        "print(my_tuple.count(\"apple\"))"
      ],
      "metadata": {
        "colab": {
          "base_uri": "https://localhost:8080/"
        },
        "id": "eKfvTbcSf-Il",
        "outputId": "2cfc4ef1-574e-439e-d5c0-d4bc079eb2ae"
      },
      "execution_count": null,
      "outputs": [
        {
          "output_type": "stream",
          "name": "stdout",
          "text": [
            "3\n"
          ]
        }
      ]
    },
    {
      "cell_type": "markdown",
      "source": [
        "# 4. Find the length of the longest string in a tuple\n"
      ],
      "metadata": {
        "id": "SU5kL8f-gLxc"
      }
    },
    {
      "cell_type": "code",
      "source": [
        "# Given a tuple of strings, find the longest one\n",
        "my_tuple = (\"apple\", \"banana\", \"grape\", \"kiwi\")\n",
        "longest=\"\"\n",
        "max_len=0\n",
        "for item in my_tuple:\n",
        "  if len(item) > max_len:\n",
        "    max_len=len(item)\n",
        "    longest=item\n",
        "print(item)\n",
        "print(max_len)\n"
      ],
      "metadata": {
        "colab": {
          "base_uri": "https://localhost:8080/",
          "height": 211
        },
        "id": "1Cv6wbaaguRI",
        "outputId": "210fa090-8165-4746-d7ce-17f0c0770157"
      },
      "execution_count": null,
      "outputs": [
        {
          "output_type": "error",
          "ename": "TypeError",
          "evalue": "'int' object is not callable",
          "traceback": [
            "\u001b[0;31m---------------------------------------------------------------------------\u001b[0m",
            "\u001b[0;31mTypeError\u001b[0m                                 Traceback (most recent call last)",
            "\u001b[0;32m<ipython-input-46-95a1c3807dc9>\u001b[0m in \u001b[0;36m<cell line: 0>\u001b[0;34m()\u001b[0m\n\u001b[1;32m      4\u001b[0m \u001b[0mmax_len\u001b[0m\u001b[0;34m=\u001b[0m\u001b[0;36m0\u001b[0m\u001b[0;34m\u001b[0m\u001b[0;34m\u001b[0m\u001b[0m\n\u001b[1;32m      5\u001b[0m \u001b[0;32mfor\u001b[0m \u001b[0mitem\u001b[0m \u001b[0;32min\u001b[0m \u001b[0mmy_tuple\u001b[0m\u001b[0;34m:\u001b[0m\u001b[0;34m\u001b[0m\u001b[0;34m\u001b[0m\u001b[0m\n\u001b[0;32m----> 6\u001b[0;31m   \u001b[0;32mif\u001b[0m \u001b[0mlen\u001b[0m\u001b[0;34m(\u001b[0m\u001b[0mitem\u001b[0m\u001b[0;34m)\u001b[0m \u001b[0;34m>\u001b[0m \u001b[0mmax_len\u001b[0m\u001b[0;34m:\u001b[0m\u001b[0;34m\u001b[0m\u001b[0;34m\u001b[0m\u001b[0m\n\u001b[0m\u001b[1;32m      7\u001b[0m     \u001b[0mmax_len\u001b[0m\u001b[0;34m=\u001b[0m\u001b[0mlen\u001b[0m\u001b[0;34m(\u001b[0m\u001b[0mitem\u001b[0m\u001b[0;34m)\u001b[0m\u001b[0;34m\u001b[0m\u001b[0;34m\u001b[0m\u001b[0m\n\u001b[1;32m      8\u001b[0m     \u001b[0mlongest\u001b[0m\u001b[0;34m=\u001b[0m\u001b[0mitem\u001b[0m\u001b[0;34m\u001b[0m\u001b[0;34m\u001b[0m\u001b[0m\n",
            "\u001b[0;31mTypeError\u001b[0m: 'int' object is not callable"
          ]
        }
      ]
    },
    {
      "cell_type": "code",
      "source": [
        "my_tuple = (\"apple\", \"banana\", \"grape\", \"kiwi\")\n",
        "\n",
        "longest = \"\"\n",
        "max_length = 0\n",
        "\n",
        "for item in my_tuple:\n",
        "    if len(item) > max_length:\n",
        "        max_length = len(item)\n",
        "        longest = item\n",
        "\n",
        "print(\"Longest word:\", longest)\n",
        "print(\"Length:\", max_length)"
      ],
      "metadata": {
        "id": "hgm8_N7qmGsl",
        "outputId": "9a014f7f-b1fa-4b81-96e3-0d9bd2ce1ff6",
        "colab": {
          "base_uri": "https://localhost:8080/",
          "height": 211
        }
      },
      "execution_count": null,
      "outputs": [
        {
          "output_type": "error",
          "ename": "TypeError",
          "evalue": "'int' object is not callable",
          "traceback": [
            "\u001b[0;31m---------------------------------------------------------------------------\u001b[0m",
            "\u001b[0;31mTypeError\u001b[0m                                 Traceback (most recent call last)",
            "\u001b[0;32m<ipython-input-47-16c8348c485c>\u001b[0m in \u001b[0;36m<cell line: 0>\u001b[0;34m()\u001b[0m\n\u001b[1;32m      5\u001b[0m \u001b[0;34m\u001b[0m\u001b[0m\n\u001b[1;32m      6\u001b[0m \u001b[0;32mfor\u001b[0m \u001b[0mitem\u001b[0m \u001b[0;32min\u001b[0m \u001b[0mmy_tuple\u001b[0m\u001b[0;34m:\u001b[0m\u001b[0;34m\u001b[0m\u001b[0;34m\u001b[0m\u001b[0m\n\u001b[0;32m----> 7\u001b[0;31m     \u001b[0;32mif\u001b[0m \u001b[0mlen\u001b[0m\u001b[0;34m(\u001b[0m\u001b[0mitem\u001b[0m\u001b[0;34m)\u001b[0m \u001b[0;34m>\u001b[0m \u001b[0mmax_length\u001b[0m\u001b[0;34m:\u001b[0m\u001b[0;34m\u001b[0m\u001b[0;34m\u001b[0m\u001b[0m\n\u001b[0m\u001b[1;32m      8\u001b[0m         \u001b[0mmax_length\u001b[0m \u001b[0;34m=\u001b[0m \u001b[0mlen\u001b[0m\u001b[0;34m(\u001b[0m\u001b[0mitem\u001b[0m\u001b[0;34m)\u001b[0m\u001b[0;34m\u001b[0m\u001b[0;34m\u001b[0m\u001b[0m\n\u001b[1;32m      9\u001b[0m         \u001b[0mlongest\u001b[0m \u001b[0;34m=\u001b[0m \u001b[0mitem\u001b[0m\u001b[0;34m\u001b[0m\u001b[0;34m\u001b[0m\u001b[0m\n",
            "\u001b[0;31mTypeError\u001b[0m: 'int' object is not callable"
          ]
        }
      ]
    }
  ]
}