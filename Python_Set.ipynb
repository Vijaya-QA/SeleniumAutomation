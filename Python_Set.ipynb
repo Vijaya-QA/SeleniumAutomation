{
  "nbformat": 4,
  "nbformat_minor": 0,
  "metadata": {
    "colab": {
      "provenance": [],
      "toc_visible": true,
      "authorship_tag": "ABX9TyPyRzBCAeKj1sdQYqR2dvcm",
      "include_colab_link": true
    },
    "kernelspec": {
      "name": "python3",
      "display_name": "Python 3"
    },
    "language_info": {
      "name": "python"
    }
  },
  "cells": [
    {
      "cell_type": "markdown",
      "metadata": {
        "id": "view-in-github",
        "colab_type": "text"
      },
      "source": [
        "<a href=\"https://colab.research.google.com/github/Vijaya-QA/SeleniumAutomation/blob/DSML/Python_Set.ipynb\" target=\"_parent\"><img src=\"https://colab.research.google.com/assets/colab-badge.svg\" alt=\"Open In Colab\"/></a>"
      ]
    },
    {
      "cell_type": "markdown",
      "source": [
        "# Easy Level\n",
        "# 1. Create a Set"
      ],
      "metadata": {
        "id": "2Ts7aToR0O2B"
      }
    },
    {
      "cell_type": "code",
      "source": [
        "my_set={\"apple\", 2,True,4.3}\n",
        "print(my_set)"
      ],
      "metadata": {
        "colab": {
          "base_uri": "https://localhost:8080/"
        },
        "id": "u6pNGrO4XeFl",
        "outputId": "1f1ee297-8b43-4d2a-dfa8-517ec9333322"
      },
      "execution_count": 1,
      "outputs": [
        {
          "output_type": "stream",
          "name": "stdout",
          "text": [
            "{True, 2, 'apple', 4.3}\n"
          ]
        }
      ]
    },
    {
      "cell_type": "markdown",
      "source": [
        "# 2. Add an Element"
      ],
      "metadata": {
        "id": "g5Jh8f5zXp3U"
      }
    },
    {
      "cell_type": "code",
      "source": [
        "my_set.add(\"orange\")\n",
        "print(my_set)"
      ],
      "metadata": {
        "colab": {
          "base_uri": "https://localhost:8080/"
        },
        "id": "nDwcYTAeXwdE",
        "outputId": "8ac7b1ca-92c3-417f-dc66-5793f9b814f2"
      },
      "execution_count": 2,
      "outputs": [
        {
          "output_type": "stream",
          "name": "stdout",
          "text": [
            "{True, 2, 4.3, 'apple', 'orange'}\n"
          ]
        }
      ]
    },
    {
      "cell_type": "code",
      "source": [
        "my_set.add(\"orange\")\n",
        "print(my_set)"
      ],
      "metadata": {
        "colab": {
          "base_uri": "https://localhost:8080/"
        },
        "id": "r-KdNjs_YGjE",
        "outputId": "0b2c0f42-6d41-46dd-ac83-ebf57b619c7b"
      },
      "execution_count": 4,
      "outputs": [
        {
          "output_type": "stream",
          "name": "stdout",
          "text": [
            "{True, 2, 4.3, 'apple', 'orange'}\n"
          ]
        }
      ]
    },
    {
      "cell_type": "code",
      "source": [
        "my_set.update(my_set)\n",
        "print(my_set)"
      ],
      "metadata": {
        "colab": {
          "base_uri": "https://localhost:8080/"
        },
        "id": "K-MF4GVdYS3t",
        "outputId": "ab988311-bd8a-41dc-f31a-f9151a415f06"
      },
      "execution_count": 5,
      "outputs": [
        {
          "output_type": "stream",
          "name": "stdout",
          "text": [
            "{True, 2, 4.3, 'apple', 'orange'}\n"
          ]
        }
      ]
    },
    {
      "cell_type": "code",
      "source": [
        "my_set.update(\"banana\") #update() is user to add another set to current set. not single item to add\n",
        "print(my_set)"
      ],
      "metadata": {
        "colab": {
          "base_uri": "https://localhost:8080/"
        },
        "id": "AB0bD-RhYcGs",
        "outputId": "0054b476-3f3b-4065-ff6b-4fce6e62b5b7"
      },
      "execution_count": 8,
      "outputs": [
        {
          "output_type": "stream",
          "name": "stdout",
          "text": [
            "{True, 2, 4.3, 'b', 'apple', 'a', 'orange', 'n'}\n"
          ]
        }
      ]
    },
    {
      "cell_type": "code",
      "source": [
        "myset={\"apple\", 4, True}\n",
        "myset.update(my_set)\n",
        "print(myset)"
      ],
      "metadata": {
        "colab": {
          "base_uri": "https://localhost:8080/"
        },
        "id": "qcS_3nGlYz7f",
        "outputId": "6a2d6211-6a9f-4189-d607-9cd0451f3fbf"
      },
      "execution_count": 10,
      "outputs": [
        {
          "output_type": "stream",
          "name": "stdout",
          "text": [
            "{True, 2, 4, 4.3, 'b', 'apple', 'a', 'orange', 'n'}\n"
          ]
        }
      ]
    },
    {
      "cell_type": "markdown",
      "source": [
        "# 3. Remove an Element"
      ],
      "metadata": {
        "id": "ivL2s2OXZY6d"
      }
    },
    {
      "cell_type": "code",
      "source": [
        "my_set={\"banana\", 3, True, 3.4}\n",
        "my_set.remove(3)\n",
        "print(my_set)"
      ],
      "metadata": {
        "colab": {
          "base_uri": "https://localhost:8080/"
        },
        "id": "icHaHy32Zc3X",
        "outputId": "89ab9a8a-54d0-4896-bde7-01159ad429a6"
      },
      "execution_count": 11,
      "outputs": [
        {
          "output_type": "stream",
          "name": "stdout",
          "text": [
            "{True, 3.4, 'banana'}\n"
          ]
        }
      ]
    },
    {
      "cell_type": "code",
      "source": [
        "from sre_constants import error\n",
        "my_set={\"banana\", 4, True, 3.4}\n",
        "try:\n",
        " my_set.remove(3) #remove() throws error if item is not present in set\n",
        "except KeyError as e:\n",
        "  print(\"Error:\",e)\n",
        "print(my_set)"
      ],
      "metadata": {
        "colab": {
          "base_uri": "https://localhost:8080/"
        },
        "id": "Rhh1sJSfZv9j",
        "outputId": "05fd7998-8079-4300-cbf4-6eba4b0e3b72"
      },
      "execution_count": 15,
      "outputs": [
        {
          "output_type": "stream",
          "name": "stdout",
          "text": [
            "Error: 3\n",
            "{True, 3.4, 4, 'banana'}\n"
          ]
        }
      ]
    },
    {
      "cell_type": "code",
      "source": [
        "my_set={\"banana\", 4, True, 3.4}\n",
        "my_set.discard(3) #won't throws an error if item not present in set\n",
        "print(my_set)"
      ],
      "metadata": {
        "colab": {
          "base_uri": "https://localhost:8080/"
        },
        "id": "NveYXAVKa03r",
        "outputId": "e16eb98e-151e-4302-c7fa-6fee4b5de292"
      },
      "execution_count": 17,
      "outputs": [
        {
          "output_type": "stream",
          "name": "stdout",
          "text": [
            "{True, 3.4, 4, 'banana'}\n"
          ]
        }
      ]
    },
    {
      "cell_type": "code",
      "source": [
        "my_set={\"banana\",3, 4, True, 3.4, }\n",
        "removed_item = my_set.pop()  #removes random item and it return value removed from set\n",
        "print(removed_item)\n",
        "print(my_set)"
      ],
      "metadata": {
        "colab": {
          "base_uri": "https://localhost:8080/"
        },
        "id": "zNQTXhpybBJb",
        "outputId": "4c87699f-8850-4337-b608-53043aa1e74e"
      },
      "execution_count": 18,
      "outputs": [
        {
          "output_type": "stream",
          "name": "stdout",
          "text": [
            "True\n",
            "{3.4, 3, 4, 'banana'}\n"
          ]
        }
      ]
    },
    {
      "cell_type": "markdown",
      "source": [
        "# 4. Set Membership\n",
        "in, not in"
      ],
      "metadata": {
        "id": "LjzqygbEbfgl"
      }
    },
    {
      "cell_type": "code",
      "source": [
        "my_set={\"banana\",3, 4, True, 3.4, }\n",
        "if \"banana\" in my_set:\n",
        "  print(\"Yes\")\n",
        "else:\n",
        "  print(\"NO\")"
      ],
      "metadata": {
        "colab": {
          "base_uri": "https://localhost:8080/"
        },
        "id": "XfT-UJT4bjRk",
        "outputId": "8eb0de89-1f7e-4348-cd28-c9b5d002c981"
      },
      "execution_count": 19,
      "outputs": [
        {
          "output_type": "stream",
          "name": "stdout",
          "text": [
            "Yes\n"
          ]
        }
      ]
    },
    {
      "cell_type": "code",
      "source": [
        "my_set={\"banana\",3, 4, True, 3.4, }\n",
        "if \"banana\" not in my_set:\n",
        "  print(\"Yes\")\n",
        "else:\n",
        "  print(\"NO\")"
      ],
      "metadata": {
        "colab": {
          "base_uri": "https://localhost:8080/"
        },
        "id": "CcLvdvHbb-Kl",
        "outputId": "6543ed33-ce0f-495d-eb44-2f346f1224bd"
      },
      "execution_count": 20,
      "outputs": [
        {
          "output_type": "stream",
          "name": "stdout",
          "text": [
            "NO\n"
          ]
        }
      ]
    },
    {
      "cell_type": "markdown",
      "source": [
        "# 5. Set Length"
      ],
      "metadata": {
        "id": "O85tJVnJcQmu"
      }
    },
    {
      "cell_type": "code",
      "source": [
        "my_set={\"banana\",3, 4, True, 3.4, }\n",
        "print(len(my_set))"
      ],
      "metadata": {
        "colab": {
          "base_uri": "https://localhost:8080/"
        },
        "id": "OB2KC5m8cUIF",
        "outputId": "4b5f0914-9804-4024-fe70-bf3bdfddaf68"
      },
      "execution_count": 21,
      "outputs": [
        {
          "output_type": "stream",
          "name": "stdout",
          "text": [
            "5\n"
          ]
        }
      ]
    },
    {
      "cell_type": "markdown",
      "source": [
        "# 6. Set Union\n",
        "set1 = {1, 2, 3}  \n",
        "set2 = {3, 4, 5}"
      ],
      "metadata": {
        "id": "HRltYa4adbLM"
      }
    },
    {
      "cell_type": "code",
      "source": [
        "set1 = {1, 2, 3}\n",
        "set2 = {3, 4, 5}\n",
        "set3 = set1.union(set2)\n",
        "print(set3)"
      ],
      "metadata": {
        "colab": {
          "base_uri": "https://localhost:8080/"
        },
        "id": "j81eiMISdcng",
        "outputId": "a67fbce1-4aa4-4af1-944d-b45df747ff8c"
      },
      "execution_count": 23,
      "outputs": [
        {
          "output_type": "stream",
          "name": "stdout",
          "text": [
            "{1, 2, 3, 4, 5}\n"
          ]
        }
      ]
    },
    {
      "cell_type": "code",
      "source": [
        "set1 = {1, 2, 3}\n",
        "set2 = {3, 4, 5}\n",
        "set3 = set1 | set2\n",
        "print(set3)"
      ],
      "metadata": {
        "colab": {
          "base_uri": "https://localhost:8080/"
        },
        "id": "NNoLRS8pd117",
        "outputId": "a681998e-1915-4e9c-c11e-6e9ef0b5bce5"
      },
      "execution_count": 24,
      "outputs": [
        {
          "output_type": "stream",
          "name": "stdout",
          "text": [
            "{1, 2, 3, 4, 5}\n"
          ]
        }
      ]
    },
    {
      "cell_type": "markdown",
      "source": [
        "# 7. Set Intersection"
      ],
      "metadata": {
        "id": "qmfvhYbRd85e"
      }
    },
    {
      "cell_type": "code",
      "source": [
        "set1 = {1, 2, 3}\n",
        "set2 = {3, 4, 5}\n",
        "set3 = set1.intersection(set2)\n",
        "print(set3)"
      ],
      "metadata": {
        "colab": {
          "base_uri": "https://localhost:8080/"
        },
        "id": "OVyZM3SleEFO",
        "outputId": "655c235f-9419-4c13-a71d-892a11852681"
      },
      "execution_count": 26,
      "outputs": [
        {
          "output_type": "stream",
          "name": "stdout",
          "text": [
            "{3}\n"
          ]
        }
      ]
    },
    {
      "cell_type": "code",
      "source": [
        "set1 = {1, 2, 3}\n",
        "set2 = {3, 4, 5}\n",
        "set3 = set1 & set2\n",
        "print(set3)"
      ],
      "metadata": {
        "colab": {
          "base_uri": "https://localhost:8080/"
        },
        "id": "O3DHCQBaeMB8",
        "outputId": "92837b2d-87a9-494c-ea45-8d1cd1354e5d"
      },
      "execution_count": 28,
      "outputs": [
        {
          "output_type": "stream",
          "name": "stdout",
          "text": [
            "{3}\n"
          ]
        }
      ]
    },
    {
      "cell_type": "markdown",
      "source": [
        "# 8. Set Difference"
      ],
      "metadata": {
        "id": "4KJ4Xvxyebe_"
      }
    },
    {
      "cell_type": "code",
      "source": [
        "set1 = {1, 2, 3}\n",
        "set2 = {3, 4, 5}\n",
        "set3 = set1.difference(set2)\n",
        "print(set3)"
      ],
      "metadata": {
        "colab": {
          "base_uri": "https://localhost:8080/"
        },
        "id": "Dg64U0fEee6M",
        "outputId": "ad782cfc-dd08-4bba-82ae-8fe2605499c5"
      },
      "execution_count": 29,
      "outputs": [
        {
          "output_type": "stream",
          "name": "stdout",
          "text": [
            "{1, 2}\n"
          ]
        }
      ]
    },
    {
      "cell_type": "code",
      "source": [
        "set1 = {1, 2, 3}\n",
        "set2 = {3, 4, 5}\n",
        "set3 = set1-set2\n",
        "print(set3)"
      ],
      "metadata": {
        "colab": {
          "base_uri": "https://localhost:8080/"
        },
        "id": "SQvVrn7kerR2",
        "outputId": "f4702123-1486-4ca5-c59e-3ba5831c39b5"
      },
      "execution_count": 32,
      "outputs": [
        {
          "output_type": "stream",
          "name": "stdout",
          "text": [
            "{1, 2}\n"
          ]
        }
      ]
    },
    {
      "cell_type": "markdown",
      "source": [
        "# 9. Convert List to Set"
      ],
      "metadata": {
        "id": "TU6z-S0Ne34U"
      }
    },
    {
      "cell_type": "code",
      "source": [
        "my_list=[1, 2, 2, 3, 4, 4]\n",
        "my_set=set(my_list)\n",
        "print(my_set)"
      ],
      "metadata": {
        "colab": {
          "base_uri": "https://localhost:8080/"
        },
        "id": "5NtSui17e8ve",
        "outputId": "e76cd68d-8904-4461-f886-ff348348dcf7"
      },
      "execution_count": 34,
      "outputs": [
        {
          "output_type": "stream",
          "name": "stdout",
          "text": [
            "{1, 2, 3, 4}\n"
          ]
        }
      ]
    },
    {
      "cell_type": "markdown",
      "source": [
        "# 10. Clear the Set"
      ],
      "metadata": {
        "id": "Wu4uY06NfOkW"
      }
    },
    {
      "cell_type": "code",
      "source": [
        "set1 = {1, 2, 3}\n",
        "set1.clear()\n",
        "print(set1)"
      ],
      "metadata": {
        "colab": {
          "base_uri": "https://localhost:8080/"
        },
        "id": "WVYbFFqIfUt0",
        "outputId": "138fdc76-966d-40f9-89fd-0501fd025328"
      },
      "execution_count": 36,
      "outputs": [
        {
          "output_type": "stream",
          "name": "stdout",
          "text": [
            "set()\n"
          ]
        }
      ]
    },
    {
      "cell_type": "markdown",
      "source": [
        "# Medium-Level Questions\n",
        "# Q1. Find Common Elements Between Two Lists\n",
        "Write a program that takes two lists and prints the common elements using sets."
      ],
      "metadata": {
        "id": "1WziGT-uhggN"
      }
    },
    {
      "cell_type": "code",
      "source": [
        "list1 = [1, 2, 3, 4, 5]\n",
        "list2 = [4, 5, 6, 7, 8]\n",
        "set1 = set(list1)\n",
        "set2 = set(list2)\n",
        "set3 = set1.intersection(set2)\n",
        "print(set3)"
      ],
      "metadata": {
        "colab": {
          "base_uri": "https://localhost:8080/"
        },
        "id": "ht_YFMDuh9c1",
        "outputId": "d50258fa-6339-44da-d360-78f200014e29"
      },
      "execution_count": 37,
      "outputs": [
        {
          "output_type": "stream",
          "name": "stdout",
          "text": [
            "{4, 5}\n"
          ]
        }
      ]
    },
    {
      "cell_type": "markdown",
      "source": [
        "# Q2. Remove Duplicate Characters From String\n",
        "Given a string, remove duplicate characters using a set and print the result.\n",
        "Example:\n",
        "Input: \"programming\"\n",
        "Output: \"progamin\" (order may vary)"
      ],
      "metadata": {
        "id": "US-GrsHkiczN"
      }
    },
    {
      "cell_type": "code",
      "source": [
        "word = \"programming\"\n",
        "set1 = set(word)\n",
        "print(set1)\n",
        "new_word = \"\"\n",
        "for letter in set1:\n",
        "  new_word+=letter\n",
        "print(new_word)\n"
      ],
      "metadata": {
        "colab": {
          "base_uri": "https://localhost:8080/"
        },
        "id": "T42AvAFUisdz",
        "outputId": "d9e8f068-f44d-4069-d9de-5eda9d631c1e"
      },
      "execution_count": 44,
      "outputs": [
        {
          "output_type": "stream",
          "name": "stdout",
          "text": [
            "{'r', 'g', 'p', 'a', 'm', 'i', 'o', 'n'}\n",
            "rgpamion\n"
          ]
        }
      ]
    },
    {
      "cell_type": "markdown",
      "source": [
        "# Q3. Vowels in a Word\n",
        "Write a program that prints all vowels present in a given word using set intersection.\n",
        "Example:\n",
        "Input: \"education\"\n",
        "Output: {'e', 'u', 'a', 'i', 'o'}"
      ],
      "metadata": {
        "id": "OgRqav72jwZi"
      }
    },
    {
      "cell_type": "code",
      "source": [
        "word = \"Education\"\n",
        "vowels=\"AEIOUaeiou\"\n",
        "set1 = set()\n",
        "for letter in word:\n",
        "  if letter in vowels:\n",
        "    set1.add(letter)\n",
        "print(set1)\n"
      ],
      "metadata": {
        "colab": {
          "base_uri": "https://localhost:8080/"
        },
        "id": "vlMEQGmLj-dW",
        "outputId": "c3df6cc4-6bd3-4df8-d98d-2cb9d640955c"
      },
      "execution_count": 46,
      "outputs": [
        {
          "output_type": "stream",
          "name": "stdout",
          "text": [
            "{'E', 'u', 'a', 'i', 'o'}\n"
          ]
        }
      ]
    },
    {
      "cell_type": "markdown",
      "source": [
        "# Q4. Check for Disjoint Sets\n",
        "Given two sets, check whether they have no elements in common.\n",
        "A = {1, 2, 3}  \n",
        "B = {4, 5, 6}"
      ],
      "metadata": {
        "id": "ITkArWUVkrx8"
      }
    },
    {
      "cell_type": "code",
      "source": [
        "A = {1, 2, 3}\n",
        "B = {4, 5, 6}\n",
        "for element in A:\n",
        "  if element in B:\n",
        "     print(\"both have common elements\")\n",
        "else:\n",
        "    print(\"both are disjoint sets\")"
      ],
      "metadata": {
        "colab": {
          "base_uri": "https://localhost:8080/"
        },
        "id": "CQdoBZuNk97D",
        "outputId": "697469d8-5613-44a0-c4d3-b69bc62844ac"
      },
      "execution_count": 61,
      "outputs": [
        {
          "output_type": "stream",
          "name": "stdout",
          "text": [
            "both are disjoint sets\n"
          ]
        }
      ]
    },
    {
      "cell_type": "markdown",
      "source": [
        "# Q5. Unique Words in a Sentence\n",
        "Write a program that takes a sentence from the user and prints the number of unique words.\n",
        "Example:\n",
        "Input: \"This is a test. This test is only a test.\"\n",
        "(First remove punctuation, then split into words and use a set.)"
      ],
      "metadata": {
        "id": "8_0n1tVemtUP"
      }
    },
    {
      "cell_type": "code",
      "source": [
        "n = input(\"Enter a sentence: \")\n",
        "words = n.split(\" \")\n",
        "set1 = set(words)\n",
        "print(set1)\n",
        "print(len(set1))"
      ],
      "metadata": {
        "colab": {
          "base_uri": "https://localhost:8080/"
        },
        "id": "6fTCvniRm3JE",
        "outputId": "05a07468-40c6-4ff3-9083-fd6d0e3b2c50"
      },
      "execution_count": 68,
      "outputs": [
        {
          "output_type": "stream",
          "name": "stdout",
          "text": [
            "Enter a sentence: This is a test. This test is only a test\n",
            "{'This', 'is', 'test', 'a', 'test.', 'only'}\n",
            "6\n"
          ]
        }
      ]
    },
    {
      "cell_type": "code",
      "source": [
        "import string\n",
        "n = input(\"Enter a sentence: \")\n",
        "sentence_no_punctuation = \"\".join([char for char in n if char not in string.punctuation])\n",
        "print(sentence_no_punctuation)\n",
        "words = sentence_no_punctuation.strip().split(\" \")\n",
        "set1 = set(words)\n",
        "print(set1)\n",
        "print(len(set1))"
      ],
      "metadata": {
        "colab": {
          "base_uri": "https://localhost:8080/"
        },
        "id": "VNuRGlCUsgJn",
        "outputId": "bd6f858b-042a-4475-b10e-81275d0116ef"
      },
      "execution_count": 72,
      "outputs": [
        {
          "output_type": "stream",
          "name": "stdout",
          "text": [
            "Enter a sentence:  \"This is a test. This test is only a test.\"\n",
            " This is a test This test is only a test\n",
            "{'This', 'is', 'test', 'a', 'only'}\n",
            "5\n"
          ]
        }
      ]
    },
    {
      "cell_type": "markdown",
      "source": [
        "# Q6. Symmetric Difference of Two Sets\n",
        "Write a program to find the symmetric difference of two sets."
      ],
      "metadata": {
        "id": "yvQRnKFDuPvZ"
      }
    },
    {
      "cell_type": "code",
      "source": [
        "A = {1, 2, 3, 4}\n",
        "B = {3, 4, 5, 6}\n",
        "c = A.symmetric_difference(B)\n",
        "print(c)"
      ],
      "metadata": {
        "colab": {
          "base_uri": "https://localhost:8080/"
        },
        "id": "pxtN5OCGua_b",
        "outputId": "41d97c11-4a86-4821-eba3-7c9a8cc3a914"
      },
      "execution_count": 73,
      "outputs": [
        {
          "output_type": "stream",
          "name": "stdout",
          "text": [
            "{1, 2, 5, 6}\n"
          ]
        }
      ]
    },
    {
      "cell_type": "markdown",
      "source": [
        "# Q7. Find Elements Present in Exactly One Set\n",
        "Given three sets, print the elements that are present in only one of them.\n",
        "Only A → 1, 2 (not in B or C)\n",
        "\n",
        "Only B → 4 (not in A or C)\n",
        "\n",
        "Only C → 6, 7 (not in A or B)\n",
        "\n",
        "3 is in A and B → Not allowed\n",
        "\n",
        "5 is in B and C → Not allowed\n",
        "\n"
      ],
      "metadata": {
        "id": "9VvZ78jeuiZS"
      }
    },
    {
      "cell_type": "code",
      "source": [
        "A = {1, 2, 3}\n",
        "B = {3, 4, 5}\n",
        "C = {5, 6, 7}\n",
        "only_A = A - (B|C)\n",
        "only_B = B - (A|C)\n",
        "only_C = C- (A|B)\n",
        "result = only_A|only_B|only_C\n",
        "print(result)\n"
      ],
      "metadata": {
        "colab": {
          "base_uri": "https://localhost:8080/"
        },
        "id": "Fsc7rr1Iuvqp",
        "outputId": "22575e77-39cf-4562-b124-1e1e0293a920"
      },
      "execution_count": 82,
      "outputs": [
        {
          "output_type": "stream",
          "name": "stdout",
          "text": [
            "{1, 2, 4, 6, 7}\n"
          ]
        }
      ]
    },
    {
      "cell_type": "markdown",
      "source": [
        "# Q8. Convert List of Tuples to Unique Set of Values\n",
        "data = [(1, 2), (3, 4), (1, 5)]\n"
      ],
      "metadata": {
        "id": "E0NznwZZx56S"
      }
    },
    {
      "cell_type": "code",
      "source": [
        "data = [(1, 2), (3, 4), (1, 5)]\n",
        "unique_set = set()\n",
        "for tuple in data:\n",
        "  for item in tuple:\n",
        "    unique_set.add(item)\n",
        "print(unique_set)"
      ],
      "metadata": {
        "colab": {
          "base_uri": "https://localhost:8080/"
        },
        "id": "9MJbMC8LyMw6",
        "outputId": "70ca590c-b758-4dd8-d8d1-03714c327be3"
      },
      "execution_count": 85,
      "outputs": [
        {
          "output_type": "stream",
          "name": "stdout",
          "text": [
            "{1, 2, 3, 4, 5}\n"
          ]
        }
      ]
    },
    {
      "cell_type": "markdown",
      "source": [
        "# Q9. Count Elements in Set Greater Than K\n",
        "Given a set of numbers and a value k, count how many elements are greater than k.\n",
        "nums = {10, 15, 20, 25}, k = 18  \n",
        "Output: 2"
      ],
      "metadata": {
        "id": "DQ9IIkYKzMai"
      }
    },
    {
      "cell_type": "code",
      "source": [
        "k = int(input(\"enter a number: \"))\n",
        "nums = {10, 15, 20, 25}\n",
        "count = 0\n",
        "for item in nums:\n",
        "  if item>k:\n",
        "    count+=1\n",
        "print(count)\n"
      ],
      "metadata": {
        "colab": {
          "base_uri": "https://localhost:8080/"
        },
        "id": "PrFCUXVszXtn",
        "outputId": "8a505367-f8ad-437b-ab41-e7863ab02f3a"
      },
      "execution_count": 86,
      "outputs": [
        {
          "output_type": "stream",
          "name": "stdout",
          "text": [
            "enter a number: 18\n",
            "2\n"
          ]
        }
      ]
    },
    {
      "cell_type": "markdown",
      "source": [
        "# Q10. Word Frequency Using Sets\n",
        "Given a paragraph, print all unique words and their frequencies (Hint: use set() for uniqueness and count() or collections.Counter for frequency).\n",
        "Input: text = \"Python is easy. Python is powerful. Python is popular.\"\n",
        "Output:python: 3  \n",
        "is: 3  \n",
        "easy: 1  \n",
        "powerful: 1  \n",
        "popular: 1"
      ],
      "metadata": {
        "id": "z718iqgmz5ND"
      }
    },
    {
      "cell_type": "code",
      "source": [
        "sen = input(\"enter a sentence: \")\n",
        "sen_no_panctuation = ''.join([char for char in sen if char not in string.punctuation])\n",
        "words = sen_no_panctuation.strip().split(\" \")\n",
        "print(words)\n",
        "unique_words = set(words)\n",
        "print(unique_words)\n",
        "for word in unique_words:\n",
        "   print(f\"{word}: {words.count(word)}\")"
      ],
      "metadata": {
        "colab": {
          "base_uri": "https://localhost:8080/"
        },
        "id": "13j9lzkY08Ey",
        "outputId": "6daa8414-b79c-4826-9b99-23187fdfe4bd"
      },
      "execution_count": 92,
      "outputs": [
        {
          "output_type": "stream",
          "name": "stdout",
          "text": [
            "enter a sentence: \"Python is easy. Python is powerful. Python is popular.\"\n",
            "['Python', 'is', 'easy', 'Python', 'is', 'powerful', 'Python', 'is', 'popular']\n",
            "{'is', 'popular', 'powerful', 'Python', 'easy'}\n",
            "is: 3\n",
            "popular: 1\n",
            "powerful: 1\n",
            "Python: 3\n",
            "easy: 1\n"
          ]
        }
      ]
    }
  ]
}