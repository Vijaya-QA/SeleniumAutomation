{
  "nbformat": 4,
  "nbformat_minor": 0,
  "metadata": {
    "colab": {
      "provenance": [],
      "authorship_tag": "ABX9TyMcE0pY+A8wTHNjRWQkS8YE",
      "include_colab_link": true
    },
    "kernelspec": {
      "name": "python3",
      "display_name": "Python 3"
    },
    "language_info": {
      "name": "python"
    }
  },
  "cells": [
    {
      "cell_type": "markdown",
      "metadata": {
        "id": "view-in-github",
        "colab_type": "text"
      },
      "source": [
        "<a href=\"https://colab.research.google.com/github/Vijaya-QA/SeleniumAutomation/blob/DSML/Python_Dictionary.ipynb\" target=\"_parent\"><img src=\"https://colab.research.google.com/assets/colab-badge.svg\" alt=\"Open In Colab\"/></a>"
      ]
    },
    {
      "cell_type": "markdown",
      "source": [
        "# Easy-level Python dictionary problems\n",
        "# 1. Count Word Frequency\n",
        "Given a sentence, count the frequency of each word using a dictionary.\n",
        "sentence = \"apple banana apple orange banana apple\"\n",
        "{'apple': 3, 'banana': 2, 'orange': 1}"
      ],
      "metadata": {
        "id": "MSAl6OQoW0gC"
      }
    },
    {
      "cell_type": "code",
      "source": [
        "import string\n",
        "sen = input(\"Enter a sentence: \")\n",
        "sen_without_puctuation = \"\".join([char for char in sen if char not in string.punctuation])\n",
        "words = sen_without_puctuation.strip().split(\" \")\n",
        "print(words)\n",
        "unique_words = set(words)\n",
        "print(unique_words)\n",
        "mydict = {}\n",
        "for word in unique_words:\n",
        "  if word in words:\n",
        "    mydict.update({word:words.count(word)})\n",
        "print(mydict)\n"
      ],
      "metadata": {
        "colab": {
          "base_uri": "https://localhost:8080/"
        },
        "id": "2Km3iTWsXqr0",
        "outputId": "4c3ee4c2-7b3e-4a09-a001-966e8e21624d"
      },
      "execution_count": null,
      "outputs": [
        {
          "output_type": "stream",
          "name": "stdout",
          "text": [
            "Enter a sentence: \"apple banana apple orange banana apple\"\n",
            "['apple', 'banana', 'apple', 'orange', 'banana', 'apple']\n",
            "{'apple', 'banana', 'orange'}\n",
            "{'apple': 3, 'banana': 2, 'orange': 1}\n"
          ]
        }
      ]
    },
    {
      "cell_type": "markdown",
      "source": [
        "# 2. Add and Update Dictionary Items\n",
        "Create a dictionary with three key-value pairs. Add a new key and update one existing value.\n",
        "Original: {'name': 'Alice', 'age': 25, 'city': 'Delhi'}\n",
        "After adding: {'name': 'Alice', 'age': 25, 'city': 'Delhi', 'gender': 'female'}\n",
        "After updating: {'name': 'Alice', 'age': 26, 'city': 'Delhi', 'gender': 'female'}"
      ],
      "metadata": {
        "id": "JVj2fuF3c4tK"
      }
    },
    {
      "cell_type": "code",
      "source": [
        "original = {'name': 'Alice', 'age': 25, 'city': 'Delhi'}\n",
        "original.update({ 'gender': 'female'})\n",
        "original.update({ 'age': 26})\n",
        "print(original)"
      ],
      "metadata": {
        "colab": {
          "base_uri": "https://localhost:8080/"
        },
        "id": "fT6yqNvrdJvK",
        "outputId": "4af08613-8a7e-41f1-8732-8c646bee3a94"
      },
      "execution_count": null,
      "outputs": [
        {
          "output_type": "stream",
          "name": "stdout",
          "text": [
            "{'name': 'Alice', 'age': 26, 'city': 'Delhi', 'gender': 'female'}\n"
          ]
        }
      ]
    },
    {
      "cell_type": "code",
      "source": [
        "original = {'name': 'Alice', 'age': 25, 'city': 'Delhi'}\n",
        "original.update({ 'gender': 'female'})\n",
        "original['age'] = 26\n",
        "print(original)"
      ],
      "metadata": {
        "colab": {
          "base_uri": "https://localhost:8080/"
        },
        "id": "Hn7qkg6Dd7V4",
        "outputId": "2654e4ca-213d-4670-d972-38d07a7a8712"
      },
      "execution_count": null,
      "outputs": [
        {
          "output_type": "stream",
          "name": "stdout",
          "text": [
            "{'name': 'Alice', 'age': 26, 'city': 'Delhi', 'gender': 'female'}\n"
          ]
        }
      ]
    },
    {
      "cell_type": "markdown",
      "source": [
        "# 3. Check if Key Exists\n",
        "Check whether a given key exists in the dictionary.\n",
        "key_to_check = 'age'"
      ],
      "metadata": {
        "id": "lpq0yg5veeFi"
      }
    },
    {
      "cell_type": "code",
      "source": [
        "original = {'name': 'Alice', 'age': 25, 'city': 'Delhi'}\n",
        "if \"age\" in original.keys():\n",
        "  print(\"yes\")\n",
        "else:\n",
        "  print(\"NO\")"
      ],
      "metadata": {
        "colab": {
          "base_uri": "https://localhost:8080/"
        },
        "id": "i4_2T44Kenfq",
        "outputId": "bd47dd3f-bf31-4201-d801-be1208cf8342"
      },
      "execution_count": null,
      "outputs": [
        {
          "output_type": "stream",
          "name": "stdout",
          "text": [
            "yes\n"
          ]
        }
      ]
    },
    {
      "cell_type": "markdown",
      "source": [
        "# 4. Sum of All Values\n",
        "Given a dictionary of items and their prices, find the total sum of prices.\n",
        "items = {'apple': 50, 'banana': 20, 'orange': 30}"
      ],
      "metadata": {
        "id": "bxoObAbfe7FJ"
      }
    },
    {
      "cell_type": "code",
      "source": [
        "items = {'apple': 50, 'banana': 20, 'orange': 30}\n",
        "sum = 0\n",
        "for value in items.values():\n",
        "  #sum = sum + value\n",
        "  sum+= value\n",
        "print(sum)"
      ],
      "metadata": {
        "colab": {
          "base_uri": "https://localhost:8080/"
        },
        "id": "zD57P0hCfFpw",
        "outputId": "aa9dab71-0674-4c67-9a5d-efb8c163ecb1"
      },
      "execution_count": null,
      "outputs": [
        {
          "output_type": "stream",
          "name": "stdout",
          "text": [
            "100\n"
          ]
        }
      ]
    },
    {
      "cell_type": "markdown",
      "source": [
        "# 5. Convert Two Lists into a Dictionary\n",
        "Use two lists to create a dictionary (keys from one list, values from the other).\n",
        "keys = ['a', 'b', 'c']\n",
        "values = [1, 2, 3]"
      ],
      "metadata": {
        "id": "H1Uwey8Efjxj"
      }
    },
    {
      "cell_type": "code",
      "source": [
        "keys = ['a', 'b', 'c']\n",
        "values = [1, 2, 3]\n",
        "my_dict = {}\n",
        "for key in keys:\n",
        "  for value in values:\n",
        "     my_dict.update({keys[key] : values[value]})\n",
        "print(my_dict)"
      ],
      "metadata": {
        "colab": {
          "base_uri": "https://localhost:8080/",
          "height": 193
        },
        "id": "wts1uAyzfuG7",
        "outputId": "a6c7b529-8d5b-45e7-d948-cea8f3adf810"
      },
      "execution_count": null,
      "outputs": [
        {
          "output_type": "error",
          "ename": "TypeError",
          "evalue": "list indices must be integers or slices, not str",
          "traceback": [
            "\u001b[0;31m---------------------------------------------------------------------------\u001b[0m",
            "\u001b[0;31mTypeError\u001b[0m                                 Traceback (most recent call last)",
            "\u001b[0;32m<ipython-input-25-207781281>\u001b[0m in \u001b[0;36m<cell line: 0>\u001b[0;34m()\u001b[0m\n\u001b[1;32m      4\u001b[0m \u001b[0;32mfor\u001b[0m \u001b[0mkey\u001b[0m \u001b[0;32min\u001b[0m \u001b[0mkeys\u001b[0m\u001b[0;34m:\u001b[0m\u001b[0;34m\u001b[0m\u001b[0;34m\u001b[0m\u001b[0m\n\u001b[1;32m      5\u001b[0m   \u001b[0;32mfor\u001b[0m \u001b[0mvalue\u001b[0m \u001b[0;32min\u001b[0m \u001b[0mvalues\u001b[0m\u001b[0;34m:\u001b[0m\u001b[0;34m\u001b[0m\u001b[0;34m\u001b[0m\u001b[0m\n\u001b[0;32m----> 6\u001b[0;31m      \u001b[0mmy_dict\u001b[0m\u001b[0;34m.\u001b[0m\u001b[0mupdate\u001b[0m\u001b[0;34m(\u001b[0m\u001b[0;34m{\u001b[0m\u001b[0mkeys\u001b[0m\u001b[0;34m[\u001b[0m\u001b[0mkey\u001b[0m\u001b[0;34m]\u001b[0m \u001b[0;34m:\u001b[0m \u001b[0mvalues\u001b[0m\u001b[0;34m[\u001b[0m\u001b[0mvalue\u001b[0m\u001b[0;34m]\u001b[0m\u001b[0;34m}\u001b[0m\u001b[0;34m)\u001b[0m\u001b[0;34m\u001b[0m\u001b[0;34m\u001b[0m\u001b[0m\n\u001b[0m\u001b[1;32m      7\u001b[0m \u001b[0mprint\u001b[0m\u001b[0;34m(\u001b[0m\u001b[0mmy_dict\u001b[0m\u001b[0;34m)\u001b[0m\u001b[0;34m\u001b[0m\u001b[0;34m\u001b[0m\u001b[0m\n",
            "\u001b[0;31mTypeError\u001b[0m: list indices must be integers or slices, not str"
          ]
        }
      ]
    },
    {
      "cell_type": "code",
      "source": [
        "keys = ['a', 'b', 'c']\n",
        "values = [1, 2, 3]\n",
        "my_dict = {}\n",
        "for key in keys:\n",
        "  my_dict+=key\n",
        "  #for value in values:\n",
        "    # my_dict.update({key : value})\n",
        "print(my_dict)"
      ],
      "metadata": {
        "colab": {
          "base_uri": "https://localhost:8080/",
          "height": 211
        },
        "id": "g7g9huANhK06",
        "outputId": "82ad21f5-6d3d-4121-92bc-e95d24b3e33d"
      },
      "execution_count": null,
      "outputs": [
        {
          "output_type": "error",
          "ename": "TypeError",
          "evalue": "unsupported operand type(s) for +=: 'dict' and 'str'",
          "traceback": [
            "\u001b[0;31m---------------------------------------------------------------------------\u001b[0m",
            "\u001b[0;31mTypeError\u001b[0m                                 Traceback (most recent call last)",
            "\u001b[0;32m<ipython-input-27-3939252001>\u001b[0m in \u001b[0;36m<cell line: 0>\u001b[0;34m()\u001b[0m\n\u001b[1;32m      3\u001b[0m \u001b[0mmy_dict\u001b[0m \u001b[0;34m=\u001b[0m \u001b[0;34m{\u001b[0m\u001b[0;34m}\u001b[0m\u001b[0;34m\u001b[0m\u001b[0;34m\u001b[0m\u001b[0m\n\u001b[1;32m      4\u001b[0m \u001b[0;32mfor\u001b[0m \u001b[0mkey\u001b[0m \u001b[0;32min\u001b[0m \u001b[0mkeys\u001b[0m\u001b[0;34m:\u001b[0m\u001b[0;34m\u001b[0m\u001b[0;34m\u001b[0m\u001b[0m\n\u001b[0;32m----> 5\u001b[0;31m   \u001b[0mmy_dict\u001b[0m\u001b[0;34m+=\u001b[0m\u001b[0mkey\u001b[0m\u001b[0;34m\u001b[0m\u001b[0;34m\u001b[0m\u001b[0m\n\u001b[0m\u001b[1;32m      6\u001b[0m   \u001b[0;31m#for value in values:\u001b[0m\u001b[0;34m\u001b[0m\u001b[0;34m\u001b[0m\u001b[0m\n\u001b[1;32m      7\u001b[0m     \u001b[0;31m# my_dict.update({key : value})\u001b[0m\u001b[0;34m\u001b[0m\u001b[0;34m\u001b[0m\u001b[0m\n",
            "\u001b[0;31mTypeError\u001b[0m: unsupported operand type(s) for +=: 'dict' and 'str'"
          ]
        }
      ]
    },
    {
      "cell_type": "code",
      "source": [
        "keys = ['a', 'b', 'c']\n",
        "values = [1, 2, 3]\n",
        "my_dict = {}\n",
        "for i in range(len(keys)):\n",
        "    my_dict[keys[i]] = values[i]\n",
        "print(my_dict)"
      ],
      "metadata": {
        "colab": {
          "base_uri": "https://localhost:8080/"
        },
        "id": "WiyorjlVil3C",
        "outputId": "cbc2666e-04b0-4ec1-81df-d30fe98a792d"
      },
      "execution_count": null,
      "outputs": [
        {
          "output_type": "stream",
          "name": "stdout",
          "text": [
            "{'a': 1, 'b': 2, 'c': 3}\n"
          ]
        }
      ]
    },
    {
      "cell_type": "markdown",
      "source": [
        "# 6. Merge Two Dictionaries\n",
        "Merge two dictionaries into one.\n",
        "dict1 = {'a': 1, 'b': 2}\n",
        "dict2 = {'c': 3, 'd': 4}\n",
        "{'a': 1, 'b': 2, 'c': 3, 'd': 4}"
      ],
      "metadata": {
        "id": "MZTezFDHjGcS"
      }
    },
    {
      "cell_type": "code",
      "source": [
        "dict1 = {'a': 1, 'b': 2}\n",
        "dict2 = {'c': 3, 'd': 4}\n",
        "for key, value in dict2.items():\n",
        "  dict1.update({key:value})\n",
        "print(dict1)"
      ],
      "metadata": {
        "colab": {
          "base_uri": "https://localhost:8080/"
        },
        "id": "36sAovjMjVtp",
        "outputId": "33154528-8bc8-491c-a2b8-eafd1f262706"
      },
      "execution_count": null,
      "outputs": [
        {
          "output_type": "stream",
          "name": "stdout",
          "text": [
            "{'a': 1, 'b': 2, 'c': 3, 'd': 4}\n"
          ]
        }
      ]
    },
    {
      "cell_type": "markdown",
      "source": [
        "# 7. Get Only Keys or Values\n",
        "Print all keys and all values separately from a dictionary.\n",
        "d = {'x': 10, 'y': 20, 'z': 30}\n",
        "Keys: ['x', 'y', 'z']\n",
        "Values: [10, 20, 30]"
      ],
      "metadata": {
        "id": "qXwUDdVIkIwa"
      }
    },
    {
      "cell_type": "code",
      "source": [
        "d = {'x': 10, 'y': 20, 'z': 30}\n",
        "keys_dict = d.keys()\n",
        "values_dict = d.values()\n",
        "keys = {}\n",
        "for i in range(len(keys_dict)):\n",
        "  keys.update({\"keys\" : keys_dict[i]})\n",
        "print(keys)\n",
        "\n",
        "\n",
        "\n",
        "\n"
      ],
      "metadata": {
        "colab": {
          "base_uri": "https://localhost:8080/",
          "height": 211
        },
        "id": "blAPJgcQkTlA",
        "outputId": "5712151a-781d-4665-a3d9-f0bc8ebb315b"
      },
      "execution_count": null,
      "outputs": [
        {
          "output_type": "error",
          "ename": "TypeError",
          "evalue": "'dict_keys' object is not subscriptable",
          "traceback": [
            "\u001b[0;31m---------------------------------------------------------------------------\u001b[0m",
            "\u001b[0;31mTypeError\u001b[0m                                 Traceback (most recent call last)",
            "\u001b[0;32m<ipython-input-41-2795882518>\u001b[0m in \u001b[0;36m<cell line: 0>\u001b[0;34m()\u001b[0m\n\u001b[1;32m      4\u001b[0m \u001b[0mkeys\u001b[0m \u001b[0;34m=\u001b[0m \u001b[0;34m{\u001b[0m\u001b[0;34m}\u001b[0m\u001b[0;34m\u001b[0m\u001b[0;34m\u001b[0m\u001b[0m\n\u001b[1;32m      5\u001b[0m \u001b[0;32mfor\u001b[0m \u001b[0mi\u001b[0m \u001b[0;32min\u001b[0m \u001b[0mrange\u001b[0m\u001b[0;34m(\u001b[0m\u001b[0mlen\u001b[0m\u001b[0;34m(\u001b[0m\u001b[0mkeys_dict\u001b[0m\u001b[0;34m)\u001b[0m\u001b[0;34m)\u001b[0m\u001b[0;34m:\u001b[0m\u001b[0;34m\u001b[0m\u001b[0;34m\u001b[0m\u001b[0m\n\u001b[0;32m----> 6\u001b[0;31m   \u001b[0mkeys\u001b[0m\u001b[0;34m.\u001b[0m\u001b[0mupdate\u001b[0m\u001b[0;34m(\u001b[0m\u001b[0;34m{\u001b[0m\u001b[0;34m\"keys\"\u001b[0m \u001b[0;34m:\u001b[0m \u001b[0mkeys_dict\u001b[0m\u001b[0;34m[\u001b[0m\u001b[0mi\u001b[0m\u001b[0;34m]\u001b[0m\u001b[0;34m}\u001b[0m\u001b[0;34m)\u001b[0m\u001b[0;34m\u001b[0m\u001b[0;34m\u001b[0m\u001b[0m\n\u001b[0m\u001b[1;32m      7\u001b[0m \u001b[0mprint\u001b[0m\u001b[0;34m(\u001b[0m\u001b[0mkeys\u001b[0m\u001b[0;34m)\u001b[0m\u001b[0;34m\u001b[0m\u001b[0;34m\u001b[0m\u001b[0m\n\u001b[1;32m      8\u001b[0m \u001b[0;34m\u001b[0m\u001b[0m\n",
            "\u001b[0;31mTypeError\u001b[0m: 'dict_keys' object is not subscriptable"
          ]
        }
      ]
    },
    {
      "cell_type": "code",
      "source": [
        "d = {'x': 10, 'y': 20, 'z': 30}\n",
        "dkeys = d.keys()\n",
        "dvalues = d.values()\n",
        "keys = list(dkeys)\n",
        "values = list(dvalues)\n",
        "print(\"keys:\", keys)\n",
        "print(\"values:\", values)"
      ],
      "metadata": {
        "colab": {
          "base_uri": "https://localhost:8080/"
        },
        "id": "DEvVRjyKoVok",
        "outputId": "d1d91562-694c-463f-82cf-a3699fd50256"
      },
      "execution_count": null,
      "outputs": [
        {
          "output_type": "stream",
          "name": "stdout",
          "text": [
            "keys: ['x', 'y', 'z']\n",
            "values: [10, 20, 30]\n"
          ]
        }
      ]
    },
    {
      "cell_type": "markdown",
      "source": [
        "# 8.Create a Dictionary from User Input\n",
        "Ask the user for 3 keys and values, and create a dictionary.\n",
        "Enter key: name\n",
        "Enter value: Alice"
      ],
      "metadata": {
        "id": "ZbIBvhQQo3uK"
      }
    },
    {
      "cell_type": "code",
      "source": [
        "keys = []\n",
        "values = []\n",
        "for i in range(3):\n",
        "  keys.append(input(\"Enter key: \"))\n",
        "  values.append(input(\"Enter value: \"))\n",
        "mydict = {}\n",
        "for i in range(len(keys)):\n",
        "  mydict.update({keys[i] : values[i]})\n",
        "print(mydict)\n"
      ],
      "metadata": {
        "colab": {
          "base_uri": "https://localhost:8080/"
        },
        "id": "aWPiZRhCtnsh",
        "outputId": "a3bd2f46-cbb1-47e7-9cfa-1b339fd33309"
      },
      "execution_count": null,
      "outputs": [
        {
          "output_type": "stream",
          "name": "stdout",
          "text": [
            "Enter key: name\n",
            "Enter value: ford\n",
            "Enter key: age\n",
            "Enter value: 30\n",
            "Enter key: year\n",
            "Enter value: 1985\n",
            "{'name': 'ford', 'age': '30', 'year': '1985'}\n"
          ]
        }
      ]
    },
    {
      "cell_type": "markdown",
      "source": [
        "# 9. Count Frequency of Characters\n",
        "Count how many times each character appears in a string.\n",
        "{'b': 1, 'a': 3, 'n': 2}"
      ],
      "metadata": {
        "id": "mAXUD-W7wr-t"
      }
    },
    {
      "cell_type": "code",
      "source": [
        "string = input(\"enter a string: \")\n",
        "letters = list(string)\n",
        "unique_letters = set(letters)\n",
        "mydict = {}\n",
        "for letter in unique_letters:\n",
        "  if letter in letters:\n",
        "    mydict.update({letter : letters.count(letter)})\n",
        "print(mydict)\n"
      ],
      "metadata": {
        "colab": {
          "base_uri": "https://localhost:8080/"
        },
        "id": "L9ubjS6Dw_Gm",
        "outputId": "7bd83e6d-dac2-4fe3-9f32-6159dc18c3bc"
      },
      "execution_count": null,
      "outputs": [
        {
          "output_type": "stream",
          "name": "stdout",
          "text": [
            "enter a string: banana\n",
            "{'n': 2, 'a': 3, 'b': 1}\n"
          ]
        }
      ]
    },
    {
      "cell_type": "markdown",
      "source": [
        "# 10.Find the Maximum Value\n",
        "data = {'a': 5, 'b': 8, 'c': 2}\n",
        "Maximum value: 8"
      ],
      "metadata": {
        "id": "LyLO-ZQoyIGi"
      }
    },
    {
      "cell_type": "code",
      "source": [
        "data = {'a': 5, 'b': 8, 'c': 2}\n",
        "dvalues = data.values()\n",
        "values = list(dvalues)\n",
        "print(max(values))"
      ],
      "metadata": {
        "colab": {
          "base_uri": "https://localhost:8080/"
        },
        "id": "NKLYin32y1EG",
        "outputId": "21a10fad-2b31-4f85-8d0d-3bf7a76caa2d"
      },
      "execution_count": null,
      "outputs": [
        {
          "output_type": "stream",
          "name": "stdout",
          "text": [
            "8\n"
          ]
        }
      ]
    },
    {
      "cell_type": "markdown",
      "source": [
        "# medium-level Python dictionary questions\n",
        "# 1. Group Words by Their First Letter\n",
        "Given a list of words, group them by their starting letter using a dictionary.\n",
        "words = ['apple', 'banana', 'apricot', 'cherry', 'blueberry']\n",
        "{\n",
        " 'a': ['apple', 'apricot'],\n",
        " 'b': ['banana', 'blueberry'],\n",
        " 'c': ['cherry']\n",
        "}"
      ],
      "metadata": {
        "id": "ALiAOuxeaida"
      }
    },
    {
      "cell_type": "code",
      "source": [
        "words = ['apple', 'banana', 'apricot', 'cherry', 'blueberry']\n",
        "myset = set()\n",
        "for word in words:\n",
        "  myset.add(word[0])\n",
        "print(myset)\n",
        "a_words = []\n",
        "b_word = []\n",
        "c_word = []\n",
        "for letter in myset:\n",
        "  for word in words:\n",
        "    if letter == word[0]:\n",
        "\n"
      ],
      "metadata": {
        "colab": {
          "base_uri": "https://localhost:8080/"
        },
        "id": "YR3JvkLVa1fB",
        "outputId": "407a1062-71f6-426e-866b-c07a93c47c73"
      },
      "execution_count": null,
      "outputs": [
        {
          "output_type": "stream",
          "name": "stdout",
          "text": [
            "{'b', 'c', 'a'}\n"
          ]
        }
      ]
    },
    {
      "cell_type": "code",
      "source": [
        "words = ['apple', 'banana', 'apricot', 'cherry', 'blueberry']\n",
        "grouped_words = {}\n",
        "for word in words:\n",
        "  first_letter = word[0]\n",
        "  if first_letter in grouped_words:\n",
        "    grouped_words[first_letter].append(word)\n",
        "  else:\n",
        "    grouped_words[first_letter] = [word]    #You use [word] to create a list containing one item (word).\n",
        "\n",
        "                                            #This allows future words to be appended to that list under the same key.\n",
        "print(grouped_words)"
      ],
      "metadata": {
        "colab": {
          "base_uri": "https://localhost:8080/"
        },
        "id": "WHV0Ki_XdTzS",
        "outputId": "384616bb-b622-4107-d31c-43cb23784547"
      },
      "execution_count": null,
      "outputs": [
        {
          "output_type": "stream",
          "name": "stdout",
          "text": [
            "{'a': ['apple', 'apricot'], 'b': ['banana', 'blueberry'], 'c': ['cherry']}\n"
          ]
        }
      ]
    },
    {
      "cell_type": "code",
      "source": [
        "words = ['apple', 'banana', 'apricot', 'cherry', 'blueberry']\n",
        "\n",
        "grouped_words = {}\n",
        "\n",
        "for word in words:\n",
        "    first_letter = word[0]\n",
        "    if first_letter in grouped_words:\n",
        "        grouped_words[first_letter].append(word)\n",
        "    else:\n",
        "        grouped_words[first_letter] = [word]\n",
        "\n",
        "print(grouped_words)"
      ],
      "metadata": {
        "colab": {
          "base_uri": "https://localhost:8080/"
        },
        "id": "sktl5W2peiql",
        "outputId": "3ae92a27-2f6d-4f4b-c24e-c568534a41d8"
      },
      "execution_count": null,
      "outputs": [
        {
          "output_type": "stream",
          "name": "stdout",
          "text": [
            "{'a': ['apple', 'apricot'], 'b': ['banana', 'blueberry'], 'c': ['cherry']}\n"
          ]
        }
      ]
    },
    {
      "cell_type": "markdown",
      "source": [
        "# 2. Find the Key with the Maximum Value\n",
        "Given a dictionary of item prices, find the item with the highest price.\n",
        "prices = {'apple': 50, 'banana': 20, 'mango': 80}\n",
        "mango"
      ],
      "metadata": {
        "id": "p5Vgiu5SkUP5"
      }
    },
    {
      "cell_type": "code",
      "source": [
        "prices = {'apple': 50, 'banana': 20, 'mango': 80}\n",
        "price_values = prices.values()\n",
        "max_price = max(price_values)\n",
        "item = prices[max_price]\n",
        "print(item)"
      ],
      "metadata": {
        "colab": {
          "base_uri": "https://localhost:8080/",
          "height": 193
        },
        "id": "zPJelhRZkqJD",
        "outputId": "9380e4ea-1040-46ac-d28c-9c630b3ee2e8"
      },
      "execution_count": null,
      "outputs": [
        {
          "output_type": "error",
          "ename": "KeyError",
          "evalue": "80",
          "traceback": [
            "\u001b[0;31m---------------------------------------------------------------------------\u001b[0m",
            "\u001b[0;31mKeyError\u001b[0m                                  Traceback (most recent call last)",
            "\u001b[0;32m<ipython-input-8-3897341443>\u001b[0m in \u001b[0;36m<cell line: 0>\u001b[0;34m()\u001b[0m\n\u001b[1;32m      2\u001b[0m \u001b[0mprice_values\u001b[0m \u001b[0;34m=\u001b[0m \u001b[0mprices\u001b[0m\u001b[0;34m.\u001b[0m\u001b[0mvalues\u001b[0m\u001b[0;34m(\u001b[0m\u001b[0;34m)\u001b[0m\u001b[0;34m\u001b[0m\u001b[0;34m\u001b[0m\u001b[0m\n\u001b[1;32m      3\u001b[0m \u001b[0mmax_price\u001b[0m \u001b[0;34m=\u001b[0m \u001b[0mmax\u001b[0m\u001b[0;34m(\u001b[0m\u001b[0mprice_values\u001b[0m\u001b[0;34m)\u001b[0m\u001b[0;34m\u001b[0m\u001b[0;34m\u001b[0m\u001b[0m\n\u001b[0;32m----> 4\u001b[0;31m \u001b[0mitem\u001b[0m \u001b[0;34m=\u001b[0m \u001b[0mprices\u001b[0m\u001b[0;34m[\u001b[0m\u001b[0mmax_price\u001b[0m\u001b[0;34m]\u001b[0m\u001b[0;34m\u001b[0m\u001b[0;34m\u001b[0m\u001b[0m\n\u001b[0m\u001b[1;32m      5\u001b[0m \u001b[0mprint\u001b[0m\u001b[0;34m(\u001b[0m\u001b[0mitem\u001b[0m\u001b[0;34m)\u001b[0m\u001b[0;34m\u001b[0m\u001b[0;34m\u001b[0m\u001b[0m\n",
            "\u001b[0;31mKeyError\u001b[0m: 80"
          ]
        }
      ]
    },
    {
      "cell_type": "code",
      "source": [
        "prices = {'apple': 50, 'banana': 20, 'mango': 80}\n",
        "max_price = max(prices.values())\n",
        "for key, value in prices.items():\n",
        "  if value == max_price:\n",
        "    print(f\"{key}\")\n",
        "    break\n"
      ],
      "metadata": {
        "colab": {
          "base_uri": "https://localhost:8080/"
        },
        "id": "9MfdVJJFl4G0",
        "outputId": "a9f0d944-2c87-42ba-b787-6a8660a2d418"
      },
      "execution_count": null,
      "outputs": [
        {
          "output_type": "stream",
          "name": "stdout",
          "text": [
            "mango\n"
          ]
        }
      ]
    },
    {
      "cell_type": "markdown",
      "source": [
        "# 3. Count Frequency of Words in a Paragraph (Case-Insensitive)\n",
        "text = \"Apple banana apple. Banana? apple!\"\n",
        "{'apple': 3, 'banana': 2}"
      ],
      "metadata": {
        "id": "NiZJ6lHWmXl6"
      }
    },
    {
      "cell_type": "code",
      "source": [
        "import string\n",
        "text = \"Apple banana apple. Banana? apple!\"\n",
        "text_without_punctuation = \"\".join([char for char in text if char not in string.punctuation])\n",
        "words = text_without_punctuation.lower().split(\" \")\n",
        "unique_words = set(words)\n",
        "myset = {}\n",
        "count=1\n",
        "for word in unique_words:\n",
        "  if word in words:\n",
        "    count+=1\n",
        "  myset[word]=count\n",
        "print(myset)\n",
        "\n",
        "\n"
      ],
      "metadata": {
        "colab": {
          "base_uri": "https://localhost:8080/"
        },
        "id": "qBpHh_2umuH7",
        "outputId": "505a6991-0e52-412e-d046-3f05490487f5"
      },
      "execution_count": null,
      "outputs": [
        {
          "output_type": "stream",
          "name": "stdout",
          "text": [
            "{'apple': 2, 'banana': 3}\n"
          ]
        }
      ]
    },
    {
      "cell_type": "markdown",
      "source": [
        "# 4. Swap Keys and Values\n",
        "d = {'a': 1, 'b': 2, 'c': 3}\n",
        "o/p:{1: 'a', 2: 'b', 3: 'c'}"
      ],
      "metadata": {
        "id": "PEhgLrtB2j5p"
      }
    },
    {
      "cell_type": "code",
      "source": [
        "d = {'a': 1, 'b': 2, 'c': 3}\n",
        "mykeys = list(d.keys())\n",
        "myvalues = list(d.values())\n",
        "mydict = {}\n",
        "for i in range(len(myvalues)):\n",
        "  mydict.update({myvalues[i] : mykeys[i]})\n",
        "print(mydict)\n"
      ],
      "metadata": {
        "colab": {
          "base_uri": "https://localhost:8080/"
        },
        "id": "ZEsAhHsH2zQ3",
        "outputId": "8f9135d1-0890-4bca-8451-38c0baf3331d"
      },
      "execution_count": null,
      "outputs": [
        {
          "output_type": "stream",
          "name": "stdout",
          "text": [
            "{1: 'a', 2: 'b', 3: 'c'}\n"
          ]
        }
      ]
    },
    {
      "cell_type": "markdown",
      "source": [
        "# 5. Merge Two Dictionaries and Add Values for Common Keys\n",
        "d1 = {'a': 100, 'b': 200, 'c': 300}\n",
        "d2 = {'a': 300, 'b': 200, 'd': 400}\n",
        "o/p:{'a': 400, 'b': 400, 'c': 300, 'd': 400}"
      ],
      "metadata": {
        "id": "eHnB8C0R4asv"
      }
    },
    {
      "cell_type": "code",
      "source": [
        "d1 = {'a': 100, 'b': 200, 'c': 300}\n",
        "d2 = {'a': 300, 'b': 200, 'd': 400}\n",
        "d1keys = list(d1.keys())\n",
        "merged_dict = {}\n",
        "for key in d1keys:\n",
        "  if key in d2:\n",
        "    merged_dict[key]= (d1[key] + d2[key])\n",
        "  else:\n",
        "    merged_dict.update({key:value})\n",
        "print(merged_dict)\n",
        "\n",
        "\n",
        "\n",
        "\n"
      ],
      "metadata": {
        "colab": {
          "base_uri": "https://localhost:8080/"
        },
        "id": "Jjuo-s8O4oqP",
        "outputId": "5ba25207-e55f-49c2-9c89-6b33cc52fa05"
      },
      "execution_count": null,
      "outputs": [
        {
          "output_type": "stream",
          "name": "stdout",
          "text": [
            "{'a': 400, 'b': 400, 'c': 80}\n"
          ]
        }
      ]
    },
    {
      "cell_type": "code",
      "source": [
        "d1 = {'a': 100, 'b': 200, 'c': 300}\n",
        "d2 = {'a': 300, 'b': 200, 'd': 400}\n",
        "\n",
        "merged_dict = {}\n",
        "\n",
        "for key in d1:  #covered all keys in d1\n",
        "   if key in d2:\n",
        "     merged_dict[key] = (d1[key] + d2[key])\n",
        "   else:\n",
        "      merged_dict[key] = d1[key]\n",
        "\n",
        "#for any extra keys in d2 whih are not in d1\n",
        "for key in d2:\n",
        "  if key not in d1:\n",
        "    merged_dict[key] = d2[key]\n",
        "\n",
        "print(merged_dict)\n"
      ],
      "metadata": {
        "colab": {
          "base_uri": "https://localhost:8080/"
        },
        "id": "-JLG4Gel-rN_",
        "outputId": "70adc53c-867f-48d9-86b7-d190869a1a2b"
      },
      "execution_count": null,
      "outputs": [
        {
          "output_type": "stream",
          "name": "stdout",
          "text": [
            "{'a': 400, 'b': 400, 'c': 300, 'd': 400}\n"
          ]
        }
      ]
    },
    {
      "cell_type": "markdown",
      "source": [
        "# 6. Nested Dictionary: Access and Update\n",
        "student = {\n",
        "  'name': 'Alice',\n",
        "  'grades': {'math': 90, 'science': 85}\n",
        "}\n",
        "o/p:{'name': 'Alice', 'grades': {'math': 90, 'science': 95}}"
      ],
      "metadata": {
        "id": "8RiyTXT6IEy6"
      }
    },
    {
      "cell_type": "code",
      "source": [
        "student = {\n",
        "  'name': 'Alice',\n",
        "  'grades': {'math': 90, 'science': 85}\n",
        "}\n",
        "student['grades']['science'] = 95\n",
        "print(student)"
      ],
      "metadata": {
        "colab": {
          "base_uri": "https://localhost:8080/"
        },
        "id": "gOxXc8a8I7a-",
        "outputId": "517e6de5-38f6-4744-9b77-c22c2f1a6718"
      },
      "execution_count": 2,
      "outputs": [
        {
          "output_type": "stream",
          "name": "stdout",
          "text": [
            "{'name': 'Alice', 'grades': {'math': 90, 'science': 95}}\n"
          ]
        }
      ]
    },
    {
      "cell_type": "markdown",
      "source": [
        "# 7. Create a Dictionary from Two Lists, But Only Include Even Values\n",
        "keys = ['a', 'b', 'c', 'd']\n",
        "values = [2, 5, 8, 11]\n",
        "o/p:{'a': 2, 'c': 8}"
      ],
      "metadata": {
        "id": "jpJ3RIEIJTVF"
      }
    },
    {
      "cell_type": "code",
      "source": [
        "keys = ['a', 'b', 'c', 'd']\n",
        "values = [2, 5, 8, 11]\n",
        "\n",
        "temp_dict = {}\n",
        "\n",
        "for i in range(len(keys)):\n",
        "  temp_dict[keys[i]] = values[i]\n",
        "print(temp_dict)\n",
        "\n",
        "even_values_dict = {key:value for key,value in temp_dict.items() if value%2==0}\n",
        "\n",
        "print(even_values_dict)\n",
        "\n",
        "\n",
        "\n"
      ],
      "metadata": {
        "colab": {
          "base_uri": "https://localhost:8080/"
        },
        "id": "QLzUgpt0JgEo",
        "outputId": "d1e818e6-1896-4141-c050-484ac0218986"
      },
      "execution_count": 5,
      "outputs": [
        {
          "output_type": "stream",
          "name": "stdout",
          "text": [
            "{'a': 2, 'b': 5, 'c': 8, 'd': 11}\n",
            "{'a': 2, 'c': 8}\n"
          ]
        }
      ]
    },
    {
      "cell_type": "markdown",
      "source": [
        "# 8. Create a Dictionary from Two Lists, But Only Include Even Values\n",
        "data = {'a': 5, 'b': 2, 'c': 8}\n",
        "o/p:{'b': 2, 'a': 5, 'c': 8}"
      ],
      "metadata": {
        "id": "O2Nd1TSSMql9"
      }
    },
    {
      "cell_type": "code",
      "source": [
        "data = {'a': 5, 'b': 2, 'c': 8}\n",
        "keys = list(data.keys())\n",
        "values = list(data.values())\n",
        "\n",
        "print(keys)\n",
        "print(values)\n",
        "\n",
        "for i in range(len(values)):\n",
        "  for j in range(i+1, len(values)):\n",
        "    if values[i]>values[j]:\n",
        "      values[i], values[j] = values[j], values[i]\n",
        "      keys[i], keys[j] = keys[j], keys[i]\n",
        "\n",
        "sorted_dict = {}\n",
        "for i in range(len(keys)):\n",
        "  sorted_dict[keys[i]] = values[i]\n",
        "\n",
        "print(sorted_dict)"
      ],
      "metadata": {
        "colab": {
          "base_uri": "https://localhost:8080/"
        },
        "id": "Nu9PFImzM8gU",
        "outputId": "f6a6dc5e-600f-4013-98a2-b2b572e82f17"
      },
      "execution_count": 11,
      "outputs": [
        {
          "output_type": "stream",
          "name": "stdout",
          "text": [
            "['a', 'b', 'c']\n",
            "[5, 2, 8]\n",
            "{'b': 2, 'a': 5, 'c': 8}\n"
          ]
        }
      ]
    }
  ]
}